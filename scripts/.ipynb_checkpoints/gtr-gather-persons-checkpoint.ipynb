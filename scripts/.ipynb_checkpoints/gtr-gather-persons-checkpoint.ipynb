{
 "cells": [
  {
   "cell_type": "markdown",
   "metadata": {},
   "source": [
    "# Get All persons in GTR\n",
    "\n",
    "This script gathers all of the persons endpoint data in the gtr database.\n",
    "Results are stored in a Postgres database as json entries.\n",
    "\n",
    "First, import the relevant packages (gtr can be found at https://github.com/nestauk/gtr)."
   ]
  },
  {
   "cell_type": "code",
   "execution_count": null,
   "metadata": {
    "collapsed": false
   },
   "outputs": [],
   "source": [
    "import gtr\n",
    "import json\n",
    "import sqlalchemy\n",
    "import time\n",
    "\n",
    "from sqlalchemy import Column, Integer, schema, Text  \n",
    "from sqlalchemy.dialects.postgresql import JSON, JSONB\n",
    "from sqlalchemy.ext.declarative import declarative_base  \n",
    "from sqlalchemy.orm import sessionmaker"
   ]
  },
  {
   "cell_type": "code",
   "execution_count": null,
   "metadata": {
    "collapsed": false
   },
   "outputs": [],
   "source": [
    "Base = declarative_base()  \n",
    "class Person(Base):  \n",
    "    \"\"\"Define the Person object schema\"\"\"\n",
    "    __tablename__ = 'persons'\n",
    "    __table_args__ = {\"schema\": \"gtr\"}\n",
    "    id = Column(Text, primary_key=True)\n",
    "    name = Column(Text)\n",
    "    doc = Column(JSONB)"
   ]
  },
  {
   "cell_type": "code",
   "execution_count": null,
   "metadata": {
    "collapsed": true
   },
   "outputs": [],
   "source": [
    "def rate_limited(maxPerSecond):\n",
    "    \"\"\"Create a rate_limited decorator that liits function calls to x per second\"\"\"\n",
    "    minInterval = 1.0 / float(maxPerSecond)\n",
    "    def decorate(func):\n",
    "        lastTimeCalled = [0.0]\n",
    "        def rateLimitedFunction(*args,**kargs):\n",
    "            elapsed = time.clock() - lastTimeCalled[0]\n",
    "            leftToWait = minInterval - elapsed\n",
    "            if leftToWait>0:\n",
    "                time.sleep(leftToWait)\n",
    "            ret = func(*args,**kargs)\n",
    "            lastTimeCalled[0] = time.clock()\n",
    "            return ret\n",
    "        return rateLimitedFunction\n",
    "    return decorate"
   ]
  },
  {
   "cell_type": "code",
   "execution_count": null,
   "metadata": {
    "collapsed": false
   },
   "outputs": [],
   "source": [
    "@rate_limited(2)\n",
    "def add_persons_to_db(data):\n",
    "    \"\"\"Loops through JSON and appends a new Person object to a list\n",
    "    based on their key.\n",
    "    \"\"\"\n",
    "    session = SessionFactory()\n",
    "    user_list = []\n",
    "    for person in data:\n",
    "        id=person[\"id\"]\n",
    "        name=\" \".join([person[\"firstName\"], person[\"surname\"]])\n",
    "        doc={\"data\": {\"href\": person[\"href\"], \"links\": person[\"links\"]}}\n",
    "        user_list.append(Person(id=id,\n",
    "                                name=name,\n",
    "                                doc=doc))\n",
    "\n",
    "    [session.add(person) for person in user_list]\n",
    "    session.commit()"
   ]
  },
  {
   "cell_type": "code",
   "execution_count": null,
   "metadata": {
    "collapsed": true
   },
   "outputs": [],
   "source": [
    "connection_string = 'postgresql://james:@localhost:5432/arloesiadur'\n",
    "db = sqlalchemy.create_engine(connection_string)\n",
    "engine = db.connect()\n",
    "meta = sqlalchemy.MetaData(engine, schema=\"gtr\")"
   ]
  },
  {
   "cell_type": "code",
   "execution_count": null,
   "metadata": {
    "collapsed": false
   },
   "outputs": [],
   "source": [
    "# Define a new table schema\n",
    "sqlalchemy.Table(\"persons\", meta,                       \n",
    "                Column('id', Text, primary_key=True),\n",
    "                Column('name', Text),\n",
    "                Column('doc', JSONB))\n",
    "\n",
    "\n",
    "meta.create_all()    # Create the table if it doesn't exist"
   ]
  },
  {
   "cell_type": "code",
   "execution_count": null,
   "metadata": {
    "collapsed": false
   },
   "outputs": [],
   "source": [
    "SessionFactory = sessionmaker(engine)    # New SessionFactory object\n",
    "Base.metadata.create_all(engine)         # Create a table if doesn't exist using declaritive_base()\n",
    "                                         # which is aware of the Person class"
   ]
  },
  {
   "cell_type": "code",
   "execution_count": null,
   "metadata": {
    "collapsed": false
   },
   "outputs": [],
   "source": [
    "s = gtr.Persons()                             # Create a Persons object\n",
    "results = s.persons(\"\", s=100)                # Get the first page of results using max items per page\n",
    "total_pages = results.json()[\"totalPages\"]    # Total number of pages to loop through\n",
    "data = results.json()[\"person\"]               # Save the returned JSON to data\n",
    "add_persons_to_db(data)                       # Add the returned data to the DB"
   ]
  },
  {
   "cell_type": "code",
   "execution_count": null,
   "metadata": {
    "collapsed": false
   },
   "outputs": [],
   "source": [
    "page = 0\n",
    "while page <= total_pages:\n",
    "    results = s.persons(\"\", s=100, p=page)\n",
    "    data = results.json()[\"person\"]\n",
    "    add_persons_to_db(data) \n",
    "    page +=1"
   ]
  }
 ],
 "metadata": {
  "kernelspec": {
   "display_name": "Python 3",
   "language": "python",
   "name": "python3"
  },
  "language_info": {
   "codemirror_mode": {
    "name": "ipython",
    "version": 3
   },
   "file_extension": ".py",
   "mimetype": "text/x-python",
   "name": "python",
   "nbconvert_exporter": "python",
   "pygments_lexer": "ipython3",
   "version": "3.5.1"
  }
 },
 "nbformat": 4,
 "nbformat_minor": 0
}

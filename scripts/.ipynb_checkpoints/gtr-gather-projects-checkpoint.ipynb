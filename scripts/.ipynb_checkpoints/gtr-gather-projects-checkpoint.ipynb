{
 "cells": [
  {
   "cell_type": "markdown",
   "metadata": {},
   "source": [
    "# Get All projects in GTR\n",
    "\n",
    "This script gathers all of the persons endpoint data in the gtr database.\n",
    "Results are stored in a Postgres database as json entries.\n",
    "\n",
    "First, import the relevant packages (gtr can be found at https://github.com/nestauk/gtr)."
   ]
  },
  {
   "cell_type": "code",
   "execution_count": 1,
   "metadata": {
    "collapsed": false
   },
   "outputs": [],
   "source": [
    "import gtr\n",
    "import json\n",
    "import sqlalchemy\n",
    "import time\n",
    "\n",
    "from sqlalchemy import Column, Integer, schema, Text  \n",
    "from sqlalchemy.dialects.postgresql import JSON, JSONB\n",
    "from sqlalchemy.ext.declarative import declarative_base  \n",
    "from sqlalchemy.orm import sessionmaker"
   ]
  },
  {
   "cell_type": "code",
   "execution_count": 3,
   "metadata": {
    "collapsed": false
   },
   "outputs": [],
   "source": [
    "with open('config.json') as f:\n",
    "    conf= json.load(f)\n",
    "    \n",
    "user = conf['user']\n",
    "host = conf['host']\n",
    "port = conf['port']\n",
    "passw = conf['password']"
   ]
  },
  {
   "cell_type": "code",
   "execution_count": 5,
   "metadata": {
    "collapsed": false
   },
   "outputs": [],
   "source": [
    "_schema = conf['schema']\n",
    "\n",
    "Base = declarative_base()  \n",
    "class Project(Base):  \n",
    "    \"\"\"Define the Project object schema\"\"\"\n",
    "    __tablename__ = 'projects'\n",
    "    __table_args__ = {\"schema\": _schema}\n",
    "    id = Column(Text, primary_key=True)\n",
    "    title = Column(Text)\n",
    "    doc = Column(JSONB)"
   ]
  },
  {
   "cell_type": "code",
   "execution_count": 6,
   "metadata": {
    "collapsed": true
   },
   "outputs": [],
   "source": [
    "def rate_limited(maxPerSecond):\n",
    "    \"\"\"Create a rate_limited decorator that limits function calls to x per second\"\"\"\n",
    "    minInterval = 1.0 / float(maxPerSecond)\n",
    "    def decorate(func):\n",
    "        lastTimeCalled = [0.0]\n",
    "        def rateLimitedFunction(*args,**kargs):\n",
    "            elapsed = time.clock() - lastTimeCalled[0]\n",
    "            leftToWait = minInterval - elapsed\n",
    "            if leftToWait>0:\n",
    "                time.sleep(leftToWait)\n",
    "            ret = func(*args,**kargs)\n",
    "            lastTimeCalled[0] = time.clock()\n",
    "            return ret\n",
    "        return rateLimitedFunction\n",
    "    return decorate"
   ]
  },
  {
   "cell_type": "code",
   "execution_count": 7,
   "metadata": {
    "collapsed": true
   },
   "outputs": [],
   "source": [
    "@rate_limited(2)\n",
    "def add_projects_to_db(data):\n",
    "    \"\"\"Loops through JSON and appends a new Project object to a list\n",
    "    based on their key.\n",
    "    \"\"\"\n",
    "    session = SessionFactory()\n",
    "    project_list = []\n",
    "    for project in data:\n",
    "        id=project[\"id\"]\n",
    "        title=project[\"title\"]\n",
    "        doc=dict([(i, project[i]) for i in project.keys() if i not in keys])\n",
    "        project_list.append(Project(id=id,\n",
    "                                title=title,\n",
    "                                doc=doc))\n",
    "\n",
    "    [session.add(project) for project in project_list]\n",
    "    session.commit()"
   ]
  },
  {
   "cell_type": "code",
   "execution_count": 11,
   "metadata": {
    "collapsed": false
   },
   "outputs": [
    {
     "name": "stdout",
     "output_type": "stream",
     "text": [
      "op error\n"
     ]
    },
    {
     "ename": "NameError",
     "evalue": "name 'engine' is not defined",
     "output_type": "error",
     "traceback": [
      "\u001b[0;31m---------------------------------------------------------------------------\u001b[0m",
      "\u001b[0;31mNameError\u001b[0m                                 Traceback (most recent call last)",
      "\u001b[0;32m<ipython-input-11-451d26596cf5>\u001b[0m in \u001b[0;36m<module>\u001b[0;34m()\u001b[0m\n\u001b[1;32m      5\u001b[0m \u001b[0;32mexcept\u001b[0m \u001b[0msqlalchemy\u001b[0m\u001b[0;34m.\u001b[0m\u001b[0mexc\u001b[0m\u001b[0;34m.\u001b[0m\u001b[0mOperationalError\u001b[0m\u001b[0;34m:\u001b[0m\u001b[0;34m\u001b[0m\u001b[0m\n\u001b[1;32m      6\u001b[0m     \u001b[0mprint\u001b[0m\u001b[0;34m(\u001b[0m\u001b[0;34m\"op error\"\u001b[0m\u001b[0;34m)\u001b[0m\u001b[0;34m\u001b[0m\u001b[0m\n\u001b[0;32m----> 7\u001b[0;31m \u001b[0mmeta\u001b[0m \u001b[0;34m=\u001b[0m \u001b[0msqlalchemy\u001b[0m\u001b[0;34m.\u001b[0m\u001b[0mMetaData\u001b[0m\u001b[0;34m(\u001b[0m\u001b[0mengine\u001b[0m\u001b[0;34m,\u001b[0m \u001b[0mschema\u001b[0m\u001b[0;34m=\u001b[0m\u001b[0m_schema\u001b[0m\u001b[0;34m)\u001b[0m\u001b[0;34m\u001b[0m\u001b[0m\n\u001b[0m",
      "\u001b[0;31mNameError\u001b[0m: name 'engine' is not defined"
     ]
    }
   ],
   "source": [
    "connection_string = 'postgresql://james:@localhost:5432/arloesiadur'.format(\n",
    "                                                                            )\n",
    "db = sqlalchemy.create_engine(connection_string)\n",
    "try:\n",
    "    engine = db.connect()\n",
    "except sqlalchemy.exc.OperationalError:\n",
    "    connection_string =  'postgresql://james:@localhost:5432/arloesiadur'\n",
    "    print(\"op error\")\n",
    "meta = sqlalchemy.MetaData(engine, schema=_schema)"
   ]
  },
  {
   "cell_type": "code",
   "execution_count": 22,
   "metadata": {
    "collapsed": false
   },
   "outputs": [],
   "source": [
    "if engine.dialect.has_table(engine, \"projects\", schema=_schema):\n",
    "    pass\n",
    "else:\n",
    "    SessionFactory = sessionmaker(engine)    # New SessionFactory object\n",
    "    Base.metadata.create_all(engine)         # Create a table if doesn't exist using declaritive_base()\n",
    "                                             # which is aware of the Person class"
   ]
  },
  {
   "cell_type": "code",
   "execution_count": null,
   "metadata": {
    "collapsed": false
   },
   "outputs": [],
   "source": [
    "s = gtr.Projects()                            # Create a Persons object\n",
    "results = s.projects(\"\", s=100)               # Get the first page of results using max items per page\n",
    "total_pages = results.json()[\"totalPages\"]    # Total number of pages to loop through\n",
    "data = results.json()[\"project\"]              # Save the returned JSON to data\n",
    "add_projects_to_db(data)                      # Add the returned data to the DB"
   ]
  },
  {
   "cell_type": "code",
   "execution_count": null,
   "metadata": {
    "collapsed": false
   },
   "outputs": [],
   "source": [
    "#page = 2\n",
    "while page <= total_pages:\n",
    "    results = s.projects(\"\", s=100, p=page)\n",
    "    data = results.json()[\"project\"]\n",
    "    add_projects_to_db(data) \n",
    "    page +=1"
   ]
  }
 ],
 "metadata": {
  "kernelspec": {
   "display_name": "Python 3",
   "language": "python",
   "name": "python3"
  },
  "language_info": {
   "codemirror_mode": {
    "name": "ipython",
    "version": 3
   },
   "file_extension": ".py",
   "mimetype": "text/x-python",
   "name": "python",
   "nbconvert_exporter": "python",
   "pygments_lexer": "ipython3",
   "version": "3.5.1"
  }
 },
 "nbformat": 4,
 "nbformat_minor": 0
}

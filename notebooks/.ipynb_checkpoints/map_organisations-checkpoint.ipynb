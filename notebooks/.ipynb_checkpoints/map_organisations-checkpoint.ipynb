{
 "cells": [
  {
   "cell_type": "code",
   "execution_count": 1,
   "metadata": {
    "collapsed": false
   },
   "outputs": [],
   "source": [
    "import folium\n",
    "import json\n",
    "import geopandas\n",
    "import numpy as np\n",
    "import pandas as pd\n",
    "import psycopg2\n",
    "\n",
    "from folium.plugins import MarkerCluster\n",
    "from geopandas import tools\n",
    "from shapely.geometry import Point\n",
    "\n",
    "%matplotlib inline"
   ]
  },
  {
   "cell_type": "code",
   "execution_count": 2,
   "metadata": {
    "collapsed": false
   },
   "outputs": [],
   "source": [
    "# Taken from https://github.com/python-visualization/folium/issues/416\n",
    "# with thanks and recognition to https://github.com/ruoyu0088\n",
    "# Modified to add a popup\n",
    "class MarkerClusterScript(MarkerCluster):\n",
    "    def __init__(self, data, callback, popup=None):\n",
    "        from jinja2 import Template\n",
    "        super(MarkerClusterScript, self).__init__([])\n",
    "        self._name = 'Script'\n",
    "        self._data = data\n",
    "        self._popup = popup\n",
    "        if callable(callback):\n",
    "            from flexx.pyscript import py2js\n",
    "            self._callback = py2js(callback, new_name=\"callback\")\n",
    "        else:\n",
    "            self._callback = \"var callback = {};\".format(_callback)\n",
    "\n",
    "        self._template = Template(u\"\"\"\n",
    "            {% macro script(this, kwargs) %}\n",
    "            (function(){\n",
    "                var data = {{this._data}};\n",
    "                var map = {{this._parent.get_name()}};\n",
    "                var cluster = L.markerClusterGroup();\n",
    "                {{this._callback}}\n",
    "\n",
    "                for (var i = 0; i < data.length; i++) {\n",
    "                    var row = data[i];\n",
    "                    var marker = callback(row, popup='names');\n",
    "                    marker.addTo(cluster);\n",
    "                }\n",
    "\n",
    "                cluster.addTo(map);\n",
    "            })();\n",
    "            {% endmacro %}\n",
    "                        \"\"\")"
   ]
  },
  {
   "cell_type": "code",
   "execution_count": null,
   "metadata": {
    "collapsed": false
   },
   "outputs": [],
   "source": [
    "def create_marker(row, popup=None):\n",
    "    \"\"\"Returns a L.marker object\"\"\"\n",
    "    icon = L.AwesomeMarkers.icon({markerColor: row.color})    \n",
    "    marker = L.marker(L.LatLng(row.lat, row.lng))\n",
    "    marker.setIcon(icon)\n",
    "    if popup:\n",
    "        marker.bindPopup(row[popup])\n",
    "    return marker\n",
    "\n",
    "def is_unclassified(row):\n",
    "    \"\"\"Checks whether an organisation has been classified\"\"\"\n",
    "    if not row.company and not row.other :\n",
    "        return True\n",
    "    else:\n",
    "        return False\n",
    "    \n",
    "def check_lat_lon(row):\n",
    "    \"\"\"Returns false if the row has null lat or lng values\"\"\"\n",
    "    return True if not pd.isnull(row.lat) or not pd.isnull(row.lng) else False\n",
    "\n",
    "def get_type_counts(df, group='id_left'):\n",
    "    # Organisation counts types\n",
    "    # Groups by group using the size method\n",
    "    # Returns dataframe\n",
    "    out_df = pd.DataFrame(df.groupby('id_left').size()).reset_index(level=0, inplace=True)\n",
    "    out_df.rename(columns={0: 'count'}, inplace=True)\n",
    "    return out_df.copy()\n",
    "    "
   ]
  },
  {
   "cell_type": "code",
   "execution_count": null,
   "metadata": {
    "collapsed": false
   },
   "outputs": [],
   "source": [
    "sql_str = \"\"\"\n",
    "    SELECT organisations.name, \n",
    "        organisations.id,\n",
    "        organisations.addresses,\n",
    "        orgs_latlng.lat,\n",
    "        orgs_latlng.lng\n",
    "    FROM gtr.organisations\n",
    "    LEFT JOIN gtr.orgs_latlng\n",
    "    ON gtr.organisations.id = gtr.orgs_latlng.id\n",
    "\"\"\"\n",
    "\n",
    "# Read in config file with DB params\n",
    "with open('../scripts/config.json') as f:\n",
    "    conf = json.load(f)\n",
    "    \n",
    "# Define a connection string\n",
    "conn_string = 'host={} dbname={} user={} password={}'.format(conf.get('host'),\n",
    "                                                             conf.get('database'),\n",
    "                                                             conf.get('user'),\n",
    "                                                             conf.get('passw'))\n",
    "\n",
    "# Create a connection object\n",
    "conn = psycopg2.connect(conn_string)\n",
    "\n",
    "# Dataframe from SQL data\n",
    "df = pd.read_sql(sql_str, conn)"
   ]
  },
  {
   "cell_type": "code",
   "execution_count": null,
   "metadata": {
    "collapsed": false
   },
   "outputs": [],
   "source": [
    "df.head()"
   ]
  },
  {
   "cell_type": "code",
   "execution_count": null,
   "metadata": {
    "collapsed": false
   },
   "outputs": [],
   "source": [
    "# nan values throw the JS script\n",
    "lat = df.lat[df.lat.notnull()].values\n",
    "lng = df.lng[df.lng.notnull()].values\n",
    "\n",
    "# Popups with name strings\n",
    "popups = df.name[df.lng.notnull()].values\n",
    "\n",
    "# Latitude and longitude dataframe with no nan values\n",
    "locations = [list(a) for a in zip(lat, lng, popups)]\n",
    "df_locations = pd.DataFrame(locations, columns=['lat', 'lng', 'names'])"
   ]
  },
  {
   "cell_type": "code",
   "execution_count": null,
   "metadata": {
    "collapsed": false,
    "scrolled": false
   },
   "outputs": [],
   "source": [
    "fig = folium.element.Figure()\n",
    "map_orgs = folium.Map(location=[56, -3], zoom_start=5)\n",
    "MarkerClusterScript(df_locations.to_json(orient=\"records\"), callback=create_marker).add_to(map_orgs)\n",
    "map_orgs.add_to(fig)"
   ]
  },
  {
   "cell_type": "code",
   "execution_count": null,
   "metadata": {
    "collapsed": false
   },
   "outputs": [],
   "source": [
    "df"
   ]
  },
  {
   "cell_type": "code",
   "execution_count": null,
   "metadata": {
    "collapsed": false
   },
   "outputs": [],
   "source": [
    "df_types = pd.read_pickle('df_organisation_type.p')\n",
    "df = pd.merge(df, df_types[['id', 'company', 'other']],\n",
    "              how='left',\n",
    "              sort=False)\n",
    "\n",
    "df['unclassified'] = df.apply(is_unclassified, axis=1)\n",
    "\n",
    "# Create a column that shapely recognises as geographic coordinates\n",
    "df[\"geometry\"] = df.apply(lambda row: Point(row[\"lng\"], row[\"lat\"]) if check_lat_lon(row) else None, axis=1)\n",
    "df.drop(['lat', 'lng'], axis=1, inplace=True)\n",
    "\n",
    "# Now we need a GeoDataFrame and to tell\n",
    "# Geopandas what the coordinate system used is\n",
    "df = geopandas.GeoDataFrame(df, geometry=\"geometry\")\n",
    "df.crs = {\"init\": \"epsg:4326\"}\n",
    "\n",
    "# Now load the topojson to a seperate GeoDataFrame object\n",
    "lads = geopandas.GeoDataFrame.from_file('../json/topo_lad.json')\n",
    "lads.crs = {\"init\": \"epsg:4326\"}\n",
    "\n",
    "lads.drop('name', axis=1, inplace=True)\n",
    "\n",
    "# Perform the spatial join\n",
    "df = tools.sjoin(lads, df[df.geometry.notnull()], how=\"left\")\n",
    "\n",
    "# Read in the ONS' Local Units data\n",
    "# Data starts on row 6 and there are 22 lines of surplus info\n",
    "# at the end of the file. Skipfooter requires the engine type\n",
    "# be set to 'python' instead of 'c'. This can result in slower load times\n",
    "local_units_counts = pd.read_csv('../csv/local_business_units.csv',\n",
    "                                 header=6,\n",
    "                                 skipfooter=22,\n",
    "                                 engine='python')\n",
    "\n",
    "# Type counts\n",
    "organisation_counts_lad = get_type_counts(df)\n",
    "company_counts_lad = get_type_counts(df[df.company == True])\n",
    "other_counts_lad = get_type_counts(df[df.other == True])\n",
    "\n",
    "# 6 year average (which will be used as the )\n",
    "local_units_counts['6_yr_avg'] = local_units_counts.loc[:, '2010': '2015'].mean(axis=1)\n",
    "\n",
    "# Remove the first part of the Area column\n",
    "local_units_counts.Area = local_units_counts.Area.apply(lambda x: x.split(':')[1])"
   ]
  },
  {
   "cell_type": "code",
   "execution_count": null,
   "metadata": {
    "collapsed": false
   },
   "outputs": [],
   "source": [
    "# Merge the aggregated values\n",
    "# Use 'outer' join type (equivalent to a SQL FULL OUTER JOIN)\n",
    "counts_df = organisation_counts_lad.merge(company_counts_lad,\n",
    "                                          on='id_left',\n",
    "                                          suffixes=('_orgs', '_comp'),\n",
    "                                          how='outer').merge(other_counts_lad,\n",
    "                                                             on='id_left',\n",
    "                                                             how='outer')\n",
    "\n",
    "# Consistent suffixes\n",
    "#counts_df.rename(columns={'count': 'count_other'}, inplace=True)\n",
    "\n",
    "# append ONS local units data\n",
    "# using outer to get all the LAD values\n",
    "#counts_df = counts_df.merge(local_units_counts,\n",
    "#                            left_on='id_left',\n",
    "#                            right_on='mnemonic',\n",
    "#                            how='outer')"
   ]
  },
  {
   "cell_type": "code",
   "execution_count": null,
   "metadata": {
    "collapsed": false
   },
   "outputs": [],
   "source": [
    "counts_df"
   ]
  },
  {
   "cell_type": "code",
   "execution_count": null,
   "metadata": {
    "collapsed": false
   },
   "outputs": [],
   "source": [
    "counts_df[['counts_orgs_norm', counts_df.applymap"
   ]
  },
  {
   "cell_type": "code",
   "execution_count": null,
   "metadata": {
    "collapsed": false
   },
   "outputs": [],
   "source": [
    "fig = folium.element.Figure()\n",
    "map_orgs = folium.Map(location=[56, -3], zoom_start=5)\n",
    "MarkerClusterScript(df_locations.to_json(orient=\"records\"), callback=create_marker).add_to(map_orgs)\n",
    "map_orgs.add_to(fig)\n",
    "\n",
    "map_orgs.choropleth(geo_path='../json/topo_lad.json',\n",
    "                    topojson='objects.lad',\n",
    "                    data=organisation_counts_lad,\n",
    "                    columns=['id_left', 'count'],\n",
    "                    key_on='feature.properties.LAD13CD',\n",
    "                    fill_color='YlGnBu',\n",
    "                    fill_opacity=0.7,\n",
    "                    line_opacity=0.9,\n",
    "                    legend_name='Count by Location',\n",
    "                    threshold_scale = [0, 250, 500, 750, 1000])\n",
    "\n",
    "map_orgs"
   ]
  },
  {
   "cell_type": "markdown",
   "metadata": {},
   "source": [
    "Local Authority TopoJSON data courtesy of [Dr. Martin Chorley](https://github.com/martinjc/UK-GeoJson).\n",
    "\n",
    "Contains Ordnance Survey, Office of National Statistics, National Records Scotland and LPS Intellectual Property data © Crown copyright and database right [2016]. Data licensed under the terms of the Open Government Licence (http://www.nationalarchives.gov.uk/doc/open-government-licence/version/3). Ordnance Survey data covered by OS OpenData Licence. Any further sub-licences must retain this attribution."
   ]
  },
  {
   "cell_type": "code",
   "execution_count": null,
   "metadata": {
    "collapsed": true
   },
   "outputs": [],
   "source": [
    "map_orgs.save('map.html')"
   ]
  }
 ],
 "metadata": {
  "_draft": {
   "nbviewer_url": "https://gist.github.com/f605b23d865a421b18466706d184d385"
  },
  "gist": {
   "data": {
    "description": "map_organisations.ipynb",
    "public": true
   },
   "id": "f605b23d865a421b18466706d184d385"
  },
  "kernelspec": {
   "display_name": "Python 3",
   "language": "python",
   "name": "python3"
  },
  "language_info": {
   "codemirror_mode": {
    "name": "ipython",
    "version": 3
   },
   "file_extension": ".py",
   "mimetype": "text/x-python",
   "name": "python",
   "nbconvert_exporter": "python",
   "pygments_lexer": "ipython3",
   "version": "3.5.1"
  }
 },
 "nbformat": 4,
 "nbformat_minor": 0
}

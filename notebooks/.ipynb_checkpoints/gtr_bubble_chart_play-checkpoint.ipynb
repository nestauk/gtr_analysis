{
 "cells": [
  {
   "cell_type": "code",
   "execution_count": 2,
   "metadata": {
    "collapsed": false
   },
   "outputs": [
    {
     "ename": "ImportError",
     "evalue": "No module named psycopg2",
     "output_type": "error",
     "traceback": [
      "\u001b[0;31m---------------------------------------------------------------------------\u001b[0m",
      "\u001b[0;31mImportError\u001b[0m                               Traceback (most recent call last)",
      "\u001b[0;32m<ipython-input-2-d1a0b6d6f755>\u001b[0m in \u001b[0;36m<module>\u001b[0;34m()\u001b[0m\n\u001b[1;32m      4\u001b[0m \u001b[0;32mimport\u001b[0m \u001b[0mjson\u001b[0m\u001b[0;34m\u001b[0m\u001b[0m\n\u001b[1;32m      5\u001b[0m \u001b[0;32mimport\u001b[0m \u001b[0mmatplotlib\u001b[0m\u001b[0;34m.\u001b[0m\u001b[0mpyplot\u001b[0m \u001b[0;32mas\u001b[0m \u001b[0mplt\u001b[0m\u001b[0;34m\u001b[0m\u001b[0m\n\u001b[0;32m----> 6\u001b[0;31m \u001b[0;32mimport\u001b[0m \u001b[0mpsycopg2\u001b[0m\u001b[0;34m\u001b[0m\u001b[0m\n\u001b[0m\u001b[1;32m      7\u001b[0m \u001b[0;32mimport\u001b[0m \u001b[0mpandas\u001b[0m \u001b[0;32mas\u001b[0m \u001b[0mpd\u001b[0m\u001b[0;34m\u001b[0m\u001b[0m\n\u001b[1;32m      8\u001b[0m \u001b[0;32mimport\u001b[0m \u001b[0mnumpy\u001b[0m \u001b[0;32mas\u001b[0m \u001b[0mnp\u001b[0m\u001b[0;34m\u001b[0m\u001b[0m\n",
      "\u001b[0;31mImportError\u001b[0m: No module named psycopg2"
     ]
    }
   ],
   "source": [
    "%matplotlib inline\n",
    "\n",
    "#Imports\n",
    "import json\n",
    "import matplotlib.pyplot as plt\n",
    "import psycopg2\n",
    "import pandas as pd\n",
    "import numpy as np\n",
    "import seaborn as sns"
   ]
  },
  {
   "cell_type": "code",
   "execution_count": 1,
   "metadata": {
    "collapsed": false
   },
   "outputs": [
    {
     "ename": "NameError",
     "evalue": "name 'json' is not defined",
     "output_type": "error",
     "traceback": [
      "\u001b[0;31m---------------------------------------------------------------------------\u001b[0m",
      "\u001b[0;31mNameError\u001b[0m                                 Traceback (most recent call last)",
      "\u001b[0;32m<ipython-input-1-f45639e2af85>\u001b[0m in \u001b[0;36m<module>\u001b[0;34m()\u001b[0m\n\u001b[1;32m      3\u001b[0m \u001b[0;31m#Load config file\u001b[0m\u001b[0;34m\u001b[0m\u001b[0;34m\u001b[0m\u001b[0m\n\u001b[1;32m      4\u001b[0m \u001b[0;32mwith\u001b[0m \u001b[0mopen\u001b[0m\u001b[0;34m(\u001b[0m\u001b[0;34m\"../scripts/config.json\"\u001b[0m\u001b[0;34m,\u001b[0m\u001b[0;34m'r'\u001b[0m\u001b[0;34m)\u001b[0m \u001b[0;32mas\u001b[0m \u001b[0mf\u001b[0m\u001b[0;34m:\u001b[0m\u001b[0;34m\u001b[0m\u001b[0m\n\u001b[0;32m----> 5\u001b[0;31m     \u001b[0mconfig\u001b[0m \u001b[0;34m=\u001b[0m \u001b[0mjson\u001b[0m\u001b[0;34m.\u001b[0m\u001b[0mload\u001b[0m\u001b[0;34m(\u001b[0m\u001b[0mf\u001b[0m\u001b[0;34m)\u001b[0m\u001b[0;34m\u001b[0m\u001b[0m\n\u001b[0m\u001b[1;32m      6\u001b[0m \u001b[0;34m\u001b[0m\u001b[0m\n\u001b[1;32m      7\u001b[0m \u001b[0;31m#Create connection string\u001b[0m\u001b[0;34m\u001b[0m\u001b[0;34m\u001b[0m\u001b[0m\n",
      "\u001b[0;31mNameError\u001b[0m: name 'json' is not defined"
     ]
    }
   ],
   "source": [
    "#Create connection with our database\n",
    "#Steps\n",
    "#Load config file\n",
    "with open(\"../scripts/config.json\",'r') as f:\n",
    "    config = json.load(f)\n",
    "\n",
    "#Create connection string\n",
    "conn_string = 'host={} dbname={} user={} password={}'.format(\n",
    "                    config.get(\"host\"),\n",
    "                    config.get(\"database\"),\n",
    "                    config.get(\"user\"),\n",
    "                    config.get(\"passw\"))\n",
    "#Create connection\n",
    "conn = psycopg2.connect(conn_string)"
   ]
  },
  {
   "cell_type": "code",
   "execution_count": 9,
   "metadata": {
    "collapsed": true
   },
   "outputs": [],
   "source": [
    "#Read the organisation data\n",
    "#We'll read it in chunks\n",
    "chunk= 500\n",
    "\n",
    "#Create sql query string\n",
    "sql_query_str=\"\"\"\n",
    "    SELECT\n",
    "        *\n",
    "    FROM\n",
    "        gtr.organisations      \n",
    "\"\"\"\n",
    "\n",
    "#Read the data\n",
    "org_df = pd.read_sql(sql_query_str,\n",
    "                 conn)"
   ]
  },
  {
   "cell_type": "code",
   "execution_count": 10,
   "metadata": {
    "collapsed": false
   },
   "outputs": [
    {
     "data": {
      "text/html": [
       "<div>\n",
       "<table border=\"1\" class=\"dataframe\">\n",
       "  <thead>\n",
       "    <tr style=\"text-align: right;\">\n",
       "      <th></th>\n",
       "      <th>pkey</th>\n",
       "      <th>addresses</th>\n",
       "      <th>created</th>\n",
       "      <th>href</th>\n",
       "      <th>id</th>\n",
       "      <th>links</th>\n",
       "      <th>name</th>\n",
       "    </tr>\n",
       "  </thead>\n",
       "  <tbody>\n",
       "    <tr>\n",
       "      <th>0</th>\n",
       "      <td>1</td>\n",
       "      <td>{u'address': [{u'city': u'Newton Aycliffe', u'...</td>\n",
       "      <td>2016-03-31 18:16:26</td>\n",
       "      <td>http://gtr.rcuk.ac.uk:80/gtr/api/organisations...</td>\n",
       "      <td>BAB46AB6-90FC-4145-B885-0153BEA15A73</td>\n",
       "      <td>{u'link': [{u'otherAttributes': {}, u'href': u...</td>\n",
       "      <td>A-Tech Fabrications Limited</td>\n",
       "    </tr>\n",
       "    <tr>\n",
       "      <th>1</th>\n",
       "      <td>2</td>\n",
       "      <td>{u'address': []}</td>\n",
       "      <td>2016-03-31 18:16:26</td>\n",
       "      <td>http://gtr.rcuk.ac.uk:80/gtr/api/organisations...</td>\n",
       "      <td>BB979A0C-0F8D-4B3F-A8D0-06A5F0D45FB0</td>\n",
       "      <td>{u'link': [{u'otherAttributes': {}, u'href': u...</td>\n",
       "      <td>Life Sciences</td>\n",
       "    </tr>\n",
       "    <tr>\n",
       "      <th>2</th>\n",
       "      <td>3</td>\n",
       "      <td>{u'address': [{u'created': 1459448184000, u're...</td>\n",
       "      <td>2016-03-31 18:16:26</td>\n",
       "      <td>http://gtr.rcuk.ac.uk:80/gtr/api/organisations...</td>\n",
       "      <td>BCD9069A-6739-4039-86DB-042CB13254CB</td>\n",
       "      <td>{u'link': [{u'otherAttributes': {}, u'href': u...</td>\n",
       "      <td>Zurich Insurance plc</td>\n",
       "    </tr>\n",
       "    <tr>\n",
       "      <th>3</th>\n",
       "      <td>4</td>\n",
       "      <td>{u'address': [{u'created': 1459448184000, u'co...</td>\n",
       "      <td>2016-03-31 18:16:26</td>\n",
       "      <td>http://gtr.rcuk.ac.uk:80/gtr/api/organisations...</td>\n",
       "      <td>B69FACF5-5AB9-4D97-88CD-0A38C32935FF</td>\n",
       "      <td>{u'link': [{u'otherAttributes': {}, u'href': u...</td>\n",
       "      <td>Limagrain UK Ltd</td>\n",
       "    </tr>\n",
       "    <tr>\n",
       "      <th>4</th>\n",
       "      <td>5</td>\n",
       "      <td>{u'address': [{u'created': 1459448184000, u'co...</td>\n",
       "      <td>2016-03-31 18:16:26</td>\n",
       "      <td>http://gtr.rcuk.ac.uk:80/gtr/api/organisations...</td>\n",
       "      <td>B76FE143-1E07-40B0-8932-028207296A78</td>\n",
       "      <td>{u'link': [{u'otherAttributes': {}, u'href': u...</td>\n",
       "      <td>China Earthquake Administration</td>\n",
       "    </tr>\n",
       "  </tbody>\n",
       "</table>\n",
       "</div>"
      ],
      "text/plain": [
       "   pkey                                          addresses  \\\n",
       "0     1  {u'address': [{u'city': u'Newton Aycliffe', u'...   \n",
       "1     2                                   {u'address': []}   \n",
       "2     3  {u'address': [{u'created': 1459448184000, u're...   \n",
       "3     4  {u'address': [{u'created': 1459448184000, u'co...   \n",
       "4     5  {u'address': [{u'created': 1459448184000, u'co...   \n",
       "\n",
       "              created                                               href  \\\n",
       "0 2016-03-31 18:16:26  http://gtr.rcuk.ac.uk:80/gtr/api/organisations...   \n",
       "1 2016-03-31 18:16:26  http://gtr.rcuk.ac.uk:80/gtr/api/organisations...   \n",
       "2 2016-03-31 18:16:26  http://gtr.rcuk.ac.uk:80/gtr/api/organisations...   \n",
       "3 2016-03-31 18:16:26  http://gtr.rcuk.ac.uk:80/gtr/api/organisations...   \n",
       "4 2016-03-31 18:16:26  http://gtr.rcuk.ac.uk:80/gtr/api/organisations...   \n",
       "\n",
       "                                     id  \\\n",
       "0  BAB46AB6-90FC-4145-B885-0153BEA15A73   \n",
       "1  BB979A0C-0F8D-4B3F-A8D0-06A5F0D45FB0   \n",
       "2  BCD9069A-6739-4039-86DB-042CB13254CB   \n",
       "3  B69FACF5-5AB9-4D97-88CD-0A38C32935FF   \n",
       "4  B76FE143-1E07-40B0-8932-028207296A78   \n",
       "\n",
       "                                               links  \\\n",
       "0  {u'link': [{u'otherAttributes': {}, u'href': u...   \n",
       "1  {u'link': [{u'otherAttributes': {}, u'href': u...   \n",
       "2  {u'link': [{u'otherAttributes': {}, u'href': u...   \n",
       "3  {u'link': [{u'otherAttributes': {}, u'href': u...   \n",
       "4  {u'link': [{u'otherAttributes': {}, u'href': u...   \n",
       "\n",
       "                              name  \n",
       "0      A-Tech Fabrications Limited  \n",
       "1                    Life Sciences  \n",
       "2             Zurich Insurance plc  \n",
       "3                 Limagrain UK Ltd  \n",
       "4  China Earthquake Administration  "
      ]
     },
     "execution_count": 10,
     "metadata": {},
     "output_type": "execute_result"
    }
   ],
   "source": [
    "org_df.head()"
   ]
  },
  {
   "cell_type": "code",
   "execution_count": 12,
   "metadata": {
    "collapsed": false
   },
   "outputs": [],
   "source": [
    "# get tidy project_org data\n",
    "# read in json file\n",
    "with open(\"../notebooks/project_org.json\",'r') as f:\n",
    "    project_org = json.load(f)"
   ]
  },
  {
   "cell_type": "code",
   "execution_count": 15,
   "metadata": {
    "collapsed": false
   },
   "outputs": [
    {
     "data": {
      "text/plain": [
       "{u'orgs': [{u'lad': u'E07000121',\n",
       "   u'org_id': u'B151FD07-45A4-41E6-8CF8-441EE5F96CFF'}],\n",
       " u'project_id': u'00006CB7-61E0-4946-B7DB-DAE09ED63DE4',\n",
       " u'topics': nan}"
      ]
     },
     "execution_count": 15,
     "metadata": {},
     "output_type": "execute_result"
    }
   ],
   "source": [
    "#check format\n",
    "project_org[0]"
   ]
  },
  {
   "cell_type": "code",
   "execution_count": 46,
   "metadata": {
    "collapsed": false
   },
   "outputs": [],
   "source": [
    "# label project if collaboration between multiple orgs\n",
    "proj_collab = {}\n",
    "for proj in project_org:\n",
    "    org_count = 0\n",
    "    for org in proj[\"orgs\"]:\n",
    "        org_count = org_count+1\n",
    "    if org_count>1:\n",
    "        collab = 1\n",
    "    else:\n",
    "        collab = 0\n",
    "    proj_collab[proj[\"project_id\"]] = collab"
   ]
  },
  {
   "cell_type": "code",
   "execution_count": 48,
   "metadata": {
    "collapsed": false
   },
   "outputs": [
    {
     "data": {
      "text/plain": [
       "0"
      ]
     },
     "execution_count": 48,
     "metadata": {},
     "output_type": "execute_result"
    }
   ],
   "source": [
    "#check\n",
    "proj_collab[\"003E6B05-0738-4BCF-B8C5-C56DE5F9CAF0\"]"
   ]
  },
  {
   "cell_type": "code",
   "execution_count": 49,
   "metadata": {
    "collapsed": false
   },
   "outputs": [],
   "source": [
    "# create a number of dictionaries to:\n",
    "#       store LAD\n",
    "#       count number projects organisation has done\n",
    "#       count number of projects organisation collaborated on with another org\n",
    "orgs_lads_dict = {}\n",
    "orgs_pcount_dict = {}\n",
    "orgs_ccount_dict = {}\n",
    "for proj in project_org:\n",
    "    collab = proj_collab[proj[\"project_id\"]]\n",
    "    for org in proj[\"orgs\"]:\n",
    "        orgs_lads_dict[org[\"org_id\"]]= org[\"lad\"]\n",
    "        #count projects per org\n",
    "        try:\n",
    "            orgs_pcount_dict[org[\"org_id\"]] = orgs_pcount_dict[org[\"org_id\"]] + 1           \n",
    "        except KeyError:\n",
    "            orgs_pcount_dict[org[\"org_id\"]] = 1   \n",
    "        #count collabs per org\n",
    "        try:\n",
    "            orgs_ccount_dict[org[\"org_id\"]] = orgs_ccount_dict[org[\"org_id\"]] + collab\n",
    "        except KeyError:\n",
    "            orgs_ccount_dict[org[\"org_id\"]] = collab \n",
    "            "
   ]
  },
  {
   "cell_type": "code",
   "execution_count": 40,
   "metadata": {
    "collapsed": false
   },
   "outputs": [
    {
     "data": {
      "text/plain": [
       "u'E09000007'"
      ]
     },
     "execution_count": 40,
     "metadata": {},
     "output_type": "execute_result"
    }
   ],
   "source": [
    "#check\n",
    "orgs_lads_dict[\"3A5E126D-C175-4730-9B7B-E6D8CF447F83\"]"
   ]
  },
  {
   "cell_type": "code",
   "execution_count": 50,
   "metadata": {
    "collapsed": false
   },
   "outputs": [
    {
     "data": {
      "text/plain": [
       "2902"
      ]
     },
     "execution_count": 50,
     "metadata": {},
     "output_type": "execute_result"
    }
   ],
   "source": [
    "orgs_pcount_dict[\"3A5E126D-C175-4730-9B7B-E6D8CF447F83\"]"
   ]
  },
  {
   "cell_type": "code",
   "execution_count": 51,
   "metadata": {
    "collapsed": false
   },
   "outputs": [
    {
     "data": {
      "text/plain": [
       "771"
      ]
     },
     "execution_count": 51,
     "metadata": {},
     "output_type": "execute_result"
    }
   ],
   "source": [
    "orgs_ccount_dict[\"3A5E126D-C175-4730-9B7B-E6D8CF447F83\"]"
   ]
  },
  {
   "cell_type": "code",
   "execution_count": 54,
   "metadata": {
    "collapsed": true
   },
   "outputs": [],
   "source": [
    "# convert dicts to series\n",
    "slads = pd.Series(orgs_lads_dict, name=\"LADs\")\n",
    "spcount = pd.Series(orgs_pcount_dict, name=\"Proj_count\")\n",
    "sccount = pd.Series(orgs_ccount_dict, name=\"collab_count\")\n",
    "# check\n",
    "slads.head()"
   ]
  },
  {
   "cell_type": "code",
   "execution_count": 60,
   "metadata": {
    "collapsed": false
   },
   "outputs": [
    {
     "data": {
      "text/html": [
       "<div>\n",
       "<table border=\"1\" class=\"dataframe\">\n",
       "  <thead>\n",
       "    <tr style=\"text-align: right;\">\n",
       "      <th></th>\n",
       "      <th>index</th>\n",
       "      <th>LADs</th>\n",
       "      <th>Proj_count</th>\n",
       "      <th>collab_count</th>\n",
       "    </tr>\n",
       "  </thead>\n",
       "  <tbody>\n",
       "    <tr>\n",
       "      <th>0</th>\n",
       "      <td>0003EB78-07B9-400E-AE39-2AD612C28612</td>\n",
       "      <td>E06000056</td>\n",
       "      <td>1</td>\n",
       "      <td>1</td>\n",
       "    </tr>\n",
       "    <tr>\n",
       "      <th>1</th>\n",
       "      <td>000403BF-769B-412D-BCF4-5963D425DF40</td>\n",
       "      <td>E09000001</td>\n",
       "      <td>1</td>\n",
       "      <td>1</td>\n",
       "    </tr>\n",
       "    <tr>\n",
       "      <th>2</th>\n",
       "      <td>000557E6-19A4-44E6-BBCC-D32E1DA9530D</td>\n",
       "      <td>E06000018</td>\n",
       "      <td>3</td>\n",
       "      <td>1</td>\n",
       "    </tr>\n",
       "    <tr>\n",
       "      <th>3</th>\n",
       "      <td>0005728F-26ED-465D-8DCE-C49F181EDB2E</td>\n",
       "      <td>E07000165</td>\n",
       "      <td>1</td>\n",
       "      <td>1</td>\n",
       "    </tr>\n",
       "    <tr>\n",
       "      <th>4</th>\n",
       "      <td>0015E7C8-5920-4494-B1E9-BA6502ECA2B6</td>\n",
       "      <td>S12000035</td>\n",
       "      <td>1</td>\n",
       "      <td>1</td>\n",
       "    </tr>\n",
       "  </tbody>\n",
       "</table>\n",
       "</div>"
      ],
      "text/plain": [
       "                                  index       LADs  Proj_count  collab_count\n",
       "0  0003EB78-07B9-400E-AE39-2AD612C28612  E06000056           1             1\n",
       "1  000403BF-769B-412D-BCF4-5963D425DF40  E09000001           1             1\n",
       "2  000557E6-19A4-44E6-BBCC-D32E1DA9530D  E06000018           3             1\n",
       "3  0005728F-26ED-465D-8DCE-C49F181EDB2E  E07000165           1             1\n",
       "4  0015E7C8-5920-4494-B1E9-BA6502ECA2B6  S12000035           1             1"
      ]
     },
     "execution_count": 60,
     "metadata": {},
     "output_type": "execute_result"
    }
   ],
   "source": [
    "#combine into df\n",
    "df_orgs1 = pd.concat([slads,spcount,sccount], axis=1).reset_index()\n",
    "df_orgs1.head()"
   ]
  },
  {
   "cell_type": "code",
   "execution_count": 66,
   "metadata": {
    "collapsed": false
   },
   "outputs": [],
   "source": [
    "# add org name\n",
    "df_orgs2 = pd.merge(df_orgs1, org_df[[\"id\",\"name\"]], how=\"left\", left_on=\"index\", right_on=\"id\")\n",
    "df_orgs2 = df_orgs2.drop(\"id\",axis=1)"
   ]
  },
  {
   "cell_type": "code",
   "execution_count": 67,
   "metadata": {
    "collapsed": false
   },
   "outputs": [
    {
     "data": {
      "text/html": [
       "<div>\n",
       "<table border=\"1\" class=\"dataframe\">\n",
       "  <thead>\n",
       "    <tr style=\"text-align: right;\">\n",
       "      <th></th>\n",
       "      <th>index</th>\n",
       "      <th>LADs</th>\n",
       "      <th>Proj_count</th>\n",
       "      <th>collab_count</th>\n",
       "      <th>name</th>\n",
       "    </tr>\n",
       "  </thead>\n",
       "  <tbody>\n",
       "    <tr>\n",
       "      <th>0</th>\n",
       "      <td>0003EB78-07B9-400E-AE39-2AD612C28612</td>\n",
       "      <td>E06000056</td>\n",
       "      <td>1</td>\n",
       "      <td>1</td>\n",
       "      <td>Wentworth Laboratories Ltd</td>\n",
       "    </tr>\n",
       "    <tr>\n",
       "      <th>1</th>\n",
       "      <td>000403BF-769B-412D-BCF4-5963D425DF40</td>\n",
       "      <td>E09000001</td>\n",
       "      <td>1</td>\n",
       "      <td>1</td>\n",
       "      <td>Deloitte MCS Limited</td>\n",
       "    </tr>\n",
       "    <tr>\n",
       "      <th>2</th>\n",
       "      <td>000557E6-19A4-44E6-BBCC-D32E1DA9530D</td>\n",
       "      <td>E06000018</td>\n",
       "      <td>3</td>\n",
       "      <td>1</td>\n",
       "      <td>Voice Key Limited</td>\n",
       "    </tr>\n",
       "    <tr>\n",
       "      <th>3</th>\n",
       "      <td>0005728F-26ED-465D-8DCE-C49F181EDB2E</td>\n",
       "      <td>E07000165</td>\n",
       "      <td>1</td>\n",
       "      <td>1</td>\n",
       "      <td>Duchy Parade Films</td>\n",
       "    </tr>\n",
       "    <tr>\n",
       "      <th>4</th>\n",
       "      <td>0015E7C8-5920-4494-B1E9-BA6502ECA2B6</td>\n",
       "      <td>S12000035</td>\n",
       "      <td>1</td>\n",
       "      <td>1</td>\n",
       "      <td>Fusion Marine Limited</td>\n",
       "    </tr>\n",
       "  </tbody>\n",
       "</table>\n",
       "</div>"
      ],
      "text/plain": [
       "                                  index       LADs  Proj_count  collab_count  \\\n",
       "0  0003EB78-07B9-400E-AE39-2AD612C28612  E06000056           1             1   \n",
       "1  000403BF-769B-412D-BCF4-5963D425DF40  E09000001           1             1   \n",
       "2  000557E6-19A4-44E6-BBCC-D32E1DA9530D  E06000018           3             1   \n",
       "3  0005728F-26ED-465D-8DCE-C49F181EDB2E  E07000165           1             1   \n",
       "4  0015E7C8-5920-4494-B1E9-BA6502ECA2B6  S12000035           1             1   \n",
       "\n",
       "                         name  \n",
       "0  Wentworth Laboratories Ltd  \n",
       "1        Deloitte MCS Limited  \n",
       "2           Voice Key Limited  \n",
       "3          Duchy Parade Films  \n",
       "4       Fusion Marine Limited  "
      ]
     },
     "execution_count": 67,
     "metadata": {},
     "output_type": "execute_result"
    }
   ],
   "source": [
    "df_orgs2.head()"
   ]
  },
  {
   "cell_type": "code",
   "execution_count": null,
   "metadata": {
    "collapsed": true
   },
   "outputs": [],
   "source": [
    "# add org type?"
   ]
  }
 ],
 "metadata": {
  "kernelspec": {
   "display_name": "Python 2",
   "language": "python",
   "name": "python2"
  },
  "language_info": {
   "codemirror_mode": {
    "name": "ipython",
    "version": 2
   },
   "file_extension": ".py",
   "mimetype": "text/x-python",
   "name": "python",
   "nbconvert_exporter": "python",
   "pygments_lexer": "ipython2",
   "version": "2.7.11"
  }
 },
 "nbformat": 4,
 "nbformat_minor": 0
}

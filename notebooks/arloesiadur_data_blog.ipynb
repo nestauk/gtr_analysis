{
 "cells": [
  {
   "cell_type": "markdown",
   "metadata": {},
   "source": [
    "# Arloeisadur Gateway to Research Data Blog\n",
    "\n",
    "This is the first in a series of data blogs documenting our exploration of data that could be used in the  Arloesiadur innovation analytics platform Nesta are developing for Welsh Government.\n",
    "\n",
    "#### What data will Arloesiadur Need?\n",
    "\n",
    "Arloesiadur will be one of the first platforms of its kind in the world, offering unprecedented access to new sources of information (based on new sources of data) to policy-makers involved in all stages of the innovation policy cycle. To understand what information is going to be of use to policy makers in such a new platform, we are first exploring what data are out there, what new information we can get from them and perhaps most importantly, getting feedback from policy makers themselves as to what it is they would like to ask of these data.\n",
    "\n",
    "We are doing this through a series of short and highly focussed data pilots, each of which will consider one topic that is of interest to those policy makers, and then address that interest through the gathering and analysis of data sources that offer new insights. We will be carrying out four of these pilots over the next few months, and will be posting a new data blog to wrap up each one.\n",
    "\n",
    "Our first data pilot has been dealing with the question of whether new data can offer new insights into the academic network of a region: How is it linked? How much collaboration takes place? Are there clusters of specialisation that haven't been identified before?\n",
    "\n",
    "#### Gateway To Research\n",
    "\n",
    "To answer some of these questions, we have been analysing the [Gateway To Research](gtr.rcuk.ac.uk) (GtR) website, which has been developed by the Research Councils UK (RCUK) to open up access to publicly funded research projects and their outputs. This includes research projects from the UK's seven research councils, as well as data about Innovate UK and National Centre for the Replacement, Refinement and Reduction of Animals in Research funded research and projects, with project data going back to 2006 available.\n",
    "\n",
    "For each project held on GtR, there are a number of peices of data relating to it, including details on the level of funding received, what funding stream the projects was funded from, who the researchers in that project were, what organisations were involved, and what the outcomes for the project were (including what papers were published, what spinouts occured and what further fundign was generated on the back of the results, among others).\n",
    "\n",
    "Each individual entity in each of the categories outlined here is uniquely identified, giving us the opportunity to link different aspects of the data  together to paint a broad yet detailed picture of the research landscape in the UK (at least for projects funded through the UK's own research councils). This only scratches the surface of what the data actually contains; the GtR [data dictionary](http://gtr.rcuk.ac.uk/resources/GtRDataDictionary.pdf) provides far more detailed information on what is available. All of the data in GtR is subject to the [Open Government Licence (OGL)](http://www.nationalarchives.gov.uk/doc/open-government-licence/version/2/), allowing reuse by third parties.\n",
    "\n",
    "\n",
    "#### Accessing the data\n",
    "\n",
    "The data can be accessed in a number of ways, through the [website](gtr.rcuk.ac.uk) and through three distinct Application Programming Interfaces (APIs), details of which can be found [here](http://gtr.rcuk.ac.uk/resources/api.html). We used the [GTR-2 API](http://gtr.rcuk.ac.uk/resources/GtR-2-API-v1.4.pdf) to programmatically access all of the data regarding projects, funds, organisations, persons, projects and publications. We stored all of these data ourselves, making the analyses easier for us to conduct, and even with all of the data retained, the size of our database never approached 'big data' levels of storage. In fact, the entirety of the data is no more than a few gigabytes, well within the storage capacities of any modern laptop. We used a simple Python wrapper around the API and a handful of scripts to access and store the data, and are [open sourcing the software](https://github.com/nestauk/gtr) to make this easier for other users to achieve (as well as making  our results more reproducible).\n",
    "\n",
    "Although the data are not voluminous, they are complex in their nature: linking hundreds of thousands of research papers to specific authors, projects and organisations isn't a simple task that can be conducted in a spreadsheet. We stored the data in a relational database as tabular data and 'unstructured' data. We conducted our analyses of the data in interactive notebooks (again using Python), making our methods as transparent as possible whilst allowing others interested in the data to reproduce, amend or otherwise build on our research.\n",
    "\n",
    "#### What do the data show us?\n",
    "\n",
    "#### How can this be of use to policy makers?\n",
    "\n",
    "#### What are the next steps?\n"
   ]
  },
  {
   "cell_type": "code",
   "execution_count": null,
   "metadata": {
    "collapsed": true
   },
   "outputs": [],
   "source": []
  }
 ],
 "metadata": {
  "kernelspec": {
   "display_name": "Python 3",
   "language": "python",
   "name": "python3"
  },
  "language_info": {
   "codemirror_mode": {
    "name": "ipython",
    "version": 3
   },
   "file_extension": ".py",
   "mimetype": "text/x-python",
   "name": "python",
   "nbconvert_exporter": "python",
   "pygments_lexer": "ipython3",
   "version": "3.5.1"
  }
 },
 "nbformat": 4,
 "nbformat_minor": 0
}

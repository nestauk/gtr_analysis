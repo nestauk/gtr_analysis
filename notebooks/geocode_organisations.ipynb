{
 "cells": [
  {
   "cell_type": "markdown",
   "metadata": {},
   "source": [
    "# Geocoding Organisations\n",
    "\n",
    "For a number of planned analyses, we require the latitude and longitude of the organisations in the data, not just their names and addresses. To do this we will first use a geocoding service to identify lat lng from address strings."
   ]
  },
  {
   "cell_type": "code",
   "execution_count": 1,
   "metadata": {
    "collapsed": false
   },
   "outputs": [],
   "source": [
    "import ratelim\n",
    "import json\n",
    "import os\n",
    "import pandas as pd\n",
    "import psycopg2\n",
    "\n",
    "from geopy.geocoders import GoogleV3\n",
    "from ipywidgets import FloatProgress\n",
    "from IPython.display import display\n",
    "\n",
    "key = os.environ.get('GOOGLE_MAPS_KEY')"
   ]
  },
  {
   "cell_type": "code",
   "execution_count": 2,
   "metadata": {
    "collapsed": true
   },
   "outputs": [],
   "source": [
    "# Google geocoder\n",
    "geocoder = GoogleV3(api_key=key)"
   ]
  },
  {
   "cell_type": "code",
   "execution_count": 193,
   "metadata": {
    "collapsed": false
   },
   "outputs": [],
   "source": [
    "# Read in config file with DB params\n",
    "with open('../scripts/config.json') as f:\n",
    "    conf = json.load(f)\n",
    "    \n",
    "# Define a connection string\n",
    "conn_string = 'host={} dbname={} user={} password={}'.format(conf.get('host'),\n",
    "                                                             conf.get('database'),\n",
    "                                                             conf.get('user'),\n",
    "                                                             conf.get('passw'))\n",
    "\n",
    "# Create a connection object\n",
    "conn = psycopg2.connect(conn_string)\n",
    "\n",
    "# SQL string that unpacks nested JSON arrays\n",
    "#sql_str = \"\"\"\n",
    "#SELECT id, name, addresses from gtr.organisations;\n",
    "#\"\"\"\n",
    "\n",
    "# chunksize returns an iterator that reads chunk number of rows at a time\n",
    "#df = pd.read_sql(sql_str,\n",
    "#                      conn)"
   ]
  },
  {
   "cell_type": "code",
   "execution_count": 4,
   "metadata": {
    "collapsed": false
   },
   "outputs": [
    {
     "data": {
      "text/html": [
       "<div>\n",
       "<table border=\"1\" class=\"dataframe\">\n",
       "  <thead>\n",
       "    <tr style=\"text-align: right;\">\n",
       "      <th></th>\n",
       "      <th>id</th>\n",
       "      <th>name</th>\n",
       "      <th>addresses</th>\n",
       "    </tr>\n",
       "  </thead>\n",
       "  <tbody>\n",
       "    <tr>\n",
       "      <th>0</th>\n",
       "      <td>BAB46AB6-90FC-4145-B885-0153BEA15A73</td>\n",
       "      <td>A-Tech Fabrications Limited</td>\n",
       "      <td>{'address': [{'region': 'North East', 'type': ...</td>\n",
       "    </tr>\n",
       "    <tr>\n",
       "      <th>1</th>\n",
       "      <td>BB979A0C-0F8D-4B3F-A8D0-06A5F0D45FB0</td>\n",
       "      <td>Life Sciences</td>\n",
       "      <td>{'address': []}</td>\n",
       "    </tr>\n",
       "    <tr>\n",
       "      <th>2</th>\n",
       "      <td>BCD9069A-6739-4039-86DB-042CB13254CB</td>\n",
       "      <td>Zurich Insurance plc</td>\n",
       "      <td>{'address': [{'region': 'Unknown', 'line2': '3...</td>\n",
       "    </tr>\n",
       "    <tr>\n",
       "      <th>3</th>\n",
       "      <td>B69FACF5-5AB9-4D97-88CD-0A38C32935FF</td>\n",
       "      <td>Limagrain UK Ltd</td>\n",
       "      <td>{'address': [{'region': 'East Midlands', 'line...</td>\n",
       "    </tr>\n",
       "    <tr>\n",
       "      <th>4</th>\n",
       "      <td>B76FE143-1E07-40B0-8932-028207296A78</td>\n",
       "      <td>China Earthquake Administration</td>\n",
       "      <td>{'address': [{'region': 'Outside UK', 'line2':...</td>\n",
       "    </tr>\n",
       "  </tbody>\n",
       "</table>\n",
       "</div>"
      ],
      "text/plain": [
       "                                     id                             name  \\\n",
       "0  BAB46AB6-90FC-4145-B885-0153BEA15A73      A-Tech Fabrications Limited   \n",
       "1  BB979A0C-0F8D-4B3F-A8D0-06A5F0D45FB0                    Life Sciences   \n",
       "2  BCD9069A-6739-4039-86DB-042CB13254CB             Zurich Insurance plc   \n",
       "3  B69FACF5-5AB9-4D97-88CD-0A38C32935FF                 Limagrain UK Ltd   \n",
       "4  B76FE143-1E07-40B0-8932-028207296A78  China Earthquake Administration   \n",
       "\n",
       "                                           addresses  \n",
       "0  {'address': [{'region': 'North East', 'type': ...  \n",
       "1                                    {'address': []}  \n",
       "2  {'address': [{'region': 'Unknown', 'line2': '3...  \n",
       "3  {'address': [{'region': 'East Midlands', 'line...  \n",
       "4  {'address': [{'region': 'Outside UK', 'line2':...  "
      ]
     },
     "execution_count": 4,
     "metadata": {},
     "output_type": "execute_result"
    }
   ],
   "source": [
    " df.head()"
   ]
  },
  {
   "cell_type": "code",
   "execution_count": 5,
   "metadata": {
    "collapsed": false
   },
   "outputs": [],
   "source": [
    "# API rate limits with billing enabled\n",
    "@ratelim.greedy(100000, 60 * 60 * 24)\n",
    "@ratelim.greedy(10, 1)\n",
    "def geocode(address_dict):\n",
    "    try:\n",
    "        pc = address_dict['address'][0].get('postCode', None)\n",
    "        return geocoder.geocode(pc)\n",
    "    except:\n",
    "        address = address_str(address_dict)\n",
    "        if address:\n",
    "            return geocoder.google(address_str)\n",
    "        else:\n",
    "            return None"
   ]
  },
  {
   "cell_type": "code",
   "execution_count": 6,
   "metadata": {
    "collapsed": true
   },
   "outputs": [],
   "source": [
    "def postcode(address_entry):\n",
    "    try:\n",
    "        return address_entry['address'][0].get('postCode', None)\n",
    "    except:\n",
    "        return None"
   ]
  },
  {
   "cell_type": "code",
   "execution_count": 7,
   "metadata": {
    "collapsed": false
   },
   "outputs": [],
   "source": [
    "def address_str(address_dict):\n",
    "    \n",
    "    address_keys = [\n",
    "    'line1',\n",
    "    'line2',\n",
    "    'line3',\n",
    "    'county',\n",
    "    'postCode',\n",
    "    ]\n",
    "    \n",
    "    l = []\n",
    "    address_list = address_dict.get('address', None)\n",
    "    if address_list is None:\n",
    "        return None\n",
    "    try:\n",
    "        if address_list[0] is not None:\n",
    "            [l.append(add_list[0][key]) if key in address_keys else '' for key in address_list[0]]            \n",
    "    except:\n",
    "        return None\n",
    "    \n",
    "    return \", \".join(l)"
   ]
  },
  {
   "cell_type": "code",
   "execution_count": 8,
   "metadata": {
    "collapsed": true
   },
   "outputs": [],
   "source": [
    "def check_address(address_dict):\n",
    "    address_list = address_dict.get('address', None)\n",
    "    if address_list is None:\n",
    "        return False\n",
    "    try:\n",
    "        if address_list[0] is not None:\n",
    "            return True\n",
    "    except:\n",
    "        return False"
   ]
  },
  {
   "cell_type": "code",
   "execution_count": 9,
   "metadata": {
    "collapsed": false
   },
   "outputs": [
    {
     "name": "stdout",
     "output_type": "stream",
     "text": [
      "18266 organisations with postcodes, 7299 without\n"
     ]
    }
   ],
   "source": [
    "df['postcode'] = df.addresses.map(postcode)\n",
    "n_postcodes = df.postcode.count()\n",
    "n_no_postcodes = len(df.postcode) - n_postcodes\n",
    "print('{} organisations with postcodes, {} without'.format(n_postcodes, n_no_postcodes))"
   ]
  },
  {
   "cell_type": "markdown",
   "metadata": {},
   "source": [
    "We will be unable to geocode 7,299 organisations by using only a postcode in the geocode request. Lets check how many of those without postcodes, also lack other address details. For instance, organisations from outside the UK would lack a postcode, but can still be geocoded using a string lookup."
   ]
  },
  {
   "cell_type": "code",
   "execution_count": 10,
   "metadata": {
    "collapsed": false
   },
   "outputs": [
    {
     "data": {
      "text/plain": [
       "True     21205\n",
       "False     4360\n",
       "Name: addresses, dtype: int64"
      ]
     },
     "execution_count": 10,
     "metadata": {},
     "output_type": "execute_result"
    }
   ],
   "source": [
    "# Full dataframe check\n",
    "df.addresses.map(check_address).value_counts()"
   ]
  },
  {
   "cell_type": "code",
   "execution_count": 11,
   "metadata": {
    "collapsed": false
   },
   "outputs": [
    {
     "data": {
      "text/plain": [
       "False    4360\n",
       "True     2939\n",
       "Name: addresses, dtype: int64"
      ]
     },
     "execution_count": 11,
     "metadata": {},
     "output_type": "execute_result"
    }
   ],
   "source": [
    "# Subset of those without postcodes\n",
    "df[df.postcode.isnull()].addresses.map(check_address).value_counts()"
   ]
  },
  {
   "cell_type": "markdown",
   "metadata": {},
   "source": [
    "Of the 7,299 organisations without a postcode, 4,360 also have no address data. This leaves 2,939 organisations with no postcode but some data in the address field. Therefore the maximum number of geocoded organisations will be 21,205. When geocoding, we will default to the use of a postcode where possible, and fallback to an address string where a postcode isn't present."
   ]
  },
  {
   "cell_type": "code",
   "execution_count": 16,
   "metadata": {
    "collapsed": false
   },
   "outputs": [],
   "source": [
    "latlng = []\n",
    "num_addresses = df.addresses.shape[0]\n",
    "f = FloatProgress(min=0, max=num_addresses)\n",
    "display(f)\n",
    "\n",
    "for address in df.addresses:\n",
    "    g = geocode(address)\n",
    "    try:\n",
    "        latlng.append((g.latitude, g.longitude))\n",
    "    except AttributeError:\n",
    "        latlng.append(None)\n",
    "    f.value += 1\n",
    "    "
   ]
  },
  {
   "cell_type": "code",
   "execution_count": 202,
   "metadata": {
    "collapsed": true
   },
   "outputs": [],
   "source": [
    "cur = conn.cursor()"
   ]
  },
  {
   "cell_type": "code",
   "execution_count": 203,
   "metadata": {
    "collapsed": false
   },
   "outputs": [],
   "source": [
    "# Add relevant columns\n",
    "cur.execute(\"ALTER TABLE gtr.organisations ADD COLUMN lat numeric;\")\n",
    "cur.execute(\"ALTER TABLE gtr.organisations ADD COLUMN lng numeric;\")\n",
    "conn.commit()"
   ]
  },
  {
   "cell_type": "code",
   "execution_count": 204,
   "metadata": {
    "collapsed": true
   },
   "outputs": [],
   "source": [
    "# Function to get tuple by position, returning\n",
    "# None where there isn't a valid entry\n",
    "def get_tuple_value(x, pos):\n",
    "    try:\n",
    "        return x[pos]\n",
    "    except TypeError:\n",
    "        return None"
   ]
  },
  {
   "cell_type": "code",
   "execution_count": 205,
   "metadata": {
    "collapsed": false
   },
   "outputs": [],
   "source": [
    "lat_list = df['latlng'].apply(get_tuple_value, args=(0,)).astype('str').tolist()\n",
    "lng_list = df['latlng'].apply(get_tuple_value, args=(1,)).astype('str').tolist()"
   ]
  },
  {
   "cell_type": "code",
   "execution_count": 209,
   "metadata": {
    "collapsed": false
   },
   "outputs": [],
   "source": [
    "# We use the data list to be sure of the template length\n",
    "records_list_template = ','.join(['(%s)'] * len(lat_list))"
   ]
  },
  {
   "cell_type": "code",
   "execution_count": 212,
   "metadata": {
    "collapsed": false
   },
   "outputs": [],
   "source": [
    "# Insert lat values\n",
    "insert_query = \"insert into gtr.organisations (lat) values {0}\".format(records_list_template)\n",
    "cur.execute(insert_query, lat_list)"
   ]
  },
  {
   "cell_type": "code",
   "execution_count": 208,
   "metadata": {
    "collapsed": true
   },
   "outputs": [],
   "source": [
    "# Insert lng values\n",
    "insert_query = \"insert into gtr.organisations (lng) values {0!s}\".format(records_list_template)\n",
    "cur.execute(insert_query, lng_list)"
   ]
  },
  {
   "cell_type": "code",
   "execution_count": 211,
   "metadata": {
    "collapsed": true
   },
   "outputs": [],
   "source": [
    "conn.commit()"
   ]
  }
 ],
 "metadata": {
  "kernelspec": {
   "display_name": "Python 3",
   "language": "python",
   "name": "python3"
  },
  "language_info": {
   "codemirror_mode": {
    "name": "ipython",
    "version": 3
   },
   "file_extension": ".py",
   "mimetype": "text/x-python",
   "name": "python",
   "nbconvert_exporter": "python",
   "pygments_lexer": "ipython3",
   "version": "3.5.1"
  }
 },
 "nbformat": 4,
 "nbformat_minor": 0
}

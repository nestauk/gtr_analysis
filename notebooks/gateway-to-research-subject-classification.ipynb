{
 "cells": [
  {
   "cell_type": "markdown",
   "metadata": {},
   "source": [
    "# Analysis of GTR data for subject classification\n",
    "\n",
    "* **Goal**: To classify research entities (organisations, universities, centres) into disciplines. This is based in the idea that the portfolio of activites of an organisation in GTR reflects their disciplinary profile and specialisation.\n",
    " * *Subgoals*\n",
    "   * Determine variables for classification: research subject, research topic?\n",
    "   * Determine right unit of analyis: institution, location, centre, individual?\n",
    "   * Determine classification formula: how do we assign units to disciplines?\n",
    "\n",
    "* **Outputs**: Organisation metadata we can use to look at interesting questions:\n",
    " *  What are the levels of collaboration between organisations with different specialisations?\n",
    " *  What are the levels of disciplinary specialisation in different regions? \n",
    "   * Some of this could be purely be done at the area level: e.g. counts of papers by topic and region. It wouldn't require institutional classification.\n",
    "   \n",
    "* **Other ideas**: \n",
    " * Use community detection in the collaboration network to detect communities.\n",
    " * Topic modelling of user profiles to define subsectors. We'll probably need to do this anyway."
   ]
  },
  {
   "cell_type": "code",
   "execution_count": 81,
   "metadata": {
    "collapsed": true
   },
   "outputs": [],
   "source": [
    "%matplotlib inline\n",
    "\n",
    "#Imports\n",
    "import json\n",
    "import matplotlib.pyplot as plt\n",
    "import psycopg2\n",
    "import pandas as pd\n",
    "import numpy as np\n",
    "import seaborn as sns\n",
    "\n",
    "#For network analysis and community detection\n",
    "from itertools import combinations\n",
    "import networkx as nx\n",
    "import community #Get this package: http://perso.crans.org/aynaud/communities/\n",
    "\n",
    "#Path for visual outputs:\n",
    "out_path = \"/Users/juanmateos-garcia/Desktop/Arloesiadur/data_work/outputs/\"\n"
   ]
  },
  {
   "cell_type": "code",
   "execution_count": 2,
   "metadata": {
    "collapsed": false
   },
   "outputs": [],
   "source": [
    "#Create connection with our database\n",
    "#Steps\n",
    "#Load config file\n",
    "with open(\"../scripts/config.json\",'r') as f:\n",
    "    config = json.load(f)\n",
    "\n",
    "#Create connection string\n",
    "conn_string = 'host={} dbname={} user={} password={}'.format(\n",
    "                    config.get(\"host\"),\n",
    "                    config.get(\"database\"),\n",
    "                    config.get(\"user\"),\n",
    "                    config.get(\"passw\"))\n",
    "#Create connection\n",
    "conn = psycopg2.connect(conn_string)"
   ]
  },
  {
   "cell_type": "code",
   "execution_count": 3,
   "metadata": {
    "collapsed": false
   },
   "outputs": [],
   "source": [
    "#Read the data\n",
    "#We'll read it in chunks\n",
    "chunk= 500\n",
    "\n",
    "#Create sql query string\n",
    "sql_query_str=\"\"\"\n",
    "    SELECT\n",
    "        *\n",
    "    FROM\n",
    "        gtr.projects      \n",
    "\"\"\"\n",
    "\n",
    "#Read the data\n",
    "results = pd.read_sql(sql_query_str,con=conn,chunksize=chunk)"
   ]
  },
  {
   "cell_type": "code",
   "execution_count": 4,
   "metadata": {
    "collapsed": true
   },
   "outputs": [],
   "source": [
    "#Create df from results\n",
    "projects_df = pd.DataFrame()\n",
    "for result in results:\n",
    "     projects_df = projects_df.append(result)"
   ]
  },
  {
   "cell_type": "code",
   "execution_count": 6,
   "metadata": {
    "collapsed": false
   },
   "outputs": [],
   "source": [
    "pd.options.mode.chained_assignment = None  # default='warn'\n",
    "\n",
    "#reindex\n",
    "projects_df.reset_index(drop=True,inplace=True)\n",
    "\n",
    "#Select relevant columns and subset\n",
    "rel_vars = ['pkey','abstract_texts','grant_cats','href','identifiers',\n",
    "            'lead_org_dpts','links','research_subjects','research_topics','status']\n",
    "projects_rel_df = projects_df[rel_vars]\n",
    "\n",
    "#Extract the json elements form their 1 element-dicts\n",
    "projects_rel_df['research_subjects'] = projects_rel_df[\n",
    "    'research_subjects'].map(lambda x: x['researchSubject'])\n",
    "\n",
    "projects_rel_df['research_topics'] = projects_rel_df[\n",
    "    'research_topics'].map(lambda x: x['researchTopic'])"
   ]
  },
  {
   "cell_type": "markdown",
   "metadata": {},
   "source": [
    "## Initial EDA\n",
    "We want to understand the data better:\n",
    "\n",
    "* How many subjects and topics are there for project?\n",
    "* How many projects have subjects and/or topics?\n",
    "* Which types of projects have this information?"
   ]
  },
  {
   "cell_type": "code",
   "execution_count": 9,
   "metadata": {
    "collapsed": false
   },
   "outputs": [
    {
     "name": "stdout",
     "output_type": "stream",
     "text": [
      "46.0% of projects have research subject data\n",
      "46.0% of projects have research topic data\n"
     ]
    }
   ],
   "source": [
    "#How many projects have a subject?\n",
    "print(\"{}% of projects have research subject data\".format(\n",
    "    np.round(100*np.sum([len(i)>0 for i in projects_rel_df['research_subjects']])/float(len(\n",
    "    projects_rel_df))),2))\n",
    "#And a topic?\n",
    "print(\"{}% of projects have research topic data\".format(\n",
    "    np.round(100*np.sum([len(i)>0 for i in projects_rel_df['research_topics']])/float(len(\n",
    "    projects_rel_df))),2))"
   ]
  },
  {
   "cell_type": "code",
   "execution_count": 10,
   "metadata": {
    "collapsed": false
   },
   "outputs": [
    {
     "name": "stderr",
     "output_type": "stream",
     "text": [
      "/usr/local/lib/python2.7/site-packages/ipykernel/__main__.py:3: FutureWarning: sort(columns=....) is deprecated, use sort_values(by=.....)\n",
      "  app.launch_new_instance()\n"
     ]
    },
    {
     "data": {
      "text/html": [
       "<div>\n",
       "<table border=\"1\" class=\"dataframe\">\n",
       "  <thead>\n",
       "    <tr style=\"text-align: right;\">\n",
       "      <th>research_subjects</th>\n",
       "      <th>False</th>\n",
       "      <th>True</th>\n",
       "    </tr>\n",
       "    <tr>\n",
       "      <th>grant_cats</th>\n",
       "      <th></th>\n",
       "      <th></th>\n",
       "    </tr>\n",
       "  </thead>\n",
       "  <tbody>\n",
       "    <tr>\n",
       "      <th>Research Grant</th>\n",
       "      <td>10307</td>\n",
       "      <td>27241</td>\n",
       "    </tr>\n",
       "    <tr>\n",
       "      <th>Fellowship</th>\n",
       "      <td>1588</td>\n",
       "      <td>2999</td>\n",
       "    </tr>\n",
       "    <tr>\n",
       "      <th>Business, Innovation &amp; Skills Financed</th>\n",
       "      <td>78</td>\n",
       "      <td>0</td>\n",
       "    </tr>\n",
       "    <tr>\n",
       "      <th>Other Grant</th>\n",
       "      <td>204</td>\n",
       "      <td>0</td>\n",
       "    </tr>\n",
       "    <tr>\n",
       "      <th>Training Grant</th>\n",
       "      <td>6276</td>\n",
       "      <td>0</td>\n",
       "    </tr>\n",
       "    <tr>\n",
       "      <th>Third Party Grant</th>\n",
       "      <td>9</td>\n",
       "      <td>0</td>\n",
       "    </tr>\n",
       "    <tr>\n",
       "      <th>Studentship</th>\n",
       "      <td>874</td>\n",
       "      <td>0</td>\n",
       "    </tr>\n",
       "    <tr>\n",
       "      <th>Smart - Proof of Market</th>\n",
       "      <td>609</td>\n",
       "      <td>0</td>\n",
       "    </tr>\n",
       "    <tr>\n",
       "      <th>Smart - Proof of Concept</th>\n",
       "      <td>800</td>\n",
       "      <td>0</td>\n",
       "    </tr>\n",
       "    <tr>\n",
       "      <th>Smart - Development of Prototype</th>\n",
       "      <td>702</td>\n",
       "      <td>0</td>\n",
       "    </tr>\n",
       "  </tbody>\n",
       "</table>\n",
       "</div>"
      ],
      "text/plain": [
       "research_subjects                       False  True \n",
       "grant_cats                                          \n",
       "Research Grant                          10307  27241\n",
       "Fellowship                               1588   2999\n",
       "Business, Innovation & Skills Financed     78      0\n",
       "Other Grant                               204      0\n",
       "Training Grant                           6276      0\n",
       "Third Party Grant                           9      0\n",
       "Studentship                               874      0\n",
       "Smart - Proof of Market                   609      0\n",
       "Smart - Proof of Concept                  800      0\n",
       "Smart - Development of Prototype          702      0"
      ]
     },
     "execution_count": 10,
     "metadata": {},
     "output_type": "execute_result"
    }
   ],
   "source": [
    "#Which types of project have a subject?\n",
    "has_subject = projects_rel_df['research_subjects'].apply(lambda x: len(x)>0)\n",
    "pd.crosstab(projects_rel_df['grant_cats'],has_subject).sort(True,ascending=False)[:10]\n",
    "\n",
    "#Understandably, innovate_uk funded activities don't have a subject. But also\n",
    "    #some research fellowships and research grants don't have a subject. Does\n",
    "        #this follow any pattern?"
   ]
  },
  {
   "cell_type": "code",
   "execution_count": 11,
   "metadata": {
    "collapsed": false
   },
   "outputs": [
    {
     "name": "stderr",
     "output_type": "stream",
     "text": [
      "/usr/local/lib/python2.7/site-packages/ipykernel/__main__.py:15: FutureWarning: sort(columns=....) is deprecated, use sort_values(by=.....)\n"
     ]
    },
    {
     "data": {
      "text/html": [
       "<div>\n",
       "<table border=\"1\" class=\"dataframe\">\n",
       "  <thead>\n",
       "    <tr style=\"text-align: right;\">\n",
       "      <th>research_subjects</th>\n",
       "      <th>False</th>\n",
       "      <th>True</th>\n",
       "      <th>non_subject_perc</th>\n",
       "    </tr>\n",
       "    <tr>\n",
       "      <th>lead_org_dpts</th>\n",
       "      <th></th>\n",
       "      <th></th>\n",
       "      <th></th>\n",
       "    </tr>\n",
       "  </thead>\n",
       "  <tbody>\n",
       "    <tr>\n",
       "      <th>Life Sciences</th>\n",
       "      <td>380</td>\n",
       "      <td>249</td>\n",
       "      <td>0.604134</td>\n",
       "    </tr>\n",
       "    <tr>\n",
       "      <th>Unlisted</th>\n",
       "      <td>342</td>\n",
       "      <td>168</td>\n",
       "      <td>0.670588</td>\n",
       "    </tr>\n",
       "    <tr>\n",
       "      <th>Chemistry</th>\n",
       "      <td>226</td>\n",
       "      <td>1195</td>\n",
       "      <td>0.159043</td>\n",
       "    </tr>\n",
       "    <tr>\n",
       "      <th>UNLISTED</th>\n",
       "      <td>220</td>\n",
       "      <td>22</td>\n",
       "      <td>0.909091</td>\n",
       "    </tr>\n",
       "    <tr>\n",
       "      <th>Biological Sciences</th>\n",
       "      <td>213</td>\n",
       "      <td>195</td>\n",
       "      <td>0.522059</td>\n",
       "    </tr>\n",
       "    <tr>\n",
       "      <th>Dept of Medicine</th>\n",
       "      <td>209</td>\n",
       "      <td>15</td>\n",
       "      <td>0.933036</td>\n",
       "    </tr>\n",
       "    <tr>\n",
       "      <th>School of Life Sciences</th>\n",
       "      <td>208</td>\n",
       "      <td>149</td>\n",
       "      <td>0.582633</td>\n",
       "    </tr>\n",
       "    <tr>\n",
       "      <th>Biochemistry</th>\n",
       "      <td>196</td>\n",
       "      <td>71</td>\n",
       "      <td>0.734082</td>\n",
       "    </tr>\n",
       "    <tr>\n",
       "      <th>Sch of Biological Sciences</th>\n",
       "      <td>181</td>\n",
       "      <td>176</td>\n",
       "      <td>0.507003</td>\n",
       "    </tr>\n",
       "    <tr>\n",
       "      <th>Sch of Biosciences</th>\n",
       "      <td>161</td>\n",
       "      <td>140</td>\n",
       "      <td>0.534884</td>\n",
       "    </tr>\n",
       "  </tbody>\n",
       "</table>\n",
       "</div>"
      ],
      "text/plain": [
       "research_subjects           False  True  non_subject_perc\n",
       "lead_org_dpts                                            \n",
       "Life Sciences                 380   249          0.604134\n",
       "Unlisted                      342   168          0.670588\n",
       "Chemistry                     226  1195          0.159043\n",
       "UNLISTED                      220    22          0.909091\n",
       "Biological Sciences           213   195          0.522059\n",
       "Dept of Medicine              209    15          0.933036\n",
       "School of Life Sciences       208   149          0.582633\n",
       "Biochemistry                  196    71          0.734082\n",
       "Sch of Biological Sciences    181   176          0.507003\n",
       "Sch of Biosciences            161   140          0.534884"
      ]
     },
     "execution_count": 11,
     "metadata": {},
     "output_type": "execute_result"
    }
   ],
   "source": [
    "#Focus analysis on research grant and fellowship projects\n",
    "#Subset\n",
    "projects_academic_df = projects_rel_df[[i in ['Research Grant','Fellowship'] for\n",
    "                                                 i in projects_rel_df.grant_cats]]\n",
    "        \n",
    "#Status of a project doesn't seem to explain missing subject.\n",
    "pd.crosstab(projects_academic_df['status'],has_subject)\n",
    "\n",
    "#What about department?\n",
    "inst_subject_ctab = pd.crosstab(\n",
    "    projects_academic_df['lead_org_dpts'],has_subject)\n",
    "inst_subject_ctab['non_subject_perc']=inst_subject_ctab[False]/inst_subject_ctab.sum(axis=1)\n",
    "\n",
    "#Seem to be primarily biological sciences/medicine departments\n",
    "inst_subject_ctab.sort(False,ascending=False)[:10]"
   ]
  },
  {
   "cell_type": "code",
   "execution_count": 12,
   "metadata": {
    "collapsed": false
   },
   "outputs": [
    {
     "name": "stdout",
     "output_type": "stream",
     "text": [
      "2246 unique strings for lead organisation departments\n"
     ]
    },
    {
     "data": {
      "text/plain": [
       "Physics                  1269\n",
       "Physics and Astronomy     760\n",
       "Computer Science          641\n",
       "Life Sciences             629\n",
       "Unlisted                  510\n",
       "Earth Sciences            457\n",
       "Geography                 449\n",
       "Psychology                417\n",
       "Biological Sciences       408\n",
       "Name: lead_org_dpts, dtype: int64"
      ]
     },
     "execution_count": 12,
     "metadata": {},
     "output_type": "execute_result"
    }
   ],
   "source": [
    "#How many unique lead departments are there?\n",
    "print(\"{} unique strings for lead organisation departments\".\n",
    "      format(projects_academic_df['lead_org_dpts'].nunique()))\n",
    "projects_academic_df['lead_org_dpts'].value_counts()[1:10]"
   ]
  },
  {
   "cell_type": "code",
   "execution_count": 13,
   "metadata": {
    "collapsed": false
   },
   "outputs": [
    {
     "data": {
      "text/html": [
       "<div>\n",
       "<table border=\"1\" class=\"dataframe\">\n",
       "  <thead>\n",
       "    <tr style=\"text-align: right;\">\n",
       "      <th></th>\n",
       "      <th>pkey</th>\n",
       "      <th>abstract_texts</th>\n",
       "      <th>grant_cats</th>\n",
       "      <th>href</th>\n",
       "      <th>identifiers</th>\n",
       "      <th>lead_org_dpts</th>\n",
       "      <th>links</th>\n",
       "      <th>research_subjects</th>\n",
       "      <th>research_topics</th>\n",
       "      <th>status</th>\n",
       "      <th>subject_list</th>\n",
       "      <th>topic_list</th>\n",
       "    </tr>\n",
       "  </thead>\n",
       "  <tbody>\n",
       "    <tr>\n",
       "      <th>0</th>\n",
       "      <td>32138</td>\n",
       "      <td>This project is principally in combinatorics, ...</td>\n",
       "      <td>Research Grant</td>\n",
       "      <td>http://gtr.rcuk.ac.uk:80/gtr/api/projects/A06A...</td>\n",
       "      <td>{u'identifier': [{u'type': u'RCUK', u'value': ...</td>\n",
       "      <td>Pure Mathematics</td>\n",
       "      <td>{u'link': [{u'otherAttributes': {}, u'href': u...</td>\n",
       "      <td>[{u'text': u'Mathematical sciences', u'percent...</td>\n",
       "      <td>[{u'text': u'Logic &amp; Combinatorics', u'percent...</td>\n",
       "      <td>Closed</td>\n",
       "      <td>[Mathematical sciences]</td>\n",
       "      <td>[Logic &amp; Combinatorics]</td>\n",
       "    </tr>\n",
       "    <tr>\n",
       "      <th>1</th>\n",
       "      <td>32139</td>\n",
       "      <td>The aim of the project is two fold to develop ...</td>\n",
       "      <td>Research Grant</td>\n",
       "      <td>http://gtr.rcuk.ac.uk:80/gtr/api/projects/A146...</td>\n",
       "      <td>{u'identifier': [{u'type': u'RCUK', u'value': ...</td>\n",
       "      <td>Computer Science</td>\n",
       "      <td>{u'link': [{u'otherAttributes': {}, u'href': u...</td>\n",
       "      <td>[{u'text': u'Info. &amp; commun. Technol.', u'perc...</td>\n",
       "      <td>[{u'text': u'Networks &amp; Distributed Systems', ...</td>\n",
       "      <td>Closed</td>\n",
       "      <td>[Info. &amp; commun. Technol.]</td>\n",
       "      <td>[Networks &amp; Distributed Systems, Mobile Comput...</td>\n",
       "    </tr>\n",
       "    <tr>\n",
       "      <th>2</th>\n",
       "      <td>32140</td>\n",
       "      <td>This project builds upon the successful UK bas...</td>\n",
       "      <td>Research Grant</td>\n",
       "      <td>http://gtr.rcuk.ac.uk:80/gtr/api/projects/A1C2...</td>\n",
       "      <td>{u'identifier': [{u'type': u'RCUK', u'value': ...</td>\n",
       "      <td>Electronic and Electrical Engineering</td>\n",
       "      <td>{u'link': [{u'otherAttributes': {}, u'href': u...</td>\n",
       "      <td>[{u'text': u'Electrical Engineering', u'percen...</td>\n",
       "      <td>[{u'text': u'Electric Motor &amp; Drive Systems', ...</td>\n",
       "      <td>Closed</td>\n",
       "      <td>[Electrical Engineering]</td>\n",
       "      <td>[Electric Motor &amp; Drive Systems, Power Electro...</td>\n",
       "    </tr>\n",
       "    <tr>\n",
       "      <th>4</th>\n",
       "      <td>32142</td>\n",
       "      <td>Glasgow is widely recognised, alongside London...</td>\n",
       "      <td>Research Grant</td>\n",
       "      <td>http://gtr.rcuk.ac.uk:80/gtr/api/projects/E208...</td>\n",
       "      <td>{u'identifier': [{u'type': u'RCUK', u'value': ...</td>\n",
       "      <td>School of Fine Art</td>\n",
       "      <td>{u'link': [{u'otherAttributes': {}, u'href': u...</td>\n",
       "      <td>[{u'text': u'Visual arts', u'percentage': 0, u...</td>\n",
       "      <td>[{u'text': u'Fine Art HTP', u'percentage': 0, ...</td>\n",
       "      <td>Closed</td>\n",
       "      <td>[Visual arts]</td>\n",
       "      <td>[Fine Art HTP]</td>\n",
       "    </tr>\n",
       "    <tr>\n",
       "      <th>5</th>\n",
       "      <td>32143</td>\n",
       "      <td>&lt;p&gt;Julien Grenet's programme of research is fo...</td>\n",
       "      <td>Fellowship</td>\n",
       "      <td>http://gtr.rcuk.ac.uk:80/gtr/api/projects/E221...</td>\n",
       "      <td>{u'identifier': [{u'type': u'RCUK', u'value': ...</td>\n",
       "      <td>Centre for Economic Performance</td>\n",
       "      <td>{u'link': [{u'otherAttributes': {}, u'href': u...</td>\n",
       "      <td>[{u'text': u'Economics', u'percentage': 0, u'i...</td>\n",
       "      <td>[{u'text': u'Economics', u'percentage': 0, u'i...</td>\n",
       "      <td>Closed</td>\n",
       "      <td>[Economics]</td>\n",
       "      <td>[Economics]</td>\n",
       "    </tr>\n",
       "  </tbody>\n",
       "</table>\n",
       "</div>"
      ],
      "text/plain": [
       "    pkey                                     abstract_texts      grant_cats  \\\n",
       "0  32138  This project is principally in combinatorics, ...  Research Grant   \n",
       "1  32139  The aim of the project is two fold to develop ...  Research Grant   \n",
       "2  32140  This project builds upon the successful UK bas...  Research Grant   \n",
       "4  32142  Glasgow is widely recognised, alongside London...  Research Grant   \n",
       "5  32143  <p>Julien Grenet's programme of research is fo...      Fellowship   \n",
       "\n",
       "                                                href  \\\n",
       "0  http://gtr.rcuk.ac.uk:80/gtr/api/projects/A06A...   \n",
       "1  http://gtr.rcuk.ac.uk:80/gtr/api/projects/A146...   \n",
       "2  http://gtr.rcuk.ac.uk:80/gtr/api/projects/A1C2...   \n",
       "4  http://gtr.rcuk.ac.uk:80/gtr/api/projects/E208...   \n",
       "5  http://gtr.rcuk.ac.uk:80/gtr/api/projects/E221...   \n",
       "\n",
       "                                         identifiers  \\\n",
       "0  {u'identifier': [{u'type': u'RCUK', u'value': ...   \n",
       "1  {u'identifier': [{u'type': u'RCUK', u'value': ...   \n",
       "2  {u'identifier': [{u'type': u'RCUK', u'value': ...   \n",
       "4  {u'identifier': [{u'type': u'RCUK', u'value': ...   \n",
       "5  {u'identifier': [{u'type': u'RCUK', u'value': ...   \n",
       "\n",
       "                           lead_org_dpts  \\\n",
       "0                       Pure Mathematics   \n",
       "1                       Computer Science   \n",
       "2  Electronic and Electrical Engineering   \n",
       "4                     School of Fine Art   \n",
       "5        Centre for Economic Performance   \n",
       "\n",
       "                                               links  \\\n",
       "0  {u'link': [{u'otherAttributes': {}, u'href': u...   \n",
       "1  {u'link': [{u'otherAttributes': {}, u'href': u...   \n",
       "2  {u'link': [{u'otherAttributes': {}, u'href': u...   \n",
       "4  {u'link': [{u'otherAttributes': {}, u'href': u...   \n",
       "5  {u'link': [{u'otherAttributes': {}, u'href': u...   \n",
       "\n",
       "                                   research_subjects  \\\n",
       "0  [{u'text': u'Mathematical sciences', u'percent...   \n",
       "1  [{u'text': u'Info. & commun. Technol.', u'perc...   \n",
       "2  [{u'text': u'Electrical Engineering', u'percen...   \n",
       "4  [{u'text': u'Visual arts', u'percentage': 0, u...   \n",
       "5  [{u'text': u'Economics', u'percentage': 0, u'i...   \n",
       "\n",
       "                                     research_topics  status  \\\n",
       "0  [{u'text': u'Logic & Combinatorics', u'percent...  Closed   \n",
       "1  [{u'text': u'Networks & Distributed Systems', ...  Closed   \n",
       "2  [{u'text': u'Electric Motor & Drive Systems', ...  Closed   \n",
       "4  [{u'text': u'Fine Art HTP', u'percentage': 0, ...  Closed   \n",
       "5  [{u'text': u'Economics', u'percentage': 0, u'i...  Closed   \n",
       "\n",
       "                 subject_list  \\\n",
       "0     [Mathematical sciences]   \n",
       "1  [Info. & commun. Technol.]   \n",
       "2    [Electrical Engineering]   \n",
       "4               [Visual arts]   \n",
       "5                 [Economics]   \n",
       "\n",
       "                                          topic_list  \n",
       "0                            [Logic & Combinatorics]  \n",
       "1  [Networks & Distributed Systems, Mobile Comput...  \n",
       "2  [Electric Motor & Drive Systems, Power Electro...  \n",
       "4                                     [Fine Art HTP]  \n",
       "5                                        [Economics]  "
      ]
     },
     "execution_count": 13,
     "metadata": {},
     "output_type": "execute_result"
    }
   ],
   "source": [
    "#Only consider projects with subject data (drop nas and )\n",
    "projects_w_subject_df = projects_academic_df[projects_academic_df.research_subjects.notnull()]\n",
    "projects_w_subject_df = projects_academic_df[[len(i)>0 for i in\n",
    "                                             projects_academic_df.research_topics]]\n",
    "\n",
    "#Extract research subjects and research topics.\n",
    "projects_w_subject_df['subject_list'] = [[i['text'] for i in sublist] for sublist in \n",
    "                                       projects_w_subject_df['research_subjects']]\n",
    "projects_w_subject_df['topic_list'] = [[i['text'] for i in sublist] for sublist in \n",
    "                                       projects_w_subject_df['research_topics']]\n",
    "\n",
    "projects_w_subject_df.head()"
   ]
  },
  {
   "cell_type": "code",
   "execution_count": 14,
   "metadata": {
    "collapsed": false
   },
   "outputs": [],
   "source": [
    "project_all_subjects = pd.Series([i for sublist in projects_w_subject_df['subject_list'] for\n",
    "                       i in sublist])\n",
    "projects_all_topics = pd.Series([i for sublist in projects_w_subject_df['topic_list'] for\n",
    "                       i in sublist])"
   ]
  },
  {
   "cell_type": "code",
   "execution_count": 17,
   "metadata": {
    "collapsed": false
   },
   "outputs": [
    {
     "name": "stdout",
     "output_type": "stream",
     "text": [
      "There are 82 unique subjects\n"
     ]
    },
    {
     "data": {
      "text/plain": [
       "Info. & commun. Technol.         3342\n",
       "Tools, technologies & methods    2492\n",
       "Climate & Climate Change         2089\n",
       "Geosciences                      1876\n",
       "Materials sciences               1789\n",
       "dtype: int64"
      ]
     },
     "execution_count": 17,
     "metadata": {},
     "output_type": "execute_result"
    }
   ],
   "source": [
    "#NB \"Tools, technologies and methods\" seems to be a generic subject. We will drop it later.\n",
    "subject_value_counts = project_all_subjects.value_counts()\n",
    "print(\"There are {} unique subjects\".format(len(subject_value_counts)))\n",
    "subject_value_counts.head()"
   ]
  },
  {
   "cell_type": "code",
   "execution_count": 20,
   "metadata": {
    "collapsed": false
   },
   "outputs": [
    {
     "name": "stdout",
     "output_type": "stream",
     "text": [
      "There are 607 unique topics\n"
     ]
    },
    {
     "data": {
      "text/plain": [
       "Climate & Climate Change      1947\n",
       "Materials Characterisation    1470\n",
       "Sociology                     1225\n",
       "Psychology                    1076\n",
       "Biogeochemical Cycles          962\n",
       "dtype: int64"
      ]
     },
     "execution_count": 20,
     "metadata": {},
     "output_type": "execute_result"
    }
   ],
   "source": [
    "topic_value_counts = projects_all_topics.value_counts()\n",
    "print(\"There are {} unique topics\".format(len(topic_value_counts)))\n",
    "topic_value_counts.head()"
   ]
  },
  {
   "cell_type": "code",
   "execution_count": 21,
   "metadata": {
    "collapsed": false
   },
   "outputs": [
    {
     "data": {
      "text/plain": [
       "<matplotlib.text.Text at 0x10c9cacd0>"
      ]
     },
     "execution_count": 21,
     "metadata": {},
     "output_type": "execute_result"
    },
    {
     "data": {
      "image/png": "[encoded data removed]",
      "text/plain": [
       "<matplotlib.figure.Figure at 0x156eaa410>"
      ]
     },
     "metadata": {},
     "output_type": "display_data"
    }
   ],
   "source": [
    "#Can we use co-occurrence of topics to create a taxonomy of topics and of subjects? \n",
    "#How often does it happen?\n",
    "subject_n = pd.Series([len(i) for i in projects_w_subject_df['subject_list']])\n",
    "topic_n = pd.Series([len(i) for i in projects_w_subject_df['topic_list']])\n",
    "\n",
    "f, (ax1, ax2) = plt.subplots(2,sharex=True)\n",
    "my_plot = sns.distplot(topic_n,ax=ax1)\n",
    "my_plot.set_title(\"Over topics\")\n",
    "my_plot2 = sns.distplot(subject_n,ax=ax2)\n",
    "my_plot2.set_title(\"Over subjects\")\n",
    "f.suptitle(\"Topic/Subject histograms\",size=12,color='red')\n"
   ]
  },
  {
   "cell_type": "markdown",
   "metadata": {},
   "source": [
    "## Community detection\n",
    "\n",
    "* We create a network based on subject co-occurrences\n",
    "* Perform community detection on the set of topics for each project in order to identify a smaller set.\n",
    "* We can attach these to organisations and regions."
   ]
  },
  {
   "cell_type": "code",
   "execution_count": 22,
   "metadata": {
    "collapsed": false
   },
   "outputs": [],
   "source": [
    "def extract_network_from_corpus(label_corpus,stop_words=None):\n",
    "    \"\"\"\n",
    "    Extracts a network object from a corpus of documents with co-ocurring labels. \n",
    "    In the network, the labels are nodes and co-occurrences between them are edges. Weight is number of co-occurrences.\n",
    "\n",
    "    Inputs:\n",
    "    label_corpus: corpus of documents with label co-occurrence.\n",
    "    stop_words: labels to remove (e.g. generic terms)\n",
    "    \n",
    "    Returns a networkx object that we can do things with (such as community detection)\n",
    "    \n",
    "    \"\"\"\n",
    "    #Container for pairs of labels\n",
    "    label_pairs_container =[]\n",
    "    \n",
    "    #For each pair\n",
    "    for i in label_corpus:\n",
    "    \n",
    "    #List of tuples where every tuple is a combination of topics\n",
    "        pairs = list(combinations(i,2))\n",
    "    \n",
    "    #Extract these as lists of dicts capturing connections between topics, and add those to the container.\n",
    "    #NB we are sorting the tuples to make sure that we don't duplicate edges.\n",
    "        if len(pairs)>0:\n",
    "            cont = [{'e1':sorted(tup)[0],'e2':sorted(tup)[1]} for tup in pairs]\n",
    "            label_pairs_container.append(cont)\n",
    "\n",
    "    #Flatten dict list and turn into DF\n",
    "    label_pairs_df = pd.DataFrame([ds for sublist in label_pairs_container for ds in sublist])\n",
    "    \n",
    "    #Extract weights\n",
    "    label_edgelist = pd.DataFrame(label_pairs_df.groupby(['e1','e2']).size()).reset_index().sort(columns=0,ascending=False)\n",
    "    label_edgelist.rename(columns={0:'weight'},inplace=True)\n",
    "    \n",
    "    #Remove stop-words\n",
    "    if stop_words != None:\n",
    "        has_ttm =  [x in stop_words or y in stop_words for x,y in zip(label_edgelist['e1'],label_edgelist['e2'])]\n",
    "        label_edgelist = label_edgelist[-pd.Series(has_ttm)]\n",
    "    \n",
    "    #Create label graph\n",
    "    label_graph = nx.from_pandas_dataframe(label_edgelist,'e1','e2',['weight'])\n",
    "    \n",
    "    return(label_graph)\n",
    "    "
   ]
  },
  {
   "cell_type": "code",
   "execution_count": 23,
   "metadata": {
    "collapsed": false
   },
   "outputs": [
    {
     "name": "stderr",
     "output_type": "stream",
     "text": [
      "/usr/local/lib/python2.7/site-packages/ipykernel/__main__.py:32: FutureWarning: sort(columns=....) is deprecated, use sort_values(by=.....)\n",
      "/usr/local/lib/python2.7/site-packages/ipykernel/__main__.py:38: UserWarning: Boolean Series key will be reindexed to match DataFrame index.\n"
     ]
    }
   ],
   "source": [
    "#Extract communities (discipline aggregates)\n",
    "subject_communities = community.best_partition(extract_network_from_corpus(projects_w_subject_df.subject_list,\n",
    "                                              stop_words=\"Tools, technologies & methods\"))\n",
    "topic_communities = community.best_partition(extract_network_from_corpus(projects_w_subject_df.topic_list))\n"
   ]
  },
  {
   "cell_type": "code",
   "execution_count": 24,
   "metadata": {
    "collapsed": true
   },
   "outputs": [],
   "source": [
    "#The community objects are dicts where keys are subjects or topics, and values their communities\n",
    "#Use this group dict to relabel variables\n",
    "grouped_topics_dict = {0:\"Social Sciences\",\n",
    "                      1:\"Environmental Sciences\",\n",
    "                      2:\"Life Sciences\",\n",
    "                      3:\"Arts and Humanities\",\n",
    "                      4:\"Physics\",\n",
    "                      5:\"Mathematics and Computing\",\n",
    "                      6:\"Engineering and Technology\"}"
   ]
  },
  {
   "cell_type": "code",
   "execution_count": 26,
   "metadata": {
    "collapsed": false
   },
   "outputs": [
    {
     "data": {
      "text/html": [
       "<div>\n",
       "<table border=\"1\" class=\"dataframe\">\n",
       "  <thead>\n",
       "    <tr style=\"text-align: right;\">\n",
       "      <th></th>\n",
       "      <th>pkey</th>\n",
       "      <th>topic_list</th>\n",
       "      <th>aggregated_topics</th>\n",
       "      <th>topic_classified</th>\n",
       "    </tr>\n",
       "  </thead>\n",
       "  <tbody>\n",
       "    <tr>\n",
       "      <th>1</th>\n",
       "      <td>32139</td>\n",
       "      <td>[Networks &amp; Distributed Systems, Mobile Comput...</td>\n",
       "      <td>[Mathematics and Computing, Mathematics and Co...</td>\n",
       "      <td>Mathematics and Computing</td>\n",
       "    </tr>\n",
       "    <tr>\n",
       "      <th>2</th>\n",
       "      <td>32140</td>\n",
       "      <td>[Electric Motor &amp; Drive Systems, Power Electro...</td>\n",
       "      <td>[Engineering and Technology, Engineering and T...</td>\n",
       "      <td>Engineering and Technology</td>\n",
       "    </tr>\n",
       "    <tr>\n",
       "      <th>4</th>\n",
       "      <td>32142</td>\n",
       "      <td>[Fine Art HTP]</td>\n",
       "      <td>[Arts and Humanities]</td>\n",
       "      <td>Arts and Humanities</td>\n",
       "    </tr>\n",
       "    <tr>\n",
       "      <th>5</th>\n",
       "      <td>32143</td>\n",
       "      <td>[Economics]</td>\n",
       "      <td>[Social Sciences]</td>\n",
       "      <td>Social Sciences</td>\n",
       "    </tr>\n",
       "    <tr>\n",
       "      <th>9</th>\n",
       "      <td>32147</td>\n",
       "      <td>[Art History, Heritage Management, Cultural Hi...</td>\n",
       "      <td>[Arts and Humanities, Arts and Humanities, Art...</td>\n",
       "      <td>Arts and Humanities</td>\n",
       "    </tr>\n",
       "    <tr>\n",
       "      <th>10</th>\n",
       "      <td>32148</td>\n",
       "      <td>[Multiprotein complexes, Structural Biology, B...</td>\n",
       "      <td>[Life Sciences, Life Sciences, Life Sciences, ...</td>\n",
       "      <td>Life Sciences</td>\n",
       "    </tr>\n",
       "  </tbody>\n",
       "</table>\n",
       "</div>"
      ],
      "text/plain": [
       "     pkey                                         topic_list  \\\n",
       "1   32139  [Networks & Distributed Systems, Mobile Comput...   \n",
       "2   32140  [Electric Motor & Drive Systems, Power Electro...   \n",
       "4   32142                                     [Fine Art HTP]   \n",
       "5   32143                                        [Economics]   \n",
       "9   32147  [Art History, Heritage Management, Cultural Hi...   \n",
       "10  32148  [Multiprotein complexes, Structural Biology, B...   \n",
       "\n",
       "                                    aggregated_topics  \\\n",
       "1   [Mathematics and Computing, Mathematics and Co...   \n",
       "2   [Engineering and Technology, Engineering and T...   \n",
       "4                               [Arts and Humanities]   \n",
       "5                                   [Social Sciences]   \n",
       "9   [Arts and Humanities, Arts and Humanities, Art...   \n",
       "10  [Life Sciences, Life Sciences, Life Sciences, ...   \n",
       "\n",
       "              topic_classified  \n",
       "1    Mathematics and Computing  \n",
       "2   Engineering and Technology  \n",
       "4          Arts and Humanities  \n",
       "5              Social Sciences  \n",
       "9          Arts and Humanities  \n",
       "10               Life Sciences  "
      ]
     },
     "execution_count": 26,
     "metadata": {},
     "output_type": "execute_result"
    }
   ],
   "source": [
    "#Lookup disciplines\n",
    "#We use topics\n",
    "projects_w_subject_df['aggregated_topics'] = projects_w_subject_df.topic_list.map(\n",
    "    lambda x: [grouped_topics_dict[topic_communities[i]] for i in x])\n",
    "\n",
    "#If there are more than 2 disciplines, we call the project Mixed (a.k.a. multi/interdisciplinary)\n",
    "projects_w_subject_df['topic_classified'] = projects_w_subject_df['aggregated_topics'].map(\n",
    "    lambda x: list(set(x))[0] if len(set(x))==1 else \"Mixed\")\n",
    "\n",
    "#Check outputs\n",
    "projects_w_subject_df.ix[1:10,['pkey','topic_list','aggregated_topics','topic_classified']]"
   ]
  },
  {
   "cell_type": "code",
   "execution_count": 67,
   "metadata": {
    "collapsed": false
   },
   "outputs": [
    {
     "data": {
      "text/html": [
       "<div>\n",
       "<table border=\"1\" class=\"dataframe\">\n",
       "  <thead>\n",
       "    <tr style=\"text-align: right;\">\n",
       "      <th></th>\n",
       "      <th>pkey</th>\n",
       "      <th>abstract_texts</th>\n",
       "      <th>created</th>\n",
       "      <th>grant_cats</th>\n",
       "      <th>href</th>\n",
       "      <th>health_categories</th>\n",
       "      <th>id</th>\n",
       "      <th>identifiers</th>\n",
       "      <th>lead_org_dpts</th>\n",
       "      <th>links</th>\n",
       "      <th>potential_impacts</th>\n",
       "      <th>research_activities</th>\n",
       "      <th>research_subjects</th>\n",
       "      <th>research_topics</th>\n",
       "      <th>status</th>\n",
       "      <th>titles</th>\n",
       "      <th>tech_abstracts</th>\n",
       "      <th>topic_list</th>\n",
       "      <th>aggregated_topics</th>\n",
       "      <th>topic_classified</th>\n",
       "    </tr>\n",
       "  </thead>\n",
       "  <tbody>\n",
       "    <tr>\n",
       "      <th>0</th>\n",
       "      <td>32138</td>\n",
       "      <td>This project is principally in combinatorics, ...</td>\n",
       "      <td>2016-03-31 19:16:25</td>\n",
       "      <td>Research Grant</td>\n",
       "      <td>http://gtr.rcuk.ac.uk:80/gtr/api/projects/A06A...</td>\n",
       "      <td>{u'healthCategory': []}</td>\n",
       "      <td>A06A7734-BD1D-40BB-B558-340085909449</td>\n",
       "      <td>{u'identifier': [{u'type': u'RCUK', u'value': ...</td>\n",
       "      <td>Pure Mathematics</td>\n",
       "      <td>{u'link': [{u'otherAttributes': {}, u'href': u...</td>\n",
       "      <td>None</td>\n",
       "      <td>{u'researchActivity': []}</td>\n",
       "      <td>{u'researchSubject': [{u'text': u'Mathematical...</td>\n",
       "      <td>{u'researchTopic': [{u'text': u'Logic &amp; Combin...</td>\n",
       "      <td>Closed</td>\n",
       "      <td>Homogeneous structures, bipartite graphs, and ...</td>\n",
       "      <td>None</td>\n",
       "      <td>[Logic &amp; Combinatorics]</td>\n",
       "      <td>[Mathematics and Computing]</td>\n",
       "      <td>Mathematics and Computing</td>\n",
       "    </tr>\n",
       "    <tr>\n",
       "      <th>1</th>\n",
       "      <td>32139</td>\n",
       "      <td>The aim of the project is two fold to develop ...</td>\n",
       "      <td>2016-03-31 19:16:25</td>\n",
       "      <td>Research Grant</td>\n",
       "      <td>http://gtr.rcuk.ac.uk:80/gtr/api/projects/A146...</td>\n",
       "      <td>{u'healthCategory': []}</td>\n",
       "      <td>A146C5A3-7448-4984-8CA3-2F490EE916D6</td>\n",
       "      <td>{u'identifier': [{u'type': u'RCUK', u'value': ...</td>\n",
       "      <td>Computer Science</td>\n",
       "      <td>{u'link': [{u'otherAttributes': {}, u'href': u...</td>\n",
       "      <td>None</td>\n",
       "      <td>{u'researchActivity': []}</td>\n",
       "      <td>{u'researchSubject': [{u'text': u'Info. &amp; comm...</td>\n",
       "      <td>{u'researchTopic': [{u'text': u'Networks &amp; Dis...</td>\n",
       "      <td>Closed</td>\n",
       "      <td>ViewNet - Context enhanced networked services ...</td>\n",
       "      <td>None</td>\n",
       "      <td>[Networks &amp; Distributed Systems, Mobile Comput...</td>\n",
       "      <td>[Mathematics and Computing, Mathematics and Co...</td>\n",
       "      <td>Mathematics and Computing</td>\n",
       "    </tr>\n",
       "    <tr>\n",
       "      <th>2</th>\n",
       "      <td>32140</td>\n",
       "      <td>This project builds upon the successful UK bas...</td>\n",
       "      <td>2016-03-31 19:16:25</td>\n",
       "      <td>Research Grant</td>\n",
       "      <td>http://gtr.rcuk.ac.uk:80/gtr/api/projects/A1C2...</td>\n",
       "      <td>{u'healthCategory': []}</td>\n",
       "      <td>A1C27923-78B8-4D64-81A5-3308896E89EE</td>\n",
       "      <td>{u'identifier': [{u'type': u'RCUK', u'value': ...</td>\n",
       "      <td>Electronic and Electrical Engineering</td>\n",
       "      <td>{u'link': [{u'otherAttributes': {}, u'href': u...</td>\n",
       "      <td>None</td>\n",
       "      <td>{u'researchActivity': []}</td>\n",
       "      <td>{u'researchSubject': [{u'text': u'Electrical E...</td>\n",
       "      <td>{u'researchTopic': [{u'text': u'Electric Motor...</td>\n",
       "      <td>Closed</td>\n",
       "      <td>High Power IGBT Modules for Marine Drive Appli...</td>\n",
       "      <td>None</td>\n",
       "      <td>[Electric Motor &amp; Drive Systems, Power Electro...</td>\n",
       "      <td>[Engineering and Technology, Engineering and T...</td>\n",
       "      <td>Engineering and Technology</td>\n",
       "    </tr>\n",
       "    <tr>\n",
       "      <th>3</th>\n",
       "      <td>32141</td>\n",
       "      <td>To develop a modular range of micro-solar powe...</td>\n",
       "      <td>2016-03-31 19:16:25</td>\n",
       "      <td>Knowledge Transfer Partnership</td>\n",
       "      <td>http://gtr.rcuk.ac.uk:80/gtr/api/projects/E1D3...</td>\n",
       "      <td>{u'healthCategory': []}</td>\n",
       "      <td>E1D34319-D0AD-4D08-9E27-3A3C1763EEC7</td>\n",
       "      <td>{u'identifier': [{u'type': u'RCUK', u'value': ...</td>\n",
       "      <td>None</td>\n",
       "      <td>{u'link': [{u'otherAttributes': {}, u'href': u...</td>\n",
       "      <td>None</td>\n",
       "      <td>{u'researchActivity': []}</td>\n",
       "      <td>{u'researchSubject': []}</td>\n",
       "      <td>{u'researchTopic': []}</td>\n",
       "      <td>Active</td>\n",
       "      <td>University of Northumbria at Newcastle and Sol...</td>\n",
       "      <td>None</td>\n",
       "      <td>NaN</td>\n",
       "      <td>NaN</td>\n",
       "      <td>NaN</td>\n",
       "    </tr>\n",
       "    <tr>\n",
       "      <th>4</th>\n",
       "      <td>32142</td>\n",
       "      <td>Glasgow is widely recognised, alongside London...</td>\n",
       "      <td>2016-03-31 19:16:25</td>\n",
       "      <td>Research Grant</td>\n",
       "      <td>http://gtr.rcuk.ac.uk:80/gtr/api/projects/E208...</td>\n",
       "      <td>{u'healthCategory': []}</td>\n",
       "      <td>E2081C1B-7135-4AF8-8C58-3BA4748A3E6A</td>\n",
       "      <td>{u'identifier': [{u'type': u'RCUK', u'value': ...</td>\n",
       "      <td>School of Fine Art</td>\n",
       "      <td>{u'link': [{u'otherAttributes': {}, u'href': u...</td>\n",
       "      <td>The main beneficiary groups benefitting from t...</td>\n",
       "      <td>{u'researchActivity': []}</td>\n",
       "      <td>{u'researchSubject': [{u'text': u'Visual arts'...</td>\n",
       "      <td>{u'researchTopic': [{u'text': u'Fine Art HTP',...</td>\n",
       "      <td>Closed</td>\n",
       "      <td>'The Glasgow Miracle - New evidence and insight'</td>\n",
       "      <td>None</td>\n",
       "      <td>[Fine Art HTP]</td>\n",
       "      <td>[Arts and Humanities]</td>\n",
       "      <td>Arts and Humanities</td>\n",
       "    </tr>\n",
       "  </tbody>\n",
       "</table>\n",
       "</div>"
      ],
      "text/plain": [
       "    pkey                                     abstract_texts  \\\n",
       "0  32138  This project is principally in combinatorics, ...   \n",
       "1  32139  The aim of the project is two fold to develop ...   \n",
       "2  32140  This project builds upon the successful UK bas...   \n",
       "3  32141  To develop a modular range of micro-solar powe...   \n",
       "4  32142  Glasgow is widely recognised, alongside London...   \n",
       "\n",
       "              created                      grant_cats  \\\n",
       "0 2016-03-31 19:16:25                  Research Grant   \n",
       "1 2016-03-31 19:16:25                  Research Grant   \n",
       "2 2016-03-31 19:16:25                  Research Grant   \n",
       "3 2016-03-31 19:16:25  Knowledge Transfer Partnership   \n",
       "4 2016-03-31 19:16:25                  Research Grant   \n",
       "\n",
       "                                                href        health_categories  \\\n",
       "0  http://gtr.rcuk.ac.uk:80/gtr/api/projects/A06A...  {u'healthCategory': []}   \n",
       "1  http://gtr.rcuk.ac.uk:80/gtr/api/projects/A146...  {u'healthCategory': []}   \n",
       "2  http://gtr.rcuk.ac.uk:80/gtr/api/projects/A1C2...  {u'healthCategory': []}   \n",
       "3  http://gtr.rcuk.ac.uk:80/gtr/api/projects/E1D3...  {u'healthCategory': []}   \n",
       "4  http://gtr.rcuk.ac.uk:80/gtr/api/projects/E208...  {u'healthCategory': []}   \n",
       "\n",
       "                                     id  \\\n",
       "0  A06A7734-BD1D-40BB-B558-340085909449   \n",
       "1  A146C5A3-7448-4984-8CA3-2F490EE916D6   \n",
       "2  A1C27923-78B8-4D64-81A5-3308896E89EE   \n",
       "3  E1D34319-D0AD-4D08-9E27-3A3C1763EEC7   \n",
       "4  E2081C1B-7135-4AF8-8C58-3BA4748A3E6A   \n",
       "\n",
       "                                         identifiers  \\\n",
       "0  {u'identifier': [{u'type': u'RCUK', u'value': ...   \n",
       "1  {u'identifier': [{u'type': u'RCUK', u'value': ...   \n",
       "2  {u'identifier': [{u'type': u'RCUK', u'value': ...   \n",
       "3  {u'identifier': [{u'type': u'RCUK', u'value': ...   \n",
       "4  {u'identifier': [{u'type': u'RCUK', u'value': ...   \n",
       "\n",
       "                           lead_org_dpts  \\\n",
       "0                       Pure Mathematics   \n",
       "1                       Computer Science   \n",
       "2  Electronic and Electrical Engineering   \n",
       "3                                   None   \n",
       "4                     School of Fine Art   \n",
       "\n",
       "                                               links  \\\n",
       "0  {u'link': [{u'otherAttributes': {}, u'href': u...   \n",
       "1  {u'link': [{u'otherAttributes': {}, u'href': u...   \n",
       "2  {u'link': [{u'otherAttributes': {}, u'href': u...   \n",
       "3  {u'link': [{u'otherAttributes': {}, u'href': u...   \n",
       "4  {u'link': [{u'otherAttributes': {}, u'href': u...   \n",
       "\n",
       "                                   potential_impacts  \\\n",
       "0                                               None   \n",
       "1                                               None   \n",
       "2                                               None   \n",
       "3                                               None   \n",
       "4  The main beneficiary groups benefitting from t...   \n",
       "\n",
       "         research_activities  \\\n",
       "0  {u'researchActivity': []}   \n",
       "1  {u'researchActivity': []}   \n",
       "2  {u'researchActivity': []}   \n",
       "3  {u'researchActivity': []}   \n",
       "4  {u'researchActivity': []}   \n",
       "\n",
       "                                   research_subjects  \\\n",
       "0  {u'researchSubject': [{u'text': u'Mathematical...   \n",
       "1  {u'researchSubject': [{u'text': u'Info. & comm...   \n",
       "2  {u'researchSubject': [{u'text': u'Electrical E...   \n",
       "3                           {u'researchSubject': []}   \n",
       "4  {u'researchSubject': [{u'text': u'Visual arts'...   \n",
       "\n",
       "                                     research_topics  status  \\\n",
       "0  {u'researchTopic': [{u'text': u'Logic & Combin...  Closed   \n",
       "1  {u'researchTopic': [{u'text': u'Networks & Dis...  Closed   \n",
       "2  {u'researchTopic': [{u'text': u'Electric Motor...  Closed   \n",
       "3                             {u'researchTopic': []}  Active   \n",
       "4  {u'researchTopic': [{u'text': u'Fine Art HTP',...  Closed   \n",
       "\n",
       "                                              titles tech_abstracts  \\\n",
       "0  Homogeneous structures, bipartite graphs, and ...           None   \n",
       "1  ViewNet - Context enhanced networked services ...           None   \n",
       "2  High Power IGBT Modules for Marine Drive Appli...           None   \n",
       "3  University of Northumbria at Newcastle and Sol...           None   \n",
       "4   'The Glasgow Miracle - New evidence and insight'           None   \n",
       "\n",
       "                                          topic_list  \\\n",
       "0                            [Logic & Combinatorics]   \n",
       "1  [Networks & Distributed Systems, Mobile Comput...   \n",
       "2  [Electric Motor & Drive Systems, Power Electro...   \n",
       "3                                                NaN   \n",
       "4                                     [Fine Art HTP]   \n",
       "\n",
       "                                   aggregated_topics  \\\n",
       "0                        [Mathematics and Computing]   \n",
       "1  [Mathematics and Computing, Mathematics and Co...   \n",
       "2  [Engineering and Technology, Engineering and T...   \n",
       "3                                                NaN   \n",
       "4                              [Arts and Humanities]   \n",
       "\n",
       "             topic_classified  \n",
       "0   Mathematics and Computing  \n",
       "1   Mathematics and Computing  \n",
       "2  Engineering and Technology  \n",
       "3                         NaN  \n",
       "4         Arts and Humanities  "
      ]
     },
     "execution_count": 67,
     "metadata": {},
     "output_type": "execute_result"
    }
   ],
   "source": [
    "#Join this with the project df\n",
    "project_labelled_df = projects_df.merge(projects_w_subject_df[['pkey','topic_list','aggregated_topics','topic_classified']],\n",
    "                                         on=\"pkey\",how='left')\n",
    "project_labelled_df.head()"
   ]
  },
  {
   "cell_type": "code",
   "execution_count": 78,
   "metadata": {
    "collapsed": false
   },
   "outputs": [
    {
     "name": "stderr",
     "output_type": "stream",
     "text": [
      "/usr/local/lib/python2.7/site-packages/ipykernel/__main__.py:32: FutureWarning: sort(columns=....) is deprecated, use sort_values(by=.....)\n"
     ]
    }
   ],
   "source": [
    "#Add attributes to networkx and output for plotting\n",
    "topic_network = extract_network_from_corpus(projects_w_subject_df.topic_list)\n",
    "\n",
    "#Add labels\n",
    "#For each label in a node\n",
    "for i in topic_network.node:\n",
    "    #Add a category attribute based on the grouped_topic_dict and topic_communities lookups\n",
    "    \n",
    "    topic_network.node[i][\"category\"] = grouped_topics_dict[topic_communities[i]]"
   ]
  },
  {
   "cell_type": "code",
   "execution_count": 86,
   "metadata": {
    "collapsed": true
   },
   "outputs": [],
   "source": [
    "nx.write_graphml(topic_network,out_path+\"topic_network_14may2016.graphml\")"
   ]
  },
  {
   "cell_type": "markdown",
   "metadata": {},
   "source": [
    "## Quick network graph via gephi\n",
    "\n",
    "### Node size\n",
    "* Degree centrality (number of edges with other topics)\n",
    "\n",
    "### Colours = subjects\n",
    "* Orange = Life sciences\n",
    "* Blue = Engineering + Technology\n",
    "* Red = Physics\n",
    "* Dark brown = Environmental sciences\n",
    "* Dark green = Maths and computing\n",
    "* Light green = Arts and Humanities\n",
    "* Purple = Social sciences\n",
    "\n",
    "<img src=\"topic_graph.png\">"
   ]
  },
  {
   "cell_type": "code",
   "execution_count": null,
   "metadata": {
    "collapsed": true
   },
   "outputs": [],
   "source": []
  }
 ],
 "metadata": {
  "kernelspec": {
   "display_name": "Python 2",
   "language": "python",
   "name": "python2"
  },
  "language_info": {
   "codemirror_mode": {
    "name": "ipython",
    "version": 2
   },
   "file_extension": ".py",
   "mimetype": "text/x-python",
   "name": "python",
   "nbconvert_exporter": "python",
   "pygments_lexer": "ipython2",
   "version": "2.7.11"
  }
 },
 "nbformat": 4,
 "nbformat_minor": 0
}

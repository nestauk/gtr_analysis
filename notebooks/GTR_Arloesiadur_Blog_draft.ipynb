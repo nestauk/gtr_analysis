{
 "cells": [
  {
   "cell_type": "markdown",
   "metadata": {},
   "source": [
    "# Using Gateway to Research Data to explore Welsh research networks\n",
    "\n",
    "Universities are a critical component of innovation systems that also include businesses and government – the famous “triple helix” idea. In addition to creating new knowledge, and highly educated graduates, they also connect government and industry. A better understanding of university networks can help policymakers put in place effective initiatives to support these networks. Some burning questions include:\n",
    "\n",
    "* What is the level of collaboration between researchers in different academic disciplines, and between academic researchers, businesses and government? \n",
    "* Are there any gaps in research networks that could be bridged through targeted interventions to support collaboration? What kinds of businesses are missing from university-research collaboration networks? \n",
    "* How do interventions to support collaboration transform the structure of research networks? What is their economic impact?\n",
    "\n",
    "In the first data pilot for Arloesiadur, our project to develop an innovation data analytics platform for Welsh government, we have started to map research networks in Wales using data obtained through the Gateway to Research Application Program Interface (API). [** footnote :This API is a front end to a database containing all Research Council UK (RCUK) and Innovate UK funded projects, including the researchers, the organisations involved, any publications and what funding was received. In this blog post, we report some of our work, and out findings.**]\n",
    "\n",
    "Before starting, we should point out that this analysis is preliminary. The data pilots we are running between now and the Autumn have the goal of exploring different datasets, methods to analyse them, and ways to communicate the findings. We will use what we learn to start building Arloesiadur in the Autumn. If you have any feedback or ideas, leave a comment below or drop us an e-mail at Arloesiadur_nesta@nesta.org.uk [**Set this up**]. The code we have used to collect, analyse and visualise the data is here [** link**].\n",
    "\n",
    "## 1. Preamble\n",
    "\n",
    "[*Brief description of the data and analysis referring to the other blog*]\n",
    "\n",
    "## 2. In what projects do Welsh universities specialise?\n",
    "\n",
    "<img src=\"university_specialisation_heatmap.png\",align=\"center\">\n",
    "\n",
    "## 3. What are the levels of collaboration across research domains?\n",
    "\n",
    "<img src=\"discipline_mixing_heatmap.png\" align=\"center\">\n",
    "\n",
    "## 4. The geographic span of Welsh research networks\n",
    "\n",
    "[*Description of the maps produced by James* ]\n",
    "\n",
    "## 5. An initial exploration of the structure of Welsh research networks\n",
    "\n",
    "[*Description of some findings from analysis of Welsh networks*]\n",
    "\n",
    "## 6. Next steps\n",
    "\n",
    "\n",
    "\n",
    "\n",
    "\n",
    "\n"
   ]
  },
  {
   "cell_type": "code",
   "execution_count": null,
   "metadata": {
    "collapsed": true
   },
   "outputs": [],
   "source": []
  }
 ],
 "metadata": {
  "kernelspec": {
   "display_name": "Python 2",
   "language": "python",
   "name": "python2"
  },
  "language_info": {
   "codemirror_mode": {
    "name": "ipython",
    "version": 2
   },
   "file_extension": ".py",
   "mimetype": "text/x-python",
   "name": "python",
   "nbconvert_exporter": "python",
   "pygments_lexer": "ipython2",
   "version": "2.7.11"
  }
 },
 "nbformat": 4,
 "nbformat_minor": 0
}

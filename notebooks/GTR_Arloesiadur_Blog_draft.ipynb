{
 "cells": [
  {
   "cell_type": "code",
   "execution_count": 1,
   "metadata": {
    "collapsed": true
   },
   "outputs": [],
   "source": [
    "from IPython.display import IFrame"
   ]
  },
  {
   "cell_type": "markdown",
   "metadata": {},
   "source": [
    "# Using Gateway to Research Data to explore Welsh research networks\n",
    "\n",
    "Universities are a critical component of innovation systems that also include businesses and government – the famous “triple helix” idea. In addition to creating new knowledge, and highly educated graduates, they also connect government and industry. A better understanding of university networks can help policymakers put in place effective initiatives to support these networks. Some burning questions include:\n",
    "\n",
    "* What is the level of collaboration between researchers in different academic disciplines, and between academic researchers, businesses and government? \n",
    "* Are there any gaps in research networks that could be bridged through targeted interventions to support collaboration? What kinds of businesses are missing from university-research collaboration networks? \n",
    "* How do interventions to support collaboration transform the structure of research networks? What is their economic impact?\n",
    "\n",
    "In the first data pilot for Arloesiadur, our project to develop an innovation data analytics platform for Welsh government, we have started to map research networks in Wales using data obtained through the Gateway to Research Application Program Interface (API). [** footnote :This API is a front end to a database containing all Research Council UK (RCUK) and Innovate UK funded projects, including the researchers, the organisations involved, any publications and what funding was received. In this blog post, we report some of our work, and out findings.**]\n",
    "\n",
    "Before starting, we should point out that this analysis is preliminary. The data pilots we are running between now and the Autumn have the goal of exploring different datasets, methods to analyse them, and ways to communicate the findings. We will use what we learn to start building Arloesiadur in the Autumn. If you have any feedback or ideas, leave a comment below or drop us an e-mail at Arloesiadur_nesta@nesta.org.uk [**Set this up**]. The code we have used to collect, analyse and visualise the data is here [** link**].\n",
    "\n",
    "## 1. Preamble\n",
    "\n",
    "[*Brief description of the data and analysis referring to the other blog*]\n",
    "\n",
    "## 2. In what projects do Welsh universities specialise?\n",
    "\n",
    "<img src=\"university_specialisation_heatmap.png\",align=\"center\">\n",
    "\n",
    "## 3. What are the levels of collaboration across research domains?\n",
    "\n",
    "<img src=\"discipline_mixing_heatmap.png\" align=\"center\">\n",
    "\n",
    "## 4. The geographic span of Welsh research networks in the UK\n",
    "\n",
    "The interactive map below shows our first (preliminary) analysis of the geographic scope of collaboration undertaken by Welsh universities. The color of each local authority district is determined by the number of collaborative projects in the GtR data that the selected university has been involved with in that district. These won't necessarily be academic projects, as the database also contains data about companies that have been involved in research and development, collaborative work, Knowledge Transfer Partnerships or Innovate UK funded projects. \n",
    "\n",
    "Based on this initial exploration of the data, Cardiff University has the highest levels of collaboration across the UK of any of the Welsh universities, with *X* collaborative projects having taken place across *X* local authority districts. A number of Welsh universities have recently merged to form larger institutions (University of South Wales and University of Wales, Trinity Saint Davids). In the process, these organisations were assigned new unique identifiers in GtR, and therefore don't have a full history of collaborations in the map below. This is something we are currently working towards updating, but is an example of where domain specific knowledge of the subject of any data is inevitably vital at all stages of the data processing cycle.\n",
    "\n",
    "To produce the resulting map we geocoded the organisations within the GtR database, using their postcodes and address strings to get approximate latitude and longitude coordinates. We used these to place each organisation into a specific local authority area, allowing us to count the number of projects each Welsh university participated in, in each district. All of our methods are available on [GitHub](www.github.com) *Add Link to github repo*.\n",
    "\n",
    "This is a very preliminary piece of work looking at the collaborative networks of universities geographically, but it shows the potential for new data to offer new insights into previously unexplored collaborations in physical space. In the future, we hope to add to this analysis by breaking down the collaborations by the project topics outlined above, as well as expanding the data to contrast Welsh collaboration networks with other comparator areas, such as the north of England .\n",
    "\n",
    "The geographic areas are local authority district boundaries (provided by [Dr Martin Chorley](#Licence-Information) of Cardiff University).\n"
   ]
  },
  {
   "cell_type": "code",
   "execution_count": 7,
   "metadata": {
    "collapsed": false
   },
   "outputs": [
    {
     "data": {
      "text/html": [
       "\n",
       "        <iframe\n",
       "            width=\"700\"\n",
       "            height=\"700\"\n",
       "            src=\"../visualisations/maps/index.html?embed=true\"\n",
       "            frameborder=\"0\"\n",
       "            allowfullscreen\n",
       "        ></iframe>\n",
       "        "
      ],
      "text/plain": [
       "<IPython.lib.display.IFrame at 0x109326690>"
      ]
     },
     "execution_count": 7,
     "metadata": {},
     "output_type": "execute_result"
    }
   ],
   "source": [
    "IFrame('../visualisations/maps/index.html?embed=true', width=700, height=700)"
   ]
  },
  {
   "cell_type": "markdown",
   "metadata": {},
   "source": [
    "## 5. An initial exploration of the structure of Welsh research networks\n",
    "\n",
    "[*Description of some findings from analysis of Welsh networks*]\n",
    "\n",
    "## 6. Next steps"
   ]
  },
  {
   "cell_type": "markdown",
   "metadata": {},
   "source": [
    "## Licence Information\n",
    "\n",
    "GeoJSON and TopoJSON UK Boundary Data by Martin Chorley is licensed under a \n",
    "Creative Commons Attribution 4.0 International License.\n",
    " \n",
    "To view a copy of this license, visit http://creativecommons.org/licenses/by/4.0/.\n",
    "\n",
    "Attribution can be provided by linking back to the Github repository \n",
    "https://github.com/martinjc/UK-GeoJson or to http://martinjc.com, and all use of this data should retain the copyright declarations below\n",
    "\n",
    "-----------------------------------------------------------------------------------------------\n",
    "Contains Ordnance Survey, Office of National Statistics, National Records Scotland and LPS Intellectual Property data © Crown copyright and database right [2016]. Data licensed under the terms of the Open Government Licence (http://www.nationalarchives.gov.uk/doc/open-government-licence/version/3). Ordnance Survey data covered by OS OpenData Licence.  Any further sub-licences must retain this attribution."
   ]
  }
 ],
 "metadata": {
  "kernelspec": {
   "display_name": "Python 2",
   "language": "python",
   "name": "python2"
  },
  "language_info": {
   "codemirror_mode": {
    "name": "ipython",
    "version": 2
   },
   "file_extension": ".py",
   "mimetype": "text/x-python",
   "name": "python",
   "nbconvert_exporter": "python",
   "pygments_lexer": "ipython2",
   "version": "2.7.11"
  }
 },
 "nbformat": 4,
 "nbformat_minor": 0
}

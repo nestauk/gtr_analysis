{
 "cells": [
  {
   "cell_type": "code",
   "execution_count": 1,
   "metadata": {
    "collapsed": true
   },
   "outputs": [],
   "source": [
    "# Inline matplotlib output\n",
    "%matplotlib inline"
   ]
  },
  {
   "cell_type": "code",
   "execution_count": 2,
   "metadata": {
    "collapsed": false
   },
   "outputs": [],
   "source": [
    "import json\n",
    "import matplotlib.pyplot as plt\n",
    "import networkx as nx\n",
    "import psycopg2\n",
    "import pandas as pd\n",
    "\n",
    "from pandas.io.json import json_normalize"
   ]
  },
  {
   "cell_type": "markdown",
   "metadata": {},
   "source": [
    "# SQL Setup\n",
    "\n",
    "As we are accessing data on a remote PostgreSQL server, we need to create a Psycopg2 `connection` object using our database parameters. These are read in from a JSON file at the path below. We use these to construct a connection string which is passed as the only parameter to the connect method."
   ]
  },
  {
   "cell_type": "code",
   "execution_count": 3,
   "metadata": {
    "collapsed": false
   },
   "outputs": [],
   "source": [
    "# Read in config file with DB params\n",
    "with open('../scripts/config.json') as f:\n",
    "    conf = json.load(f)\n",
    "    \n",
    "# Define a connection string\n",
    "conn_string = 'host={} dbname={} user={} password={}'.format(conf.get('host'),\n",
    "                                                             conf.get('database'),\n",
    "                                                             conf.get('user'),\n",
    "                                                             conf.get('passw'))\n",
    "\n",
    "# Create a connection object\n",
    "conn = psycopg2.connect(conn_string)"
   ]
  },
  {
   "cell_type": "markdown",
   "metadata": {},
   "source": [
    "# Persons\n",
    "\n",
    "This section of the notebook creates a DataFrame object holding data relating to persons in the Gateway to Research database. We first read in the data from a PostgreSQL database, expanding nested JSON elements to individual rows using Postgres' [jsonb_array_elements](http://www.postgresql.org/docs/9.4/static/functions-json.html) function.\n",
    "\n",
    "As this isn't a small database we use the pandas.read_sql `chunksize` parameter, which returns an iterator when specified. Instead of reading in every line of the data returned from a sql query, this iterator reads in `chunk` number of lines at a time, removing the requirement to hold every row in-memory while creating python objects to represent the data (which typically take up far less memory).\n",
    "\n",
    "The difference between this approach and the usual flow of directly creating a DataFrame is that we define the iterator `results` and an empty DataFrame `df` to which we append data `chunk` number of times while looping over the iterator. "
   ]
  },
  {
   "cell_type": "code",
   "execution_count": 4,
   "metadata": {
    "collapsed": false
   },
   "outputs": [],
   "source": [
    "# Number of rows to iterate at a time\n",
    "chunk = 5000\n",
    "\n",
    "# SQL string that unpacks nested JSON arrays\n",
    "sql_str = \"\"\"\n",
    "SELECT \n",
    "  id, first_name, surname, \n",
    "  jsonb_array_elements(links->'link')->'rel' as relationship,\n",
    "  jsonb_array_elements(links->'link')->'href' AS href,\n",
    "  jsonb_array_elements(links->'link')->'otherAttributes' as other_attribs\n",
    "FROM\n",
    "  gtr.persons;\n",
    "\"\"\"\n",
    "\n",
    "# chunksize returns an iterator that reads chunk number of rows at a time\n",
    "results = pd.read_sql(sql_str,\n",
    "                      conn,\n",
    "                      chunksize=chunk)\n",
    "\n",
    "# New dataframe object that can be appended to\n",
    "df = pd.DataFrame()\n",
    "\n",
    "# Iterate through result\n",
    "# This can take a while on large tables\n",
    "for result in results:\n",
    "    df = df.append(result)"
   ]
  },
  {
   "cell_type": "markdown",
   "metadata": {},
   "source": [
    "As the `df` object was an empty DataFrame that has now been appended to, the index will conatin duplicate values in the range 0 - (`chunk` - 1), so we reset the index to get unique integers."
   ]
  },
  {
   "cell_type": "code",
   "execution_count": 5,
   "metadata": {
    "collapsed": false
   },
   "outputs": [
    {
     "data": {
      "text/plain": [
       "2047    38\n",
       "2098    38\n",
       "819     38\n",
       "2866    38\n",
       "691     38\n",
       "dtype: int64"
      ]
     },
     "execution_count": 5,
     "metadata": {},
     "output_type": "execute_result"
    }
   ],
   "source": [
    "# Check that index values are reoccuring\n",
    "df.index.value_counts().head()"
   ]
  },
  {
   "cell_type": "code",
   "execution_count": 6,
   "metadata": {
    "collapsed": false
   },
   "outputs": [],
   "source": [
    "# Remove non-unique integers in index\n",
    "df.reset_index(drop=True, inplace=True)"
   ]
  },
  {
   "cell_type": "code",
   "execution_count": 7,
   "metadata": {
    "collapsed": false
   },
   "outputs": [
    {
     "data": {
      "text/plain": [
       "2047      1\n",
       "163173    1\n",
       "150883    1\n",
       "148834    1\n",
       "154977    1\n",
       "dtype: int64"
      ]
     },
     "execution_count": 7,
     "metadata": {},
     "output_type": "execute_result"
    }
   ],
   "source": [
    "df.index.value_counts().head()"
   ]
  },
  {
   "cell_type": "code",
   "execution_count": 8,
   "metadata": {
    "collapsed": false
   },
   "outputs": [
    {
     "data": {
      "text/html": [
       "<div>\n",
       "<table border=\"1\" class=\"dataframe\">\n",
       "  <thead>\n",
       "    <tr style=\"text-align: right;\">\n",
       "      <th></th>\n",
       "      <th>id</th>\n",
       "      <th>first_name</th>\n",
       "      <th>surname</th>\n",
       "      <th>relationship</th>\n",
       "      <th>href</th>\n",
       "      <th>other_attribs</th>\n",
       "    </tr>\n",
       "  </thead>\n",
       "  <tbody>\n",
       "    <tr>\n",
       "      <th>0</th>\n",
       "      <td>181FC03A-FB8E-4C3D-8952-1D0DA0902AB3</td>\n",
       "      <td>Candice Coker</td>\n",
       "      <td>Morey</td>\n",
       "      <td>COI_PER</td>\n",
       "      <td>http://gtr.rcuk.ac.uk:80/gtr/api/projects/3DFA...</td>\n",
       "      <td>{}</td>\n",
       "    </tr>\n",
       "    <tr>\n",
       "      <th>1</th>\n",
       "      <td>181FC03A-FB8E-4C3D-8952-1D0DA0902AB3</td>\n",
       "      <td>Candice Coker</td>\n",
       "      <td>Morey</td>\n",
       "      <td>EMPLOYED</td>\n",
       "      <td>http://gtr.rcuk.ac.uk:80/gtr/api/organisations...</td>\n",
       "      <td>{}</td>\n",
       "    </tr>\n",
       "    <tr>\n",
       "      <th>2</th>\n",
       "      <td>1FAD8549-7B84-4B12-9D6C-F6F2B9A85481</td>\n",
       "      <td>Jaroslaw</td>\n",
       "      <td>Nowak</td>\n",
       "      <td>PI_PER</td>\n",
       "      <td>http://gtr.rcuk.ac.uk:80/gtr/api/projects/06E1...</td>\n",
       "      <td>{}</td>\n",
       "    </tr>\n",
       "    <tr>\n",
       "      <th>3</th>\n",
       "      <td>1FAD8549-7B84-4B12-9D6C-F6F2B9A85481</td>\n",
       "      <td>Jaroslaw</td>\n",
       "      <td>Nowak</td>\n",
       "      <td>COI_PER</td>\n",
       "      <td>http://gtr.rcuk.ac.uk:80/gtr/api/projects/621E...</td>\n",
       "      <td>{}</td>\n",
       "    </tr>\n",
       "    <tr>\n",
       "      <th>4</th>\n",
       "      <td>1FAD8549-7B84-4B12-9D6C-F6F2B9A85481</td>\n",
       "      <td>Jaroslaw</td>\n",
       "      <td>Nowak</td>\n",
       "      <td>PI_PER</td>\n",
       "      <td>http://gtr.rcuk.ac.uk:80/gtr/api/projects/F33A...</td>\n",
       "      <td>{}</td>\n",
       "    </tr>\n",
       "  </tbody>\n",
       "</table>\n",
       "</div>"
      ],
      "text/plain": [
       "                                     id     first_name surname relationship  \\\n",
       "0  181FC03A-FB8E-4C3D-8952-1D0DA0902AB3  Candice Coker   Morey      COI_PER   \n",
       "1  181FC03A-FB8E-4C3D-8952-1D0DA0902AB3  Candice Coker   Morey     EMPLOYED   \n",
       "2  1FAD8549-7B84-4B12-9D6C-F6F2B9A85481       Jaroslaw   Nowak       PI_PER   \n",
       "3  1FAD8549-7B84-4B12-9D6C-F6F2B9A85481       Jaroslaw   Nowak      COI_PER   \n",
       "4  1FAD8549-7B84-4B12-9D6C-F6F2B9A85481       Jaroslaw   Nowak       PI_PER   \n",
       "\n",
       "                                                href other_attribs  \n",
       "0  http://gtr.rcuk.ac.uk:80/gtr/api/projects/3DFA...            {}  \n",
       "1  http://gtr.rcuk.ac.uk:80/gtr/api/organisations...            {}  \n",
       "2  http://gtr.rcuk.ac.uk:80/gtr/api/projects/06E1...            {}  \n",
       "3  http://gtr.rcuk.ac.uk:80/gtr/api/projects/621E...            {}  \n",
       "4  http://gtr.rcuk.ac.uk:80/gtr/api/projects/F33A...            {}  "
      ]
     },
     "execution_count": 8,
     "metadata": {},
     "output_type": "execute_result"
    }
   ],
   "source": [
    "# Check everything looks normal\n",
    "df.head()"
   ]
  },
  {
   "cell_type": "markdown",
   "metadata": {},
   "source": [
    "One of the aspects of these data we are interested in are the links between researchers via projects they have worked on. The SQL query pulled through the URIs for projects that people worked on and their organisations (`href` column) as well as their relationship to that project or organisation (`relationship`).\n",
    "\n",
    "To make the URI easier to match to the project/organisation ID later on we split it and keep just the string after the last forward slash. This corresponds to the project/organisation ID which is contained in the project database. This is easily achieved using the `map` method and a `lambda` expression with a list slice."
   ]
  },
  {
   "cell_type": "code",
   "execution_count": 9,
   "metadata": {
    "collapsed": false
   },
   "outputs": [],
   "source": [
    "# We only want the unique identifier from the href\n",
    "df.href = df.href.map(lambda x: x.split('/')[-1])"
   ]
  },
  {
   "cell_type": "code",
   "execution_count": 10,
   "metadata": {
    "collapsed": false
   },
   "outputs": [
    {
     "data": {
      "text/html": [
       "<div>\n",
       "<table border=\"1\" class=\"dataframe\">\n",
       "  <thead>\n",
       "    <tr style=\"text-align: right;\">\n",
       "      <th></th>\n",
       "      <th>id</th>\n",
       "      <th>first_name</th>\n",
       "      <th>surname</th>\n",
       "      <th>relationship</th>\n",
       "      <th>href</th>\n",
       "      <th>other_attribs</th>\n",
       "    </tr>\n",
       "  </thead>\n",
       "  <tbody>\n",
       "    <tr>\n",
       "      <th>0</th>\n",
       "      <td>181FC03A-FB8E-4C3D-8952-1D0DA0902AB3</td>\n",
       "      <td>Candice Coker</td>\n",
       "      <td>Morey</td>\n",
       "      <td>COI_PER</td>\n",
       "      <td>3DFAF224-A9B4-486C-BF0D-C1B0A6F9D585</td>\n",
       "      <td>{}</td>\n",
       "    </tr>\n",
       "    <tr>\n",
       "      <th>1</th>\n",
       "      <td>181FC03A-FB8E-4C3D-8952-1D0DA0902AB3</td>\n",
       "      <td>Candice Coker</td>\n",
       "      <td>Morey</td>\n",
       "      <td>EMPLOYED</td>\n",
       "      <td>F0F2AC58-F3D5-4F25-8E51-6AF679C5EBFA</td>\n",
       "      <td>{}</td>\n",
       "    </tr>\n",
       "    <tr>\n",
       "      <th>2</th>\n",
       "      <td>1FAD8549-7B84-4B12-9D6C-F6F2B9A85481</td>\n",
       "      <td>Jaroslaw</td>\n",
       "      <td>Nowak</td>\n",
       "      <td>PI_PER</td>\n",
       "      <td>06E1A449-5F20-40F8-8ECF-E8FC9E585A71</td>\n",
       "      <td>{}</td>\n",
       "    </tr>\n",
       "    <tr>\n",
       "      <th>3</th>\n",
       "      <td>1FAD8549-7B84-4B12-9D6C-F6F2B9A85481</td>\n",
       "      <td>Jaroslaw</td>\n",
       "      <td>Nowak</td>\n",
       "      <td>COI_PER</td>\n",
       "      <td>621E5125-239C-410C-B18B-339FB0108A84</td>\n",
       "      <td>{}</td>\n",
       "    </tr>\n",
       "    <tr>\n",
       "      <th>4</th>\n",
       "      <td>1FAD8549-7B84-4B12-9D6C-F6F2B9A85481</td>\n",
       "      <td>Jaroslaw</td>\n",
       "      <td>Nowak</td>\n",
       "      <td>PI_PER</td>\n",
       "      <td>F33A7364-0224-4DA1-AF89-363F763FF57C</td>\n",
       "      <td>{}</td>\n",
       "    </tr>\n",
       "  </tbody>\n",
       "</table>\n",
       "</div>"
      ],
      "text/plain": [
       "                                     id     first_name surname relationship  \\\n",
       "0  181FC03A-FB8E-4C3D-8952-1D0DA0902AB3  Candice Coker   Morey      COI_PER   \n",
       "1  181FC03A-FB8E-4C3D-8952-1D0DA0902AB3  Candice Coker   Morey     EMPLOYED   \n",
       "2  1FAD8549-7B84-4B12-9D6C-F6F2B9A85481       Jaroslaw   Nowak       PI_PER   \n",
       "3  1FAD8549-7B84-4B12-9D6C-F6F2B9A85481       Jaroslaw   Nowak      COI_PER   \n",
       "4  1FAD8549-7B84-4B12-9D6C-F6F2B9A85481       Jaroslaw   Nowak       PI_PER   \n",
       "\n",
       "                                   href other_attribs  \n",
       "0  3DFAF224-A9B4-486C-BF0D-C1B0A6F9D585            {}  \n",
       "1  F0F2AC58-F3D5-4F25-8E51-6AF679C5EBFA            {}  \n",
       "2  06E1A449-5F20-40F8-8ECF-E8FC9E585A71            {}  \n",
       "3  621E5125-239C-410C-B18B-339FB0108A84            {}  \n",
       "4  F33A7364-0224-4DA1-AF89-363F763FF57C            {}  "
      ]
     },
     "execution_count": 10,
     "metadata": {},
     "output_type": "execute_result"
    }
   ],
   "source": [
    "df.head()"
   ]
  },
  {
   "cell_type": "markdown",
   "metadata": {},
   "source": [
    "Lets look at some basic stats. "
   ]
  },
  {
   "cell_type": "code",
   "execution_count": 11,
   "metadata": {
    "collapsed": false
   },
   "outputs": [
    {
     "name": "stdout",
     "output_type": "stream",
     "text": [
      "Number of researchers:\t\t51618\n",
      "Number of projects:\t\t64394\n",
      "Number of organisations:\t3501\n"
     ]
    }
   ],
   "source": [
    "print(\"Number of researchers:\\t\\t{}\".format(df.id.nunique()))\n",
    "print(\"Number of projects:\\t\\t{}\".format(df[df.relationship != \"EMPLOYED\"].href.nunique()))\n",
    "print(\"Number of organisations:\\t{}\".format(df[df.relationship == \"EMPLOYED\"].href.nunique()))"
   ]
  },
  {
   "cell_type": "markdown",
   "metadata": {},
   "source": [
    "To look at some stats across researchers, it's easier to group them by their id values, carry out the analyses, and then recombine the data. We do this by creating a GroupedBy object using the `groupby` DataFrame method, passing it the name of the column we wish to group by as a string.\n",
    "\n",
    "The `len` built-in function returns the number of keys in the GroupedBy object dictionary representing the groups. We can use this to check the number of groups is the same as the number of researchers. We will create two GroupedBy objecs, one with just projects and one with only "
   ]
  },
  {
   "cell_type": "code",
   "execution_count": 12,
   "metadata": {
    "collapsed": false
   },
   "outputs": [
    {
     "name": "stdout",
     "output_type": "stream",
     "text": [
      "Project groups: 50738\n",
      "Organisation groups: 51618\n"
     ]
    }
   ],
   "source": [
    "grp_projects = df[df.relationship != 'EMPLOYED'].groupby('id')\n",
    "grp_orgs = df[df.relationship == 'EMPLOYED'].groupby('id')\n",
    "print('Project groups: {}\\nOrganisation groups: {}'.format(len(grp_projects), len(grp_orgs)))"
   ]
  },
  {
   "cell_type": "markdown",
   "metadata": {},
   "source": [
    "So all researchers have an organisation link, but not all have a project link. Lets look at the data on number of projects by researcher."
   ]
  },
  {
   "cell_type": "code",
   "execution_count": 13,
   "metadata": {
    "collapsed": false
   },
   "outputs": [
    {
     "name": "stdout",
     "output_type": "stream",
     "text": [
      "Mean number of projects per researcher: 2.69376010091056\n",
      "Max number of projects per researcher: 5348\n"
     ]
    }
   ],
   "source": [
    "avg_projects = grp_projects['href'].count().mean()\n",
    "max_projects = grp_projects['href'].count().max()\n",
    "print(\"Mean number of projects per researcher: {}\".format(avg_projects))\n",
    "print(\"Max number of projects per researcher: {}\".format(max_projects))"
   ]
  },
  {
   "cell_type": "markdown",
   "metadata": {},
   "source": [
    "5,348 projects for a single person doesn't sound sensible. Lets look at the count of person's project links in descending order to see whether there are other issues."
   ]
  },
  {
   "cell_type": "code",
   "execution_count": 14,
   "metadata": {
    "collapsed": false
   },
   "outputs": [
    {
     "data": {
      "text/plain": [
       "id\n",
       "6BAA32D3-0592-4662-8707-B8FF49287B99    5348\n",
       "1EB3E0DF-CDB7-4690-8AE2-76659A55FADA    1796\n",
       "4E408C5C-D574-4927-97AF-1CE2C4AADDB1     671\n",
       "DB3BCEAD-7AF1-453F-B56E-8CEA2199DA0F      50\n",
       "855ACD43-8240-48FB-AF40-C8F87B294B74      45\n",
       "0C563960-68AC-41EB-8535-4F23806F09AA      45\n",
       "A757DCA4-11A9-4E31-A909-4178F9A4326C      41\n",
       "66F27E10-48BB-4714-9A85-9BCC4090FB65      40\n",
       "C7BFB802-13FD-482C-9D1D-02A1356BEFEF      40\n",
       "E7265890-DFAA-4CF4-8181-48515950E2FA      38\n",
       "E0972EDE-C975-43D8-8381-DACF83343666      37\n",
       "5C00A286-2044-4AD7-A91E-BE1DB9EF0C76      37\n",
       "C85FD069-6D6C-43BE-9E33-7C9643E7AC90      37\n",
       "CF80E2A9-03AA-405B-91C1-B018C1D25248      36\n",
       "C9511462-1605-4095-BC4C-F24797BF2FD9      35\n",
       "F19082DC-8F80-46C5-9B48-856FAE1FA203      35\n",
       "A0B95F21-37DF-4B88-84CD-091248E3E24D      35\n",
       "02864FC6-23B6-43C9-AFC8-29854658787B      35\n",
       "08B1BE0A-068E-4904-846E-CC08E3B637A3      34\n",
       "681275C6-A950-4FB2-B5A1-33F6D51A90C9      34\n",
       "0CEC6E19-2999-49FF-95D0-6A682CEB301E      34\n",
       "50011127-8841-4973-BE0A-1001E77667C8      33\n",
       "5C7FF154-503B-4CD0-AD2B-A4E833331D55      33\n",
       "CAB13A88-E7C2-42DB-973E-3D6A5E305AF7      33\n",
       "8815585D-6A56-42AD-8ABC-EC2C9566A374      33\n",
       "FBD53E5E-A25E-4507-B3FB-64435EE87796      33\n",
       "8E568E66-0B84-488A-955B-DFE95E5F9D3C      33\n",
       "087A8744-45C7-4BB0-9E7E-71F6252414E6      33\n",
       "9DE4BE6A-05F1-4AC6-A3EC-B4F33EA96180      32\n",
       "269DA546-00BF-4949-846C-46F0D6EB5E76      32\n",
       "                                        ... \n",
       "900A532B-2CFB-48B8-A6D9-AD06F3E901FF       1\n",
       "900B0B44-7919-4E35-8803-98287622B9B3       1\n",
       "900E55B9-89D5-4E70-BFCD-903BE94A639D       1\n",
       "900EBB12-5232-457F-943B-B913C660F890       1\n",
       "90127538-04B8-4F47-9C51-60FA9A418A57       1\n",
       "901450D1-E15C-4F6C-94E0-047EC516A420       1\n",
       "90193818-E168-43CF-ADED-839B74C08887       1\n",
       "901B06CB-33A3-4708-B6D8-6074F0B49B9D       1\n",
       "901B2F23-A53A-4249-AD46-C31DE847BFD3       1\n",
       "9020A25E-A908-4B79-AFE9-857EB484B260       1\n",
       "9021DF47-40D4-46BC-A641-053DE299057D       1\n",
       "9021F8B2-8784-4B9A-B870-F8716EA94FB1       1\n",
       "9027170D-27CE-4390-B988-817A15ADFDFB       1\n",
       "90277D8F-1A71-4FA8-9989-DE0E63AB15C3       1\n",
       "90290CF7-3A1E-4137-86B0-8BAA585F738D       1\n",
       "902D0772-7636-4594-A998-1438D507E8E6       1\n",
       "9030FCDF-4F2F-4F00-9B68-C618A0F3ABC5       1\n",
       "90317DD2-4726-4002-B18B-D7499FB1CDBB       1\n",
       "9031D46A-A0E3-445F-AF4A-2C419BE464EB       1\n",
       "903257E2-160F-404D-AC00-05529B751068       1\n",
       "9032E936-1B27-495F-82D0-27E04D45429C       1\n",
       "90335873-4323-4730-A17F-2CE1CD9BD55B       1\n",
       "90382E23-AD2F-47E3-B81D-89778DD219A7       1\n",
       "90386FEE-3EEB-4310-817C-A71B36E96C93       1\n",
       "903AD0BC-FD19-4E00-8517-8E2AD003EE96       1\n",
       "903AF57B-2356-409D-A94D-69F18AEB0FC2       1\n",
       "903B2845-EAA1-46DA-9EEC-BB86DBC1F5CF       1\n",
       "903E157A-2865-4C0E-BE28-4B207C37463A       1\n",
       "90402054-54A9-4EFE-9B4A-BCEDA6083D00       1\n",
       "80A76B06-FF13-47CB-A595-3D8CDA144A5F       1\n",
       "Name: href, dtype: int64"
      ]
     },
     "execution_count": 14,
     "metadata": {},
     "output_type": "execute_result"
    }
   ],
   "source": [
    "grp_projects['href'].count().sort_values(ascending=False)"
   ]
  },
  {
   "cell_type": "markdown",
   "metadata": {},
   "source": [
    "We can see from this that there are a small number of `persons` that have a very high number of projects. It makes sense to check their details to see whether we want to remove them from the analyses."
   ]
  },
  {
   "cell_type": "code",
   "execution_count": 15,
   "metadata": {
    "collapsed": false
   },
   "outputs": [],
   "source": [
    "# Get the ids as a list\n",
    "ids = [x for x in grp_projects['href'].count().sort_values(ascending=False)[0:3].index]"
   ]
  },
  {
   "cell_type": "code",
   "execution_count": 16,
   "metadata": {
    "collapsed": false
   },
   "outputs": [
    {
     "data": {
      "text/html": [
       "<div>\n",
       "<table border=\"1\" class=\"dataframe\">\n",
       "  <thead>\n",
       "    <tr style=\"text-align: right;\">\n",
       "      <th></th>\n",
       "      <th>id</th>\n",
       "      <th>first_name</th>\n",
       "      <th>surname</th>\n",
       "      <th>relationship</th>\n",
       "      <th>href</th>\n",
       "      <th>other_attribs</th>\n",
       "    </tr>\n",
       "  </thead>\n",
       "  <tbody>\n",
       "    <tr>\n",
       "      <th>32129</th>\n",
       "      <td>6BAA32D3-0592-4662-8707-B8FF49287B99</td>\n",
       "      <td>Unknown</td>\n",
       "      <td>Unknown</td>\n",
       "      <td>PM_PER</td>\n",
       "      <td>DE15D7ED-BA85-41FB-B063-14562C1104BE</td>\n",
       "      <td>{}</td>\n",
       "    </tr>\n",
       "    <tr>\n",
       "      <th>32130</th>\n",
       "      <td>6BAA32D3-0592-4662-8707-B8FF49287B99</td>\n",
       "      <td>Unknown</td>\n",
       "      <td>Unknown</td>\n",
       "      <td>PM_PER</td>\n",
       "      <td>BAAC1842-EA35-47FE-8582-163333BB1A0A</td>\n",
       "      <td>{}</td>\n",
       "    </tr>\n",
       "    <tr>\n",
       "      <th>32131</th>\n",
       "      <td>6BAA32D3-0592-4662-8707-B8FF49287B99</td>\n",
       "      <td>Unknown</td>\n",
       "      <td>Unknown</td>\n",
       "      <td>PM_PER</td>\n",
       "      <td>BCAE4818-A7CE-464E-86D4-1674A65565A1</td>\n",
       "      <td>{}</td>\n",
       "    </tr>\n",
       "    <tr>\n",
       "      <th>32132</th>\n",
       "      <td>6BAA32D3-0592-4662-8707-B8FF49287B99</td>\n",
       "      <td>Unknown</td>\n",
       "      <td>Unknown</td>\n",
       "      <td>PM_PER</td>\n",
       "      <td>EFBBC8FC-0E23-4640-87AB-1680EC6EAF86</td>\n",
       "      <td>{}</td>\n",
       "    </tr>\n",
       "    <tr>\n",
       "      <th>32133</th>\n",
       "      <td>6BAA32D3-0592-4662-8707-B8FF49287B99</td>\n",
       "      <td>Unknown</td>\n",
       "      <td>Unknown</td>\n",
       "      <td>PM_PER</td>\n",
       "      <td>8EBEAB04-66F6-4FF8-B0A8-119C278C5F00</td>\n",
       "      <td>{}</td>\n",
       "    </tr>\n",
       "    <tr>\n",
       "      <th>75737</th>\n",
       "      <td>1EB3E0DF-CDB7-4690-8AE2-76659A55FADA</td>\n",
       "      <td>Grants Team</td>\n",
       "      <td>Administered At Tsb</td>\n",
       "      <td>PM_PER</td>\n",
       "      <td>BE1DE1B8-2BE5-432C-8546-0DC0E884F47A</td>\n",
       "      <td>{}</td>\n",
       "    </tr>\n",
       "    <tr>\n",
       "      <th>75738</th>\n",
       "      <td>1EB3E0DF-CDB7-4690-8AE2-76659A55FADA</td>\n",
       "      <td>Grants Team</td>\n",
       "      <td>Administered At Tsb</td>\n",
       "      <td>PM_PER</td>\n",
       "      <td>CAD86664-958A-4B98-840B-0E452CDBC1A4</td>\n",
       "      <td>{}</td>\n",
       "    </tr>\n",
       "    <tr>\n",
       "      <th>75739</th>\n",
       "      <td>1EB3E0DF-CDB7-4690-8AE2-76659A55FADA</td>\n",
       "      <td>Grants Team</td>\n",
       "      <td>Administered At Tsb</td>\n",
       "      <td>PM_PER</td>\n",
       "      <td>51997933-F1BD-4E89-9911-1547032667E0</td>\n",
       "      <td>{}</td>\n",
       "    </tr>\n",
       "    <tr>\n",
       "      <th>75740</th>\n",
       "      <td>1EB3E0DF-CDB7-4690-8AE2-76659A55FADA</td>\n",
       "      <td>Grants Team</td>\n",
       "      <td>Administered At Tsb</td>\n",
       "      <td>PM_PER</td>\n",
       "      <td>EAACF862-7E1B-4547-BF0D-0D2277C80748</td>\n",
       "      <td>{}</td>\n",
       "    </tr>\n",
       "    <tr>\n",
       "      <th>75741</th>\n",
       "      <td>1EB3E0DF-CDB7-4690-8AE2-76659A55FADA</td>\n",
       "      <td>Grants Team</td>\n",
       "      <td>Administered At Tsb</td>\n",
       "      <td>PM_PER</td>\n",
       "      <td>CE88677C-E0B5-4BFD-8073-1488C1375425</td>\n",
       "      <td>{}</td>\n",
       "    </tr>\n",
       "    <tr>\n",
       "      <th>77827</th>\n",
       "      <td>4E408C5C-D574-4927-97AF-1CE2C4AADDB1</td>\n",
       "      <td>Grants</td>\n",
       "      <td>Team</td>\n",
       "      <td>PM_PER</td>\n",
       "      <td>431BDAA4-E0AD-4025-8DB6-1BCB8DCC055D</td>\n",
       "      <td>{}</td>\n",
       "    </tr>\n",
       "    <tr>\n",
       "      <th>77828</th>\n",
       "      <td>4E408C5C-D574-4927-97AF-1CE2C4AADDB1</td>\n",
       "      <td>Grants</td>\n",
       "      <td>Team</td>\n",
       "      <td>PM_PER</td>\n",
       "      <td>C0DA4BDB-AF20-42E1-A1B9-1180824C6993</td>\n",
       "      <td>{}</td>\n",
       "    </tr>\n",
       "    <tr>\n",
       "      <th>77829</th>\n",
       "      <td>4E408C5C-D574-4927-97AF-1CE2C4AADDB1</td>\n",
       "      <td>Grants</td>\n",
       "      <td>Team</td>\n",
       "      <td>PM_PER</td>\n",
       "      <td>E3350D4A-D0AE-4A26-9295-02D27F9E5AEC</td>\n",
       "      <td>{}</td>\n",
       "    </tr>\n",
       "    <tr>\n",
       "      <th>77830</th>\n",
       "      <td>4E408C5C-D574-4927-97AF-1CE2C4AADDB1</td>\n",
       "      <td>Grants</td>\n",
       "      <td>Team</td>\n",
       "      <td>PM_PER</td>\n",
       "      <td>2F8E7C26-414F-4D69-9C4A-0847D949712E</td>\n",
       "      <td>{}</td>\n",
       "    </tr>\n",
       "    <tr>\n",
       "      <th>77831</th>\n",
       "      <td>4E408C5C-D574-4927-97AF-1CE2C4AADDB1</td>\n",
       "      <td>Grants</td>\n",
       "      <td>Team</td>\n",
       "      <td>PM_PER</td>\n",
       "      <td>5629461A-B277-4639-B727-0760B8FE5A40</td>\n",
       "      <td>{}</td>\n",
       "    </tr>\n",
       "  </tbody>\n",
       "</table>\n",
       "</div>"
      ],
      "text/plain": [
       "                                         id   first_name              surname  \\\n",
       "32129  6BAA32D3-0592-4662-8707-B8FF49287B99      Unknown              Unknown   \n",
       "32130  6BAA32D3-0592-4662-8707-B8FF49287B99      Unknown              Unknown   \n",
       "32131  6BAA32D3-0592-4662-8707-B8FF49287B99      Unknown              Unknown   \n",
       "32132  6BAA32D3-0592-4662-8707-B8FF49287B99      Unknown              Unknown   \n",
       "32133  6BAA32D3-0592-4662-8707-B8FF49287B99      Unknown              Unknown   \n",
       "75737  1EB3E0DF-CDB7-4690-8AE2-76659A55FADA  Grants Team  Administered At Tsb   \n",
       "75738  1EB3E0DF-CDB7-4690-8AE2-76659A55FADA  Grants Team  Administered At Tsb   \n",
       "75739  1EB3E0DF-CDB7-4690-8AE2-76659A55FADA  Grants Team  Administered At Tsb   \n",
       "75740  1EB3E0DF-CDB7-4690-8AE2-76659A55FADA  Grants Team  Administered At Tsb   \n",
       "75741  1EB3E0DF-CDB7-4690-8AE2-76659A55FADA  Grants Team  Administered At Tsb   \n",
       "77827  4E408C5C-D574-4927-97AF-1CE2C4AADDB1       Grants                 Team   \n",
       "77828  4E408C5C-D574-4927-97AF-1CE2C4AADDB1       Grants                 Team   \n",
       "77829  4E408C5C-D574-4927-97AF-1CE2C4AADDB1       Grants                 Team   \n",
       "77830  4E408C5C-D574-4927-97AF-1CE2C4AADDB1       Grants                 Team   \n",
       "77831  4E408C5C-D574-4927-97AF-1CE2C4AADDB1       Grants                 Team   \n",
       "\n",
       "      relationship                                  href other_attribs  \n",
       "32129       PM_PER  DE15D7ED-BA85-41FB-B063-14562C1104BE            {}  \n",
       "32130       PM_PER  BAAC1842-EA35-47FE-8582-163333BB1A0A            {}  \n",
       "32131       PM_PER  BCAE4818-A7CE-464E-86D4-1674A65565A1            {}  \n",
       "32132       PM_PER  EFBBC8FC-0E23-4640-87AB-1680EC6EAF86            {}  \n",
       "32133       PM_PER  8EBEAB04-66F6-4FF8-B0A8-119C278C5F00            {}  \n",
       "75737       PM_PER  BE1DE1B8-2BE5-432C-8546-0DC0E884F47A            {}  \n",
       "75738       PM_PER  CAD86664-958A-4B98-840B-0E452CDBC1A4            {}  \n",
       "75739       PM_PER  51997933-F1BD-4E89-9911-1547032667E0            {}  \n",
       "75740       PM_PER  EAACF862-7E1B-4547-BF0D-0D2277C80748            {}  \n",
       "75741       PM_PER  CE88677C-E0B5-4BFD-8073-1488C1375425            {}  \n",
       "77827       PM_PER  431BDAA4-E0AD-4025-8DB6-1BCB8DCC055D            {}  \n",
       "77828       PM_PER  C0DA4BDB-AF20-42E1-A1B9-1180824C6993            {}  \n",
       "77829       PM_PER  E3350D4A-D0AE-4A26-9295-02D27F9E5AEC            {}  \n",
       "77830       PM_PER  2F8E7C26-414F-4D69-9C4A-0847D949712E            {}  \n",
       "77831       PM_PER  5629461A-B277-4639-B727-0760B8FE5A40            {}  "
      ]
     },
     "execution_count": 16,
     "metadata": {},
     "output_type": "execute_result"
    }
   ],
   "source": [
    "df[(df['id'].isin(ids)) & (df['relationship'] != 'EMPLOYED')].groupby('id').head()"
   ]
  },
  {
   "cell_type": "markdown",
   "metadata": {},
   "source": [
    "We can see from this that those persons with a high number of project links actually all have `PM_PER` links (which from the GtR [online dictionary](http://gtr.rcuk.ac.uk/resources/GtRDataDictionary.pdf) we can see are *project managers* and not researchers). Lets check what other `relationship` types there are, mapping them back to the data dictionary."
   ]
  },
  {
   "cell_type": "code",
   "execution_count": 17,
   "metadata": {
    "collapsed": false
   },
   "outputs": [
    {
     "data": {
      "text/plain": [
       "array(['COI_PER', 'EMPLOYED', 'PI_PER', 'RESEARCH_COI_PER', 'FELLOW_PER',\n",
       "       'SUPER_PER', 'RESEARCH_PER', 'TGH_PER', 'PM_PER'], dtype=object)"
      ]
     },
     "execution_count": 17,
     "metadata": {},
     "output_type": "execute_result"
    }
   ],
   "source": [
    "df.relationship.unique()"
   ]
  },
  {
   "cell_type": "markdown",
   "metadata": {},
   "source": [
    "From this we can see that there are a number of researcher person types:\n",
    "- COI_PER (Co-investigator)\n",
    "- PI_PER (Principal investigator)\n",
    "- RESEARCH_COI_PER (Post-doc research assistant with COI status)\n",
    "- FELLOW_PER (Research Fellow)\n",
    "- RESEARCH_PER (Post-doc research assistant)\n",
    "\n",
    "As well as non-researcher person types:\n",
    "- EMPLOYED (Employing organisation)\n",
    "- TGH_PER (Training Grant Holder)\n",
    "- PM_PER (Project manager)\n",
    "\n",
    "The 'SUPER_PER' maps to supervisors of doctoral training students.\n",
    "\n",
    "So we need to be smarter in our GroupBy method calls"
   ]
  },
  {
   "cell_type": "code",
   "execution_count": 35,
   "metadata": {
    "collapsed": false
   },
   "outputs": [
    {
     "name": "stdout",
     "output_type": "stream",
     "text": [
      "Project groups: 46736\n",
      "Organisation groups: 51618\n"
     ]
    }
   ],
   "source": [
    "grp_projects = df[(df.relationship != 'EMPLOYED')\n",
    "                  & (df.relationship != 'PM_PER')\n",
    "                  & (df.relationship != 'SUPER_PER')\n",
    "                  & (df.relationship != 'TGH_PER')].groupby('id')\n",
    "\n",
    "grp_orgs = df[df.relationship == 'EMPLOYED'].groupby('id')\n",
    "print('Project groups: {}\\nOrganisation groups: {}'.format(len(grp_projects), len(grp_orgs)))"
   ]
  },
  {
   "cell_type": "code",
   "execution_count": 19,
   "metadata": {
    "collapsed": false
   },
   "outputs": [
    {
     "name": "stdout",
     "output_type": "stream",
     "text": [
      "Mean number of projects per researcher: 2.5\n",
      "Max number of projects per researcher: 49\n"
     ]
    }
   ],
   "source": [
    "avg_projects = grp_projects['href'].count().mean()\n",
    "max_projects = grp_projects['href'].count().max()\n",
    "min_projects = grp_projects['href'].count().min()\n",
    "print(\"Mean number of projects per researcher: {:.2}\".format(avg_projects))\n",
    "print(\"Max number of projects per researcher: {}\".format(max_projects))"
   ]
  },
  {
   "cell_type": "markdown",
   "metadata": {},
   "source": [
    "That is all we want to look at for now in terms of the Persons data. We'll move on to the Projects data next, which will be similar in terms of method execution, so I'll be less verbose."
   ]
  },
  {
   "cell_type": "markdown",
   "metadata": {},
   "source": [
    "# Projects\n",
    "\n",
    "We take a slightly different approach to reading projects data as these are stored as materialized views in PostgreSQL. To read them in, we get seperate dataframes and then use `pd.merge` using the `id` as a key. "
   ]
  },
  {
   "cell_type": "code",
   "execution_count": 20,
   "metadata": {
    "collapsed": true
   },
   "outputs": [],
   "source": [
    "def get_project_data(type):\n",
    "    sql_str = \"SELECT * FROM gtr.projects_{};\".format(type)\n",
    "    \n",
    "    # chunksize returns an iterator that reads chunk number of rows at a time\n",
    "    results = pd.read_sql(sql_str,\n",
    "                      conn,\n",
    "                      #parse_dates=['created'],\n",
    "                      chunksize=100000)\n",
    "    \n",
    "    dfx = pd.DataFrame()\n",
    "    \n",
    "    # Iterate through result\n",
    "    # This can take a while on large tables\n",
    "    for result in results:\n",
    "        dfx = dfx.append(result)\n",
    "\n",
    "    # Appending creates non-unique integers in index\n",
    "    dfx.reset_index(drop=True, inplace=True)\n",
    "    \n",
    "    return dfx.copy(deep=True)"
   ]
  },
  {
   "cell_type": "code",
   "execution_count": 21,
   "metadata": {
    "collapsed": false
   },
   "outputs": [
    {
     "data": {
      "text/html": [
       "<div>\n",
       "<table border=\"1\" class=\"dataframe\">\n",
       "  <thead>\n",
       "    <tr style=\"text-align: right;\">\n",
       "      <th></th>\n",
       "      <th>id</th>\n",
       "      <th>research_subject</th>\n",
       "    </tr>\n",
       "  </thead>\n",
       "  <tbody>\n",
       "    <tr>\n",
       "      <th>0</th>\n",
       "      <td>DC58EBBF-A402-4C83-A567-50AEEE8D63EC</td>\n",
       "      <td>Economics</td>\n",
       "    </tr>\n",
       "    <tr>\n",
       "      <th>1</th>\n",
       "      <td>D44A979C-2895-49B6-B411-4C54A11C1057</td>\n",
       "      <td>Marine environments</td>\n",
       "    </tr>\n",
       "    <tr>\n",
       "      <th>2</th>\n",
       "      <td>D44A979C-2895-49B6-B411-4C54A11C1057</td>\n",
       "      <td>Animal Science</td>\n",
       "    </tr>\n",
       "    <tr>\n",
       "      <th>3</th>\n",
       "      <td>D44A979C-2895-49B6-B411-4C54A11C1057</td>\n",
       "      <td>Economics</td>\n",
       "    </tr>\n",
       "    <tr>\n",
       "      <th>4</th>\n",
       "      <td>D44A979C-2895-49B6-B411-4C54A11C1057</td>\n",
       "      <td>Ecol, biodivers. &amp; systematics</td>\n",
       "    </tr>\n",
       "  </tbody>\n",
       "</table>\n",
       "</div>"
      ],
      "text/plain": [
       "                                     id                research_subject\n",
       "0  DC58EBBF-A402-4C83-A567-50AEEE8D63EC                       Economics\n",
       "1  D44A979C-2895-49B6-B411-4C54A11C1057             Marine environments\n",
       "2  D44A979C-2895-49B6-B411-4C54A11C1057                  Animal Science\n",
       "3  D44A979C-2895-49B6-B411-4C54A11C1057                       Economics\n",
       "4  D44A979C-2895-49B6-B411-4C54A11C1057  Ecol, biodivers. & systematics"
      ]
     },
     "execution_count": 21,
     "metadata": {},
     "output_type": "execute_result"
    }
   ],
   "source": [
    "df_projects_subject = get_project_data('subject')\n",
    "df_projects_subject.head()"
   ]
  },
  {
   "cell_type": "code",
   "execution_count": 22,
   "metadata": {
    "collapsed": false
   },
   "outputs": [
    {
     "data": {
      "text/html": [
       "<div>\n",
       "<table border=\"1\" class=\"dataframe\">\n",
       "  <thead>\n",
       "    <tr style=\"text-align: right;\">\n",
       "      <th></th>\n",
       "      <th>id</th>\n",
       "      <th>research_topic</th>\n",
       "    </tr>\n",
       "  </thead>\n",
       "  <tbody>\n",
       "    <tr>\n",
       "      <th>0</th>\n",
       "      <td>DC58EBBF-A402-4C83-A567-50AEEE8D63EC</td>\n",
       "      <td>Environmental economics</td>\n",
       "    </tr>\n",
       "    <tr>\n",
       "      <th>1</th>\n",
       "      <td>DC58EBBF-A402-4C83-A567-50AEEE8D63EC</td>\n",
       "      <td>Public economics</td>\n",
       "    </tr>\n",
       "    <tr>\n",
       "      <th>2</th>\n",
       "      <td>DC58EBBF-A402-4C83-A567-50AEEE8D63EC</td>\n",
       "      <td>Behavioural &amp; experimental eco</td>\n",
       "    </tr>\n",
       "    <tr>\n",
       "      <th>3</th>\n",
       "      <td>DC58EBBF-A402-4C83-A567-50AEEE8D63EC</td>\n",
       "      <td>Industrial Organisation (R&amp;D)</td>\n",
       "    </tr>\n",
       "    <tr>\n",
       "      <th>4</th>\n",
       "      <td>D44A979C-2895-49B6-B411-4C54A11C1057</td>\n",
       "      <td>Conservation Ecology</td>\n",
       "    </tr>\n",
       "  </tbody>\n",
       "</table>\n",
       "</div>"
      ],
      "text/plain": [
       "                                     id                  research_topic\n",
       "0  DC58EBBF-A402-4C83-A567-50AEEE8D63EC         Environmental economics\n",
       "1  DC58EBBF-A402-4C83-A567-50AEEE8D63EC                Public economics\n",
       "2  DC58EBBF-A402-4C83-A567-50AEEE8D63EC  Behavioural & experimental eco\n",
       "3  DC58EBBF-A402-4C83-A567-50AEEE8D63EC   Industrial Organisation (R&D)\n",
       "4  D44A979C-2895-49B6-B411-4C54A11C1057            Conservation Ecology"
      ]
     },
     "execution_count": 22,
     "metadata": {},
     "output_type": "execute_result"
    }
   ],
   "source": [
    "df_projects_topic = get_project_data('topic')\n",
    "df_projects_topic.head()"
   ]
  },
  {
   "cell_type": "code",
   "execution_count": 23,
   "metadata": {
    "collapsed": false
   },
   "outputs": [
    {
     "data": {
      "text/html": [
       "<div>\n",
       "<table border=\"1\" class=\"dataframe\">\n",
       "  <thead>\n",
       "    <tr style=\"text-align: right;\">\n",
       "      <th></th>\n",
       "      <th>id</th>\n",
       "      <th>href</th>\n",
       "      <th>rel</th>\n",
       "    </tr>\n",
       "  </thead>\n",
       "  <tbody>\n",
       "    <tr>\n",
       "      <th>0</th>\n",
       "      <td>0C22922F-7A57-450E-A0A1-4B8674BE6080</td>\n",
       "      <td>http://gtr.rcuk.ac.uk:80/gtr/api/persons/EBB4C...</td>\n",
       "      <td>COI_PER</td>\n",
       "    </tr>\n",
       "    <tr>\n",
       "      <th>1</th>\n",
       "      <td>0C22922F-7A57-450E-A0A1-4B8674BE6080</td>\n",
       "      <td>http://gtr.rcuk.ac.uk:80/gtr/api/persons/17D48...</td>\n",
       "      <td>COI_PER</td>\n",
       "    </tr>\n",
       "    <tr>\n",
       "      <th>2</th>\n",
       "      <td>0C22922F-7A57-450E-A0A1-4B8674BE6080</td>\n",
       "      <td>http://gtr.rcuk.ac.uk:80/gtr/api/persons/D6BC9...</td>\n",
       "      <td>COI_PER</td>\n",
       "    </tr>\n",
       "    <tr>\n",
       "      <th>3</th>\n",
       "      <td>0C22922F-7A57-450E-A0A1-4B8674BE6080</td>\n",
       "      <td>http://gtr.rcuk.ac.uk:80/gtr/api/persons/6C6E9...</td>\n",
       "      <td>COI_PER</td>\n",
       "    </tr>\n",
       "    <tr>\n",
       "      <th>4</th>\n",
       "      <td>0C22922F-7A57-450E-A0A1-4B8674BE6080</td>\n",
       "      <td>http://gtr.rcuk.ac.uk:80/gtr/api/persons/2237F...</td>\n",
       "      <td>COI_PER</td>\n",
       "    </tr>\n",
       "  </tbody>\n",
       "</table>\n",
       "</div>"
      ],
      "text/plain": [
       "                                     id  \\\n",
       "0  0C22922F-7A57-450E-A0A1-4B8674BE6080   \n",
       "1  0C22922F-7A57-450E-A0A1-4B8674BE6080   \n",
       "2  0C22922F-7A57-450E-A0A1-4B8674BE6080   \n",
       "3  0C22922F-7A57-450E-A0A1-4B8674BE6080   \n",
       "4  0C22922F-7A57-450E-A0A1-4B8674BE6080   \n",
       "\n",
       "                                                href      rel  \n",
       "0  http://gtr.rcuk.ac.uk:80/gtr/api/persons/EBB4C...  COI_PER  \n",
       "1  http://gtr.rcuk.ac.uk:80/gtr/api/persons/17D48...  COI_PER  \n",
       "2  http://gtr.rcuk.ac.uk:80/gtr/api/persons/D6BC9...  COI_PER  \n",
       "3  http://gtr.rcuk.ac.uk:80/gtr/api/persons/6C6E9...  COI_PER  \n",
       "4  http://gtr.rcuk.ac.uk:80/gtr/api/persons/2237F...  COI_PER  "
      ]
     },
     "execution_count": 23,
     "metadata": {},
     "output_type": "execute_result"
    }
   ],
   "source": [
    "df_projects_link = get_project_data('link')\n",
    "df_projects_link.head()"
   ]
  },
  {
   "cell_type": "code",
   "execution_count": 24,
   "metadata": {
    "collapsed": false
   },
   "outputs": [],
   "source": [
    "sql_str = \"SELECT id, grant_cats, lead_org_dpts, status, titles as title FROM gtr.projects;\"\n",
    "    \n",
    "# chunksize returns an iterator that reads chunk number of rows at a time\n",
    "results = pd.read_sql(sql_str,\n",
    "                  conn,\n",
    "                  #parse_dates=['created'],\n",
    "                  chunksize=100000)\n",
    "\n",
    "df_projects = pd.DataFrame()\n",
    "\n",
    "# Iterate through result\n",
    "# This can take a while on large tables\n",
    "for result in results:\n",
    "    df_projects = df_projects.append(result)\n",
    "\n",
    "# Appending creates non-unique integers in index\n",
    "df_projects.reset_index(drop=True, inplace=True)"
   ]
  },
  {
   "cell_type": "code",
   "execution_count": 25,
   "metadata": {
    "collapsed": false
   },
   "outputs": [
    {
     "data": {
      "text/html": [
       "<div>\n",
       "<table border=\"1\" class=\"dataframe\">\n",
       "  <thead>\n",
       "    <tr style=\"text-align: right;\">\n",
       "      <th></th>\n",
       "      <th>id</th>\n",
       "      <th>grant_cats</th>\n",
       "      <th>lead_org_dpts</th>\n",
       "      <th>status</th>\n",
       "      <th>title</th>\n",
       "    </tr>\n",
       "  </thead>\n",
       "  <tbody>\n",
       "    <tr>\n",
       "      <th>0</th>\n",
       "      <td>DC58EBBF-A402-4C83-A567-50AEEE8D63EC</td>\n",
       "      <td>Research Grant</td>\n",
       "      <td>School of Social Sciences</td>\n",
       "      <td>Active</td>\n",
       "      <td>The Impact of Price and Information on Water C...</td>\n",
       "    </tr>\n",
       "    <tr>\n",
       "      <th>1</th>\n",
       "      <td>D44A979C-2895-49B6-B411-4C54A11C1057</td>\n",
       "      <td>Research Grant</td>\n",
       "      <td>Plymouth Marine Lab</td>\n",
       "      <td>Active</td>\n",
       "      <td>Quantifying benefits and impacts of fishing ex...</td>\n",
       "    </tr>\n",
       "    <tr>\n",
       "      <th>2</th>\n",
       "      <td>D54AB9E8-00A2-4099-A446-4F3C37B7ED81</td>\n",
       "      <td>Studentship</td>\n",
       "      <td>Edinburgh College of Art</td>\n",
       "      <td>Active</td>\n",
       "      <td>Drawings by Joseph Beuys in the Collection of ...</td>\n",
       "    </tr>\n",
       "    <tr>\n",
       "      <th>3</th>\n",
       "      <td>D583EFCF-EF3D-499C-AFC3-4E771DA1808C</td>\n",
       "      <td>Training Grant</td>\n",
       "      <td>Graduate School</td>\n",
       "      <td>Closed</td>\n",
       "      <td>Liverpool - ESRC Standard Research Transition ...</td>\n",
       "    </tr>\n",
       "    <tr>\n",
       "      <th>4</th>\n",
       "      <td>D5ECC507-14CE-4FBD-B95F-4ECA3E95049E</td>\n",
       "      <td>Intramural</td>\n",
       "      <td>None</td>\n",
       "      <td>Active</td>\n",
       "      <td>Epigenetics and Development</td>\n",
       "    </tr>\n",
       "  </tbody>\n",
       "</table>\n",
       "</div>"
      ],
      "text/plain": [
       "                                     id      grant_cats  \\\n",
       "0  DC58EBBF-A402-4C83-A567-50AEEE8D63EC  Research Grant   \n",
       "1  D44A979C-2895-49B6-B411-4C54A11C1057  Research Grant   \n",
       "2  D54AB9E8-00A2-4099-A446-4F3C37B7ED81     Studentship   \n",
       "3  D583EFCF-EF3D-499C-AFC3-4E771DA1808C  Training Grant   \n",
       "4  D5ECC507-14CE-4FBD-B95F-4ECA3E95049E      Intramural   \n",
       "\n",
       "               lead_org_dpts  status  \\\n",
       "0  School of Social Sciences  Active   \n",
       "1        Plymouth Marine Lab  Active   \n",
       "2   Edinburgh College of Art  Active   \n",
       "3            Graduate School  Closed   \n",
       "4                       None  Active   \n",
       "\n",
       "                                               title  \n",
       "0  The Impact of Price and Information on Water C...  \n",
       "1  Quantifying benefits and impacts of fishing ex...  \n",
       "2  Drawings by Joseph Beuys in the Collection of ...  \n",
       "3  Liverpool - ESRC Standard Research Transition ...  \n",
       "4                        Epigenetics and Development  "
      ]
     },
     "execution_count": 25,
     "metadata": {},
     "output_type": "execute_result"
    }
   ],
   "source": [
    "df_projects.head()"
   ]
  },
  {
   "cell_type": "code",
   "execution_count": 26,
   "metadata": {
    "collapsed": false
   },
   "outputs": [],
   "source": [
    "# Merge all the dataframes using the ID as key\n",
    "df_merged = df_projects.merge(\n",
    "                df_projects_topic, on='id', sort=False, how='left').merge(\n",
    "                    df_projects_link, on='id', sort=False, how='left').merge(\n",
    "                        df_projects_subject, on='id', sort=False, how='left')"
   ]
  },
  {
   "cell_type": "code",
   "execution_count": 27,
   "metadata": {
    "collapsed": false
   },
   "outputs": [
    {
     "data": {
      "text/html": [
       "<div>\n",
       "<table border=\"1\" class=\"dataframe\">\n",
       "  <thead>\n",
       "    <tr style=\"text-align: right;\">\n",
       "      <th></th>\n",
       "      <th>id</th>\n",
       "      <th>grant_cats</th>\n",
       "      <th>lead_org_dpts</th>\n",
       "      <th>status</th>\n",
       "      <th>title</th>\n",
       "      <th>research_topic</th>\n",
       "      <th>href</th>\n",
       "      <th>rel</th>\n",
       "      <th>research_subject</th>\n",
       "    </tr>\n",
       "  </thead>\n",
       "  <tbody>\n",
       "    <tr>\n",
       "      <th>count</th>\n",
       "      <td>3269398</td>\n",
       "      <td>3269398</td>\n",
       "      <td>3144574</td>\n",
       "      <td>3269398</td>\n",
       "      <td>3269398</td>\n",
       "      <td>2895273</td>\n",
       "      <td>3269398</td>\n",
       "      <td>3269398</td>\n",
       "      <td>2895273</td>\n",
       "    </tr>\n",
       "    <tr>\n",
       "      <th>unique</th>\n",
       "      <td>65053</td>\n",
       "      <td>27</td>\n",
       "      <td>2401</td>\n",
       "      <td>2</td>\n",
       "      <td>55636</td>\n",
       "      <td>607</td>\n",
       "      <td>663699</td>\n",
       "      <td>35</td>\n",
       "      <td>82</td>\n",
       "    </tr>\n",
       "    <tr>\n",
       "      <th>top</th>\n",
       "      <td>BFC66D10-D65B-4997-9E19-AE1DDC8ED405</td>\n",
       "      <td>Research Grant</td>\n",
       "      <td>Physics</td>\n",
       "      <td>Closed</td>\n",
       "      <td>Horizon: Digital Economy Hub at the University...</td>\n",
       "      <td>Beyond the Standard Model</td>\n",
       "      <td>http://gtr.rcuk.ac.uk:80/gtr/api/organisations...</td>\n",
       "      <td>PUBLICATION</td>\n",
       "      <td>Info. &amp; commun. Technol.</td>\n",
       "    </tr>\n",
       "    <tr>\n",
       "      <th>freq</th>\n",
       "      <td>27450</td>\n",
       "      <td>2882279</td>\n",
       "      <td>189214</td>\n",
       "      <td>2246626</td>\n",
       "      <td>27450</td>\n",
       "      <td>96465</td>\n",
       "      <td>11359</td>\n",
       "      <td>1978332</td>\n",
       "      <td>146969</td>\n",
       "    </tr>\n",
       "  </tbody>\n",
       "</table>\n",
       "</div>"
      ],
      "text/plain": [
       "                                          id      grant_cats lead_org_dpts  \\\n",
       "count                                3269398         3269398       3144574   \n",
       "unique                                 65053              27          2401   \n",
       "top     BFC66D10-D65B-4997-9E19-AE1DDC8ED405  Research Grant       Physics   \n",
       "freq                                   27450         2882279        189214   \n",
       "\n",
       "         status                                              title  \\\n",
       "count   3269398                                            3269398   \n",
       "unique        2                                              55636   \n",
       "top      Closed  Horizon: Digital Economy Hub at the University...   \n",
       "freq    2246626                                              27450   \n",
       "\n",
       "                   research_topic  \\\n",
       "count                     2895273   \n",
       "unique                        607   \n",
       "top     Beyond the Standard Model   \n",
       "freq                        96465   \n",
       "\n",
       "                                                     href          rel  \\\n",
       "count                                             3269398      3269398   \n",
       "unique                                             663699           35   \n",
       "top     http://gtr.rcuk.ac.uk:80/gtr/api/organisations...  PUBLICATION   \n",
       "freq                                                11359      1978332   \n",
       "\n",
       "                research_subject  \n",
       "count                    2895273  \n",
       "unique                        82  \n",
       "top     Info. & commun. Technol.  \n",
       "freq                      146969  "
      ]
     },
     "execution_count": 27,
     "metadata": {},
     "output_type": "execute_result"
    }
   ],
   "source": [
    "# Sense check\n",
    "df_merged.describe()"
   ]
  },
  {
   "cell_type": "markdown",
   "metadata": {},
   "source": [
    "## Outcomes\n",
    "\n",
    "We can look at the `rel` column to identify the number and types of outcomes."
   ]
  },
  {
   "cell_type": "code",
   "execution_count": 28,
   "metadata": {
    "collapsed": false
   },
   "outputs": [
    {
     "data": {
      "text/plain": [
       "array(['PI_PER', 'COI_PER', 'LEAD_ORG', 'FUND', 'RESEARCH_PER',\n",
       "       'PUBLICATION', 'SUPER_PER', 'STUDENT_PER', 'TGH_PER', 'PM_PER',\n",
       "       'PARTICIPANT_ORG', 'PP_ORG', 'KEY_FINDING', 'IMPACT_SUMMARY',\n",
       "       'DISSEMINATION', 'FURTHER_FUNDING', 'IP', 'TRANSFER', 'COFUND_ORG',\n",
       "       'RESEARCH_COI_PER', 'COLLAB_ORG', 'COLLABORATION', 'PRODUCT',\n",
       "       'STUDENTSHIP', 'FELLOW_PER', 'FELLOW_ORG', 'RESEARCH_MATERIAL',\n",
       "       'TRANSFER_FROM', 'STUDENTSHIP_FROM', 'RESEARCH_DATABASE_AND_MODEL',\n",
       "       'POLICY', 'ARTISTIC_AND_CREATIVE_PRODUCT', 'STUDENT_PP_ORG',\n",
       "       'SOFTWARE_AND_TECHNICAL_PRODUCT', 'SPIN_OUT'], dtype=object)"
      ]
     },
     "execution_count": 28,
     "metadata": {},
     "output_type": "execute_result"
    }
   ],
   "source": [
    "# rel unique values\n",
    "df_merged.rel.unique()"
   ]
  },
  {
   "cell_type": "markdown",
   "metadata": {},
   "source": [
    "We can create a list of relevant outcomes and filter on that to view outcomes that are relevant."
   ]
  },
  {
   "cell_type": "code",
   "execution_count": 29,
   "metadata": {
    "collapsed": false
   },
   "outputs": [
    {
     "data": {
      "text/html": [
       "<div>\n",
       "<table border=\"1\" class=\"dataframe\">\n",
       "  <thead>\n",
       "    <tr style=\"text-align: right;\">\n",
       "      <th></th>\n",
       "      <th>id</th>\n",
       "      <th>grant_cats</th>\n",
       "      <th>lead_org_dpts</th>\n",
       "      <th>status</th>\n",
       "      <th>title</th>\n",
       "      <th>research_topic</th>\n",
       "      <th>href</th>\n",
       "      <th>rel</th>\n",
       "      <th>research_subject</th>\n",
       "    </tr>\n",
       "  </thead>\n",
       "  <tbody>\n",
       "    <tr>\n",
       "      <th>count</th>\n",
       "      <td>6083</td>\n",
       "      <td>6083</td>\n",
       "      <td>5966</td>\n",
       "      <td>6083</td>\n",
       "      <td>6083</td>\n",
       "      <td>5319</td>\n",
       "      <td>6083</td>\n",
       "      <td>6083</td>\n",
       "      <td>5319</td>\n",
       "    </tr>\n",
       "    <tr>\n",
       "      <th>unique</th>\n",
       "      <td>805</td>\n",
       "      <td>5</td>\n",
       "      <td>390</td>\n",
       "      <td>2</td>\n",
       "      <td>792</td>\n",
       "      <td>277</td>\n",
       "      <td>1933</td>\n",
       "      <td>7</td>\n",
       "      <td>70</td>\n",
       "    </tr>\n",
       "    <tr>\n",
       "      <th>top</th>\n",
       "      <td>B1EE98F8-4E51-40B7-8C3D-A882E08BC321</td>\n",
       "      <td>Research Grant</td>\n",
       "      <td>Social Sciences</td>\n",
       "      <td>Closed</td>\n",
       "      <td>IMPRINTS Identity Management: Public Responses...</td>\n",
       "      <td>Applied Arts HTP</td>\n",
       "      <td>http://gtr.rcuk.ac.uk:80/gtr/api/outcomes/rese...</td>\n",
       "      <td>ARTISTIC_AND_CREATIVE_PRODUCT</td>\n",
       "      <td>Visual arts</td>\n",
       "    </tr>\n",
       "    <tr>\n",
       "      <th>freq</th>\n",
       "      <td>275</td>\n",
       "      <td>5473</td>\n",
       "      <td>275</td>\n",
       "      <td>5993</td>\n",
       "      <td>275</td>\n",
       "      <td>162</td>\n",
       "      <td>25</td>\n",
       "      <td>1688</td>\n",
       "      <td>417</td>\n",
       "    </tr>\n",
       "  </tbody>\n",
       "</table>\n",
       "</div>"
      ],
      "text/plain": [
       "                                          id      grant_cats    lead_org_dpts  \\\n",
       "count                                   6083            6083             5966   \n",
       "unique                                   805               5              390   \n",
       "top     B1EE98F8-4E51-40B7-8C3D-A882E08BC321  Research Grant  Social Sciences   \n",
       "freq                                     275            5473              275   \n",
       "\n",
       "        status                                              title  \\\n",
       "count     6083                                               6083   \n",
       "unique       2                                                792   \n",
       "top     Closed  IMPRINTS Identity Management: Public Responses...   \n",
       "freq      5993                                                275   \n",
       "\n",
       "          research_topic                                               href  \\\n",
       "count               5319                                               6083   \n",
       "unique               277                                               1933   \n",
       "top     Applied Arts HTP  http://gtr.rcuk.ac.uk:80/gtr/api/outcomes/rese...   \n",
       "freq                 162                                                 25   \n",
       "\n",
       "                                  rel research_subject  \n",
       "count                            6083             5319  \n",
       "unique                              7               70  \n",
       "top     ARTISTIC_AND_CREATIVE_PRODUCT      Visual arts  \n",
       "freq                             1688              417  "
      ]
     },
     "execution_count": 29,
     "metadata": {},
     "output_type": "execute_result"
    }
   ],
   "source": [
    "outcomes = ['IP',\n",
    "            'PRODUCT',\n",
    "            'RESEARCH_DATABASE_AND_MODEL',\n",
    "            'POLICY',\n",
    "            'ARTISTIC_AND_CREATIVE_PRODUCT',\n",
    "            'SOFTWARE_AND_TECHNICAL_PRODUCT',\n",
    "            'SPIN_OUT']\n",
    "\n",
    "df_merged[df_merged.rel.isin(outcomes)].describe()"
   ]
  },
  {
   "cell_type": "code",
   "execution_count": 30,
   "metadata": {
    "collapsed": false
   },
   "outputs": [
    {
     "name": "stdout",
     "output_type": "stream",
     "text": [
      "IP: 691\n",
      "PRODUCT: 184\n",
      "RESEARCH_DATABASE_AND_MODEL: 1229\n",
      "POLICY: 1563\n",
      "ARTISTIC_AND_CREATIVE_PRODUCT: 1688\n",
      "SOFTWARE_AND_TECHNICAL_PRODUCT: 496\n",
      "SPIN_OUT: 232\n"
     ]
    },
    {
     "data": {
      "text/plain": [
       "[None, None, None, None, None, None, None]"
      ]
     },
     "execution_count": 30,
     "metadata": {},
     "output_type": "execute_result"
    }
   ],
   "source": [
    "[print('{}: {}'.format(outcome, df_merged[df_merged == outcome].rel.count())) for outcome in outcomes]"
   ]
  },
  {
   "cell_type": "code",
   "execution_count": 31,
   "metadata": {
    "collapsed": false
   },
   "outputs": [
    {
     "data": {
      "text/plain": [
       "'IMPRINTS Identity Management: Public Responses to IdeNtity Technologies and Services.'"
      ]
     },
     "execution_count": 31,
     "metadata": {},
     "output_type": "execute_result"
    }
   ],
   "source": [
    "df_merged[(df_merged.id == 'B1EE98F8-4E51-40B7-8C3D-A882E08BC321')].reset_index().ix[0].title"
   ]
  },
  {
   "cell_type": "code",
   "execution_count": 32,
   "metadata": {
    "collapsed": false
   },
   "outputs": [
    {
     "data": {
      "text/html": [
       "<div>\n",
       "<table border=\"1\" class=\"dataframe\">\n",
       "  <thead>\n",
       "    <tr style=\"text-align: right;\">\n",
       "      <th></th>\n",
       "      <th>id</th>\n",
       "      <th>grant_cats</th>\n",
       "      <th>lead_org_dpts</th>\n",
       "      <th>status</th>\n",
       "      <th>title</th>\n",
       "      <th>research_topic</th>\n",
       "      <th>href</th>\n",
       "      <th>rel</th>\n",
       "      <th>research_subject</th>\n",
       "    </tr>\n",
       "  </thead>\n",
       "  <tbody>\n",
       "    <tr>\n",
       "      <th>count</th>\n",
       "      <td>275</td>\n",
       "      <td>275</td>\n",
       "      <td>275</td>\n",
       "      <td>275</td>\n",
       "      <td>275</td>\n",
       "      <td>275</td>\n",
       "      <td>275</td>\n",
       "      <td>275</td>\n",
       "      <td>275</td>\n",
       "    </tr>\n",
       "    <tr>\n",
       "      <th>unique</th>\n",
       "      <td>1</td>\n",
       "      <td>1</td>\n",
       "      <td>1</td>\n",
       "      <td>1</td>\n",
       "      <td>1</td>\n",
       "      <td>5</td>\n",
       "      <td>11</td>\n",
       "      <td>2</td>\n",
       "      <td>5</td>\n",
       "    </tr>\n",
       "    <tr>\n",
       "      <th>top</th>\n",
       "      <td>B1EE98F8-4E51-40B7-8C3D-A882E08BC321</td>\n",
       "      <td>Research Grant</td>\n",
       "      <td>Social Sciences</td>\n",
       "      <td>Closed</td>\n",
       "      <td>IMPRINTS Identity Management: Public Responses...</td>\n",
       "      <td>Cultural Geography</td>\n",
       "      <td>http://gtr.rcuk.ac.uk:80/gtr/api/outcomes/arti...</td>\n",
       "      <td>POLICY</td>\n",
       "      <td>Psychology</td>\n",
       "    </tr>\n",
       "    <tr>\n",
       "      <th>freq</th>\n",
       "      <td>275</td>\n",
       "      <td>275</td>\n",
       "      <td>275</td>\n",
       "      <td>275</td>\n",
       "      <td>275</td>\n",
       "      <td>55</td>\n",
       "      <td>25</td>\n",
       "      <td>150</td>\n",
       "      <td>55</td>\n",
       "    </tr>\n",
       "  </tbody>\n",
       "</table>\n",
       "</div>"
      ],
      "text/plain": [
       "                                          id      grant_cats    lead_org_dpts  \\\n",
       "count                                    275             275              275   \n",
       "unique                                     1               1                1   \n",
       "top     B1EE98F8-4E51-40B7-8C3D-A882E08BC321  Research Grant  Social Sciences   \n",
       "freq                                     275             275              275   \n",
       "\n",
       "        status                                              title  \\\n",
       "count      275                                                275   \n",
       "unique       1                                                  1   \n",
       "top     Closed  IMPRINTS Identity Management: Public Responses...   \n",
       "freq       275                                                275   \n",
       "\n",
       "            research_topic                                               href  \\\n",
       "count                  275                                                275   \n",
       "unique                   5                                                 11   \n",
       "top     Cultural Geography  http://gtr.rcuk.ac.uk:80/gtr/api/outcomes/arti...   \n",
       "freq                    55                                                 25   \n",
       "\n",
       "           rel research_subject  \n",
       "count      275              275  \n",
       "unique       2                5  \n",
       "top     POLICY       Psychology  \n",
       "freq       150               55  "
      ]
     },
     "execution_count": 32,
     "metadata": {},
     "output_type": "execute_result"
    }
   ],
   "source": [
    "df_merged[(df_merged.id == 'B1EE98F8-4E51-40B7-8C3D-A882E08BC321') &\n",
    "          (df_merged.rel.isin(outcomes))].describe()"
   ]
  },
  {
   "cell_type": "markdown",
   "metadata": {},
   "source": [
    "Out of 65,053 projects, only 805 have at least one outcome recorded against them. The project with the single largest number of *relevant* outcomes against it is *IMPRINTS Identity Management: Public Responses to IdeNtity Technologies and Services*, at 275 outcomes. Of these, 150 were POLICY outcomes."
   ]
  },
  {
   "cell_type": "markdown",
   "metadata": {},
   "source": [
    "We can also look at the total number of all relevant outcomes."
   ]
  },
  {
   "cell_type": "code",
   "execution_count": 33,
   "metadata": {
    "collapsed": false
   },
   "outputs": [
    {
     "data": {
      "text/plain": [
       "ARTISTIC_AND_CREATIVE_PRODUCT     1688\n",
       "POLICY                            1563\n",
       "RESEARCH_DATABASE_AND_MODEL       1229\n",
       "IP                                 691\n",
       "SOFTWARE_AND_TECHNICAL_PRODUCT     496\n",
       "SPIN_OUT                           232\n",
       "PRODUCT                            184\n",
       "Name: rel, dtype: int64"
      ]
     },
     "execution_count": 33,
     "metadata": {},
     "output_type": "execute_result"
    }
   ],
   "source": [
    "df_merged.rel[df_merged.rel.isin(outcomes)].value_counts().sort_values(ascending=False)"
   ]
  },
  {
   "cell_type": "markdown",
   "metadata": {},
   "source": [
    "# People -> Projects Network Analysis\n",
    "\n",
    "It would be interesting to see what the network of researchers looks like in terms of project links. We can use the `href` column and the `id` column of the `df_merged` DataFrame to construct a network. To create the network, we need to pass a dataframe to a `networkx` method; here we join the two dataframes."
   ]
  },
  {
   "cell_type": "code",
   "execution_count": 36,
   "metadata": {
    "collapsed": false
   },
   "outputs": [],
   "source": [
    "G = nx.from_pandas_dataframe(df_merged,\n",
    "                             'href',\n",
    "                             'id',\n",
    "                             create_using=nx.Graph())"
   ]
  },
  {
   "cell_type": "code",
   "execution_count": null,
   "metadata": {
    "collapsed": false
   },
   "outputs": [],
   "source": [
    "degree_sequence=sorted(nx.degree(G).values(),reverse=True) # degree sequence"
   ]
  },
  {
   "cell_type": "code",
   "execution_count": null,
   "metadata": {
    "collapsed": false
   },
   "outputs": [],
   "source": [
    "dmax=max(degree_sequence)"
   ]
  },
  {
   "cell_type": "code",
   "execution_count": null,
   "metadata": {
    "collapsed": true
   },
   "outputs": [],
   "source": [
    "df.head()"
   ]
  }
 ],
 "metadata": {
  "kernelspec": {
   "display_name": "Python 3",
   "language": "python",
   "name": "python3"
  },
  "language_info": {
   "codemirror_mode": {
    "name": "ipython",
    "version": 3
   },
   "file_extension": ".py",
   "mimetype": "text/x-python",
   "name": "python",
   "nbconvert_exporter": "python",
   "pygments_lexer": "ipython3",
   "version": "3.5.1"
  }
 },
 "nbformat": 4,
 "nbformat_minor": 0
}
